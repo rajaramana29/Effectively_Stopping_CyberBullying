{
 "cells": [
  {
   "cell_type": "markdown",
   "metadata": {
    "colab_type": "text",
    "id": "8EokSNxD3O7m"
   },
   "source": [
    "# Problem Statement.\n",
    "## Given a comment classify it into toxic or non-toxic. Here toxic means comments that are unacceptable to a person or a community.\n",
    "\n",
    "## This project was inspired from the jigsaw unintended bias toxic comment classification which was hosted on kaggle."
   ]
  },
  {
   "cell_type": "markdown",
   "metadata": {
    "colab_type": "text",
    "id": "H0p9huIa3086"
   },
   "source": [
    "# The problem that we are solving here.\n",
    "## Background : \n",
    "### This problem was also solved earlier but there was a problem with the system . The system was a bit biased towards the use of unparliamentary/abusive words.\n",
    "### For example a sentence \"I am a gay\" or \"I am a black man.\" were classified as toxic comments. \n",
    "### Therefore the challenge was to get rid of this bias. To solve this problem a new metric was introduced by jigsaw. This metric also considers the identity of the person about whom the comment is made. You can get into  the details of the metric on the below link.\n",
    "<a href=\"https://www.kaggle.com/c/jigsaw-unintended-bias-in-toxicity-classification/overview/evaluation\">Click Here</a>\n"
   ]
  },
  {
   "cell_type": "markdown",
   "metadata": {
    "colab_type": "text",
    "id": "2WHF2FAsYj8L"
   },
   "source": [
    "# Exploratory  Data Analysis"
   ]
  },
  {
   "cell_type": "code",
   "execution_count": 1,
   "metadata": {
    "colab": {
     "base_uri": "https://localhost:8080/",
     "height": 122
    },
    "colab_type": "code",
    "id": "en1qQYZT29rn",
    "outputId": "5af387f5-aeff-4903-cd8e-add43a13a6a5"
   },
   "outputs": [
    {
     "name": "stdout",
     "output_type": "stream",
     "text": [
      "Go to this URL in a browser: https://accounts.google.com/o/oauth2/auth?client_id=947318989803-6bn6qk8qdgf4n4g3pfee6491hc0brc4i.apps.googleusercontent.com&redirect_uri=urn%3Aietf%3Awg%3Aoauth%3A2.0%3Aoob&scope=email%20https%3A%2F%2Fwww.googleapis.com%2Fauth%2Fdocs.test%20https%3A%2F%2Fwww.googleapis.com%2Fauth%2Fdrive%20https%3A%2F%2Fwww.googleapis.com%2Fauth%2Fdrive.photos.readonly%20https%3A%2F%2Fwww.googleapis.com%2Fauth%2Fpeopleapi.readonly&response_type=code\n",
      "\n",
      "Enter your authorization code:\n",
      "··········\n",
      "Mounted at /content/drive\n"
     ]
    }
   ],
   "source": [
    "from google.colab import drive\n",
    "drive.mount('/content/drive')"
   ]
  },
  {
   "cell_type": "markdown",
   "metadata": {
    "colab_type": "text",
    "id": "4Qa8JRLoKqQ7"
   },
   "source": [
    "# Loading Dataset"
   ]
  },
  {
   "cell_type": "code",
   "execution_count": 0,
   "metadata": {
    "colab": {
     "base_uri": "https://localhost:8080/",
     "height": 462
    },
    "colab_type": "code",
    "id": "HtMXpvJcYj8N",
    "outputId": "4c5c7910-53b7-479c-c74a-68fda689d19b"
   },
   "outputs": [
    {
     "data": {
      "text/html": [
       "<div>\n",
       "<style scoped>\n",
       "    .dataframe tbody tr th:only-of-type {\n",
       "        vertical-align: middle;\n",
       "    }\n",
       "\n",
       "    .dataframe tbody tr th {\n",
       "        vertical-align: top;\n",
       "    }\n",
       "\n",
       "    .dataframe thead th {\n",
       "        text-align: right;\n",
       "    }\n",
       "</style>\n",
       "<table border=\"1\" class=\"dataframe\">\n",
       "  <thead>\n",
       "    <tr style=\"text-align: right;\">\n",
       "      <th></th>\n",
       "      <th>id</th>\n",
       "      <th>target</th>\n",
       "      <th>comment_text</th>\n",
       "      <th>severe_toxicity</th>\n",
       "      <th>obscene</th>\n",
       "      <th>identity_attack</th>\n",
       "      <th>insult</th>\n",
       "      <th>threat</th>\n",
       "      <th>asian</th>\n",
       "      <th>atheist</th>\n",
       "      <th>bisexual</th>\n",
       "      <th>black</th>\n",
       "      <th>buddhist</th>\n",
       "      <th>christian</th>\n",
       "      <th>female</th>\n",
       "      <th>heterosexual</th>\n",
       "      <th>hindu</th>\n",
       "      <th>homosexual_gay_or_lesbian</th>\n",
       "      <th>intellectual_or_learning_disability</th>\n",
       "      <th>jewish</th>\n",
       "      <th>latino</th>\n",
       "      <th>male</th>\n",
       "      <th>muslim</th>\n",
       "      <th>other_disability</th>\n",
       "      <th>other_gender</th>\n",
       "      <th>other_race_or_ethnicity</th>\n",
       "      <th>other_religion</th>\n",
       "      <th>other_sexual_orientation</th>\n",
       "      <th>physical_disability</th>\n",
       "      <th>psychiatric_or_mental_illness</th>\n",
       "      <th>transgender</th>\n",
       "      <th>white</th>\n",
       "      <th>created_date</th>\n",
       "      <th>publication_id</th>\n",
       "      <th>parent_id</th>\n",
       "      <th>article_id</th>\n",
       "      <th>rating</th>\n",
       "      <th>funny</th>\n",
       "      <th>wow</th>\n",
       "      <th>sad</th>\n",
       "      <th>likes</th>\n",
       "      <th>disagree</th>\n",
       "      <th>sexual_explicit</th>\n",
       "      <th>identity_annotator_count</th>\n",
       "      <th>toxicity_annotator_count</th>\n",
       "    </tr>\n",
       "  </thead>\n",
       "  <tbody>\n",
       "    <tr>\n",
       "      <th>0</th>\n",
       "      <td>59848</td>\n",
       "      <td>0.000000</td>\n",
       "      <td>This is so cool. It's like, 'would you want yo...</td>\n",
       "      <td>0.000000</td>\n",
       "      <td>0.0</td>\n",
       "      <td>0.000000</td>\n",
       "      <td>0.00000</td>\n",
       "      <td>0.0</td>\n",
       "      <td>NaN</td>\n",
       "      <td>NaN</td>\n",
       "      <td>NaN</td>\n",
       "      <td>NaN</td>\n",
       "      <td>NaN</td>\n",
       "      <td>NaN</td>\n",
       "      <td>NaN</td>\n",
       "      <td>NaN</td>\n",
       "      <td>NaN</td>\n",
       "      <td>NaN</td>\n",
       "      <td>NaN</td>\n",
       "      <td>NaN</td>\n",
       "      <td>NaN</td>\n",
       "      <td>NaN</td>\n",
       "      <td>NaN</td>\n",
       "      <td>NaN</td>\n",
       "      <td>NaN</td>\n",
       "      <td>NaN</td>\n",
       "      <td>NaN</td>\n",
       "      <td>NaN</td>\n",
       "      <td>NaN</td>\n",
       "      <td>NaN</td>\n",
       "      <td>NaN</td>\n",
       "      <td>NaN</td>\n",
       "      <td>2015-09-29 10:50:41.987077+00</td>\n",
       "      <td>2</td>\n",
       "      <td>NaN</td>\n",
       "      <td>2006</td>\n",
       "      <td>rejected</td>\n",
       "      <td>0</td>\n",
       "      <td>0</td>\n",
       "      <td>0</td>\n",
       "      <td>0</td>\n",
       "      <td>0</td>\n",
       "      <td>0.0</td>\n",
       "      <td>0</td>\n",
       "      <td>4</td>\n",
       "    </tr>\n",
       "    <tr>\n",
       "      <th>1</th>\n",
       "      <td>59849</td>\n",
       "      <td>0.000000</td>\n",
       "      <td>Thank you!! This would make my life a lot less...</td>\n",
       "      <td>0.000000</td>\n",
       "      <td>0.0</td>\n",
       "      <td>0.000000</td>\n",
       "      <td>0.00000</td>\n",
       "      <td>0.0</td>\n",
       "      <td>NaN</td>\n",
       "      <td>NaN</td>\n",
       "      <td>NaN</td>\n",
       "      <td>NaN</td>\n",
       "      <td>NaN</td>\n",
       "      <td>NaN</td>\n",
       "      <td>NaN</td>\n",
       "      <td>NaN</td>\n",
       "      <td>NaN</td>\n",
       "      <td>NaN</td>\n",
       "      <td>NaN</td>\n",
       "      <td>NaN</td>\n",
       "      <td>NaN</td>\n",
       "      <td>NaN</td>\n",
       "      <td>NaN</td>\n",
       "      <td>NaN</td>\n",
       "      <td>NaN</td>\n",
       "      <td>NaN</td>\n",
       "      <td>NaN</td>\n",
       "      <td>NaN</td>\n",
       "      <td>NaN</td>\n",
       "      <td>NaN</td>\n",
       "      <td>NaN</td>\n",
       "      <td>NaN</td>\n",
       "      <td>2015-09-29 10:50:42.870083+00</td>\n",
       "      <td>2</td>\n",
       "      <td>NaN</td>\n",
       "      <td>2006</td>\n",
       "      <td>rejected</td>\n",
       "      <td>0</td>\n",
       "      <td>0</td>\n",
       "      <td>0</td>\n",
       "      <td>0</td>\n",
       "      <td>0</td>\n",
       "      <td>0.0</td>\n",
       "      <td>0</td>\n",
       "      <td>4</td>\n",
       "    </tr>\n",
       "    <tr>\n",
       "      <th>2</th>\n",
       "      <td>59852</td>\n",
       "      <td>0.000000</td>\n",
       "      <td>This is such an urgent design problem; kudos t...</td>\n",
       "      <td>0.000000</td>\n",
       "      <td>0.0</td>\n",
       "      <td>0.000000</td>\n",
       "      <td>0.00000</td>\n",
       "      <td>0.0</td>\n",
       "      <td>NaN</td>\n",
       "      <td>NaN</td>\n",
       "      <td>NaN</td>\n",
       "      <td>NaN</td>\n",
       "      <td>NaN</td>\n",
       "      <td>NaN</td>\n",
       "      <td>NaN</td>\n",
       "      <td>NaN</td>\n",
       "      <td>NaN</td>\n",
       "      <td>NaN</td>\n",
       "      <td>NaN</td>\n",
       "      <td>NaN</td>\n",
       "      <td>NaN</td>\n",
       "      <td>NaN</td>\n",
       "      <td>NaN</td>\n",
       "      <td>NaN</td>\n",
       "      <td>NaN</td>\n",
       "      <td>NaN</td>\n",
       "      <td>NaN</td>\n",
       "      <td>NaN</td>\n",
       "      <td>NaN</td>\n",
       "      <td>NaN</td>\n",
       "      <td>NaN</td>\n",
       "      <td>NaN</td>\n",
       "      <td>2015-09-29 10:50:45.222647+00</td>\n",
       "      <td>2</td>\n",
       "      <td>NaN</td>\n",
       "      <td>2006</td>\n",
       "      <td>rejected</td>\n",
       "      <td>0</td>\n",
       "      <td>0</td>\n",
       "      <td>0</td>\n",
       "      <td>0</td>\n",
       "      <td>0</td>\n",
       "      <td>0.0</td>\n",
       "      <td>0</td>\n",
       "      <td>4</td>\n",
       "    </tr>\n",
       "    <tr>\n",
       "      <th>3</th>\n",
       "      <td>59855</td>\n",
       "      <td>0.000000</td>\n",
       "      <td>Is this something I'll be able to install on m...</td>\n",
       "      <td>0.000000</td>\n",
       "      <td>0.0</td>\n",
       "      <td>0.000000</td>\n",
       "      <td>0.00000</td>\n",
       "      <td>0.0</td>\n",
       "      <td>NaN</td>\n",
       "      <td>NaN</td>\n",
       "      <td>NaN</td>\n",
       "      <td>NaN</td>\n",
       "      <td>NaN</td>\n",
       "      <td>NaN</td>\n",
       "      <td>NaN</td>\n",
       "      <td>NaN</td>\n",
       "      <td>NaN</td>\n",
       "      <td>NaN</td>\n",
       "      <td>NaN</td>\n",
       "      <td>NaN</td>\n",
       "      <td>NaN</td>\n",
       "      <td>NaN</td>\n",
       "      <td>NaN</td>\n",
       "      <td>NaN</td>\n",
       "      <td>NaN</td>\n",
       "      <td>NaN</td>\n",
       "      <td>NaN</td>\n",
       "      <td>NaN</td>\n",
       "      <td>NaN</td>\n",
       "      <td>NaN</td>\n",
       "      <td>NaN</td>\n",
       "      <td>NaN</td>\n",
       "      <td>2015-09-29 10:50:47.601894+00</td>\n",
       "      <td>2</td>\n",
       "      <td>NaN</td>\n",
       "      <td>2006</td>\n",
       "      <td>rejected</td>\n",
       "      <td>0</td>\n",
       "      <td>0</td>\n",
       "      <td>0</td>\n",
       "      <td>0</td>\n",
       "      <td>0</td>\n",
       "      <td>0.0</td>\n",
       "      <td>0</td>\n",
       "      <td>4</td>\n",
       "    </tr>\n",
       "    <tr>\n",
       "      <th>4</th>\n",
       "      <td>59856</td>\n",
       "      <td>0.893617</td>\n",
       "      <td>haha you guys are a bunch of losers.</td>\n",
       "      <td>0.021277</td>\n",
       "      <td>0.0</td>\n",
       "      <td>0.021277</td>\n",
       "      <td>0.87234</td>\n",
       "      <td>0.0</td>\n",
       "      <td>0.0</td>\n",
       "      <td>0.0</td>\n",
       "      <td>0.0</td>\n",
       "      <td>0.0</td>\n",
       "      <td>0.0</td>\n",
       "      <td>0.0</td>\n",
       "      <td>0.0</td>\n",
       "      <td>0.0</td>\n",
       "      <td>0.0</td>\n",
       "      <td>0.0</td>\n",
       "      <td>0.25</td>\n",
       "      <td>0.0</td>\n",
       "      <td>0.0</td>\n",
       "      <td>0.0</td>\n",
       "      <td>0.0</td>\n",
       "      <td>0.0</td>\n",
       "      <td>0.0</td>\n",
       "      <td>0.0</td>\n",
       "      <td>0.0</td>\n",
       "      <td>0.0</td>\n",
       "      <td>0.0</td>\n",
       "      <td>0.0</td>\n",
       "      <td>0.0</td>\n",
       "      <td>0.0</td>\n",
       "      <td>2015-09-29 10:50:48.488476+00</td>\n",
       "      <td>2</td>\n",
       "      <td>NaN</td>\n",
       "      <td>2006</td>\n",
       "      <td>rejected</td>\n",
       "      <td>0</td>\n",
       "      <td>0</td>\n",
       "      <td>0</td>\n",
       "      <td>1</td>\n",
       "      <td>0</td>\n",
       "      <td>0.0</td>\n",
       "      <td>4</td>\n",
       "      <td>47</td>\n",
       "    </tr>\n",
       "  </tbody>\n",
       "</table>\n",
       "</div>"
      ],
      "text/plain": [
       "      id    target  ... identity_annotator_count  toxicity_annotator_count\n",
       "0  59848  0.000000  ...                        0                         4\n",
       "1  59849  0.000000  ...                        0                         4\n",
       "2  59852  0.000000  ...                        0                         4\n",
       "3  59855  0.000000  ...                        0                         4\n",
       "4  59856  0.893617  ...                        4                        47\n",
       "\n",
       "[5 rows x 45 columns]"
      ]
     },
     "execution_count": 2,
     "metadata": {
      "tags": []
     },
     "output_type": "execute_result"
    }
   ],
   "source": [
    "import pandas as pd\n",
    "df = pd.read_csv(\"/content/drive/My Drive/Project/train.csv\")\n",
    "df.head()"
   ]
  },
  {
   "cell_type": "code",
   "execution_count": 0,
   "metadata": {
    "colab": {
     "base_uri": "https://localhost:8080/",
     "height": 34
    },
    "colab_type": "code",
    "id": "QqDZlqmdYj8V",
    "outputId": "3ffe95e1-1e1c-4459-e004-fb3653bbb801"
   },
   "outputs": [
    {
     "name": "stdout",
     "output_type": "stream",
     "text": [
      "(1804874, 45)\n"
     ]
    }
   ],
   "source": [
    "#print(df.shape)\n",
    "#df = df.sample(500000)\n",
    "print(df.shape)"
   ]
  },
  {
   "cell_type": "code",
   "execution_count": 0,
   "metadata": {
    "colab": {
     "base_uri": "https://localhost:8080/",
     "height": 34
    },
    "colab_type": "code",
    "id": "4UwqAY0BwEDN",
    "outputId": "45e37635-ee0b-431b-b829-e28cb35edf83"
   },
   "outputs": [
    {
     "data": {
      "text/plain": [
       "(1780823, 45)"
      ]
     },
     "execution_count": 4,
     "metadata": {
      "tags": []
     },
     "output_type": "execute_result"
    }
   ],
   "source": [
    "df = df.drop_duplicates(subset={'comment_text'},keep='first')\n",
    "df.shape"
   ]
  },
  {
   "cell_type": "markdown",
   "metadata": {
    "colab_type": "text",
    "id": "zFY0EQn2Yj9K"
   },
   "source": [
    "### Looking the absuive words used in the comments."
   ]
  },
  {
   "cell_type": "code",
   "execution_count": 0,
   "metadata": {
    "colab": {
     "base_uri": "https://localhost:8080/",
     "height": 34
    },
    "colab_type": "code",
    "id": "Hwfe7u52Yj9M",
    "outputId": "0c3b4981-283b-4602-c05e-34febcec74ff"
   },
   "outputs": [
    {
     "name": "stderr",
     "output_type": "stream",
     "text": [
      "100%|██████████| 1780823/1780823 [01:58<00:00, 15073.35it/s]\n"
     ]
    }
   ],
   "source": [
    "# Lets find the words that contains letters or character that are not present in english\n",
    "import re\n",
    "from tqdm import tqdm\n",
    "\n",
    "non_eng_words = {}\n",
    "pattern = re.compile(r'([fadpbit]{1,4}[*]{1,4}[ingkscyhabd]{1,4})')\n",
    "\n",
    "for sent in tqdm(df['comment_text'].values):\n",
    "    sent = re.sub(r'[^a-zA-Z* ]',' ',sent)\n",
    "    for wrd in sent.split():\n",
    "        if(re.match(pattern,wrd) and len(wrd)>2):\n",
    "            if(non_eng_words.get(wrd,-1)<0):\n",
    "                non_eng_words[wrd] = 1\n",
    "            else:\n",
    "                non_eng_words[wrd] += 1"
   ]
  },
  {
   "cell_type": "code",
   "execution_count": 0,
   "metadata": {
    "colab": {
     "base_uri": "https://localhost:8080/",
     "height": 1000
    },
    "colab_type": "code",
    "id": "Zm68pnCKYj9a",
    "outputId": "bb2c563b-2859-436a-a7f8-c3a11775b968"
   },
   "outputs": [
    {
     "name": "stdout",
     "output_type": "stream",
     "text": [
      "Number of aabusive words wused are \n",
      "p***y -> 73\n",
      "p*ssy -> 65\n",
      "f**k -> 45\n",
      "a**hole -> 38\n",
      "f*ck -> 29\n",
      "a**holes -> 27\n",
      "p*ss -> 25\n",
      "f*cking -> 18\n",
      "f***ing -> 17\n",
      "f**king -> 15\n",
      "p*ssed -> 13\n",
      "p**sy -> 13\n",
      "a*s -> 10\n",
      "f**ked -> 10\n",
      "b***h -> 9\n",
      "f*cked -> 8\n",
      "d*ck -> 7\n",
      "p**s -> 7\n",
      "p*ssie -> 6\n",
      "p*ssing -> 6\n",
      "a**clown -> 6\n",
      "bit*h -> 5\n",
      "d**k -> 5\n",
      "b**ch -> 5\n",
      "f*cks -> 4\n",
      "p**y -> 4\n",
      "d****d -> 3\n",
      "p***ing -> 3\n",
      "pi*s -> 3\n",
      "p***ies -> 3\n",
      "p*nis -> 3\n",
      "b*itch -> 3\n",
      "d**n -> 3\n",
      "d**ks -> 3\n",
      "b*stards -> 3\n",
      "f**cker -> 3\n",
      "p****y -> 3\n",
      "a**clowns -> 3\n",
      "p****d -> 2\n",
      "pi**ing -> 2\n",
      "bi*ch -> 2\n",
      "a*sholes -> 2\n",
      "f**ks -> 2\n",
      "f*k -> 2\n",
      "a*se -> 2\n",
      "f***in -> 2\n",
      "f***n -> 2\n",
      "d*amn -> 2\n",
      "f**kin -> 2\n",
      "p*ss* -> 2\n",
      "p*ssies -> 2\n",
      "f****d -> 2\n",
      "f****ing -> 2\n",
      "a**hats -> 2\n",
      "b***s -> 2\n",
      "p*sses -> 2\n",
      "p*ss*ng -> 2\n",
      "f***king -> 2\n",
      "b*stard -> 2\n",
      "p*s*y -> 2\n",
      "f*ckers -> 2\n",
      "d*ckhead -> 2\n",
      "f****s -> 2\n",
      "a***holes -> 2\n",
      "a*holes -> 2\n",
      "t**d -> 2\n",
      "f*ckin -> 1\n",
      "b**ching -> 1\n",
      "a*a* -> 1\n",
      "f*c*ing -> 1\n",
      "bat*hit -> 1\n",
      "f***g -> 1\n",
      "d***s -> 1\n",
      "a*shole -> 1\n",
      "p****s -> 1\n",
      "b*sta*ds -> 1\n",
      "p**s* -> 1\n",
      "p****ies -> 1\n",
      "b*gg*r -> 1\n",
      "f*c*king -> 1\n",
      "f***s -> 1\n",
      "a*ss -> 1\n",
      "bat****crazy -> 1\n",
      "p*sspot -> 1\n",
      "p***ys -> 1\n",
      "ba**ards -> 1\n",
      "f**kc -> 1\n",
      "di*k -> 1\n",
      "f*ck*d -> 1\n",
      "b*alls -> 1\n",
      "di*ks -> 1\n",
      "f*c* -> 1\n",
      "b****h -> 1\n",
      "f*kcyouCanada -> 1\n",
      "t*g -> 1\n",
      "a**h*** -> 1\n",
      "f**ken -> 1\n",
      "f**g -> 1\n",
      "f**ing -> 1\n",
      "a**holery -> 1\n",
      "f**kem -> 1\n",
      "i*iot -> 1\n",
      "a**hat -> 1\n",
      "f**cking -> 1\n",
      "f**ching -> 1\n",
      "d*icks -> 1\n",
      "t*i*t -> 1\n",
      "a**h**e -> 1\n",
      "f***ked -> 1\n",
      "b***s**t -> 1\n",
      "b*st*rd -> 1\n",
      "b***ch -> 1\n",
      "p*as -> 1\n",
      "a****and -> 1\n",
      "f*ggots -> 1\n",
      "da*n -> 1\n",
      "a**h* -> 1\n",
      "f**cked -> 1\n",
      "t*h -> 1\n",
      "id*iot -> 1\n",
      "b****s -> 1\n",
      "bit*hes -> 1\n",
      "b***ches -> 1\n",
      "fa**in -> 1\n",
      "b**hes -> 1\n",
      "da*ned -> 1\n",
      "p**a -> 1\n",
      "t**s -> 1\n",
      "di*cks -> 1\n",
      "d**ned -> 1\n",
      "f*ckup -> 1\n",
      "a***hole -> 1\n",
      "p*sssy -> 1\n",
      "a*hole -> 1\n",
      "f***k -> 1\n",
      "p****grabber -> 1\n",
      "f***able -> 1\n",
      "bi**h -> 1\n",
      "a**ing -> 1\n",
      "d*do -> 1\n",
      "p**ck -> 1\n",
      "di**s -> 1\n",
      "f*ggot -> 1\n",
      "d*ke -> 1\n",
      "f*g -> 1\n"
     ]
    }
   ],
   "source": [
    "# Now we will store these words and their counts in a list.\n",
    "wrds = []\n",
    "counts = []\n",
    "for wrd in sorted(non_eng_words, key=non_eng_words.get, reverse=True):\n",
    "    if(len(wrd)<30):\n",
    "        wrds.append(wrd)\n",
    "        counts.append(non_eng_words[wrd])\n",
    "print(\"Number of aabusive words wused are \".format(len(non_eng_words)))\n",
    "        \n",
    "## Abusive words present in the comments.\n",
    "for i in range(len(wrds)):\n",
    "    print(wrds[i],\"->\",counts[i])"
   ]
  },
  {
   "cell_type": "markdown",
   "metadata": {
    "colab_type": "text",
    "id": "gWuYp_sL-kKB"
   },
   "source": [
    "### Data Cleaning"
   ]
  },
  {
   "cell_type": "code",
   "execution_count": 0,
   "metadata": {
    "colab": {},
    "colab_type": "code",
    "id": "XqwmrvE-Yj9_"
   },
   "outputs": [],
   "source": [
    "\n",
    "# Ref: https://www.kaggle.com/haqishen/jigsaw-predict\n",
    "# We are creating a dict with shortened word as key and actual word as value.\n",
    "apostophe_dict = {\"ain't\": \"is not\", \"aren't\": \"are not\",\"can't\": \"cannot\", \"'cause\": \"because\", \"could've\": \"could have\",\n",
    "                  \"couldn't\": \"could not\", \"didn't\": \"did not\",  \"doesn't\": \"does not\", \"don't\": \"do not\", \"hadn't\": \"had not\",\n",
    "                  \"hasn't\": \"has not\", \"haven't\": \"have not\", \"he'd\": \"he would\",\"he'll\": \"he will\", \"he's\": \"he is\",\n",
    "                  \"how'd\": \"how did\", \"how'd'y\": \"how do you\", \"how'll\": \"how will\", \"how's\": \"how is\",  \"I'd\": \"I would\",\n",
    "                  \"I'd've\": \"I would have\", \"I'll\": \"I will\", \"I'll've\": \"I will have\",\"I'm\": \"I am\", \"I've\": \"I have\",\n",
    "                  \"i'd\": \"i would\", \"i'd've\": \"i would have\", \"i'll\": \"i will\",  \"i'll've\": \"i will have\",\"i'm\": \"i am\",\n",
    "                  \"i've\": \"i have\", \"isn't\": \"is not\", \"it'd\": \"it would\", \"it'd've\": \"it would have\", \"it'll\": \"it will\",\n",
    "                  \"it'll've\": \"it will have\",\"it's\": \"it is\", \"let's\": \"let us\", \"ma'am\": \"madam\", \"mayn't\": \"may not\",\n",
    "                  \"might've\": \"might have\",\"mightn't\": \"might not\",\"mightn't've\": \"might not have\", \"must've\": \"must have\",\n",
    "                  \"mustn't\": \"must not\", \"mustn't've\": \"must not have\", \"needn't\": \"need not\", \"needn't've\": \"need not have\",\n",
    "                  \"o'clock\": \"of the clock\", \"oughtn't\": \"ought not\", \"oughtn't've\": \"ought not have\", \"shan't\": \"shall not\",\n",
    "                  \"sha'n't\": \"shall not\", \"shan't've\": \"shall not have\", \"she'd\": \"she would\", \"she'd've\": \"she would have\",\n",
    "                  \"she'll\": \"she will\", \"she'll've\": \"she will have\", \"she's\": \"she is\", \"should've\": \"should have\",\n",
    "                  \"shouldn't\": \"should not\", \"shouldn't've\": \"should not have\", \"so've\": \"so have\",\"so's\": \"so as\",\n",
    "                  \"this's\": \"this is\",\"that'd\": \"that would\", \"that'd've\": \"that would have\", \"that's\": \"that is\",\n",
    "                  \"there'd\": \"there would\", \"there'd've\": \"there would have\", \"there's\": \"there is\", \"here's\": \"here is\",\n",
    "                  \"they'd\": \"they would\", \"they'd've\": \"they would have\", \"they'll\": \"they will\", \"they'll've\": \"they will have\",\n",
    "                  \"they're\": \"they are\", \"they've\": \"they have\", \"to've\": \"to have\", \"wasn't\": \"was not\", \"we'd\": \"we would\",\n",
    "                  \"we'd've\": \"we would have\", \"we'll\": \"we will\", \"we'll've\": \"we will have\", \"we're\": \"we are\",\n",
    "                  \"we've\": \"we have\", \"weren't\": \"were not\", \"what'll\": \"what will\", \"what'll've\": \"what will have\",\n",
    "                  \"what're\": \"what are\",  \"what's\": \"what is\", \"what've\": \"what have\", \"when's\": \"when is\",\n",
    "                  \"when've\": \"when have\", \"where'd\": \"where did\", \"where's\": \"where is\", \"where've\": \"where have\",\n",
    "                  \"who'll\": \"who will\", \"who'll've\": \"who will have\", \"who's\": \"who is\", \"who've\": \"who have\",\n",
    "                  \"why's\": \"why is\", \"why've\": \"why have\", \"will've\": \"will have\", \"won't\": \"will not\",\n",
    "                  \"won't've\": \"will not have\", \"would've\": \"would have\", \"wouldn't\": \"would not\",\n",
    "                  \"wouldn't've\": \"would not have\", \"y'all\": \"you all\", \"y'all'd\": \"you all would\",\n",
    "                  \"y'all'd've\": \"you all would have\",\"y'all're\": \"you all are\",\"y'all've\": \"you all have\",\"you'd\": \"you would\",\n",
    "                  \"you'd've\": \"you would have\", \"you'll\": \"you will\", \"you'll've\": \"you will have\", \"you're\": \"you are\",\n",
    "                  \"you've\": \"you have\" }\n"
   ]
  },
  {
   "cell_type": "code",
   "execution_count": 0,
   "metadata": {
    "colab": {
     "base_uri": "https://localhost:8080/",
     "height": 51
    },
    "colab_type": "code",
    "id": "IEeOYrHj9B7i",
    "outputId": "a62b6041-905d-4ab9-ecd3-5004bc79edd3"
   },
   "outputs": [
    {
     "name": "stdout",
     "output_type": "stream",
     "text": [
      "[nltk_data] Downloading package stopwords to /root/nltk_data...\n",
      "[nltk_data]   Unzipping corpora/stopwords.zip.\n"
     ]
    }
   ],
   "source": [
    "import nltk\n",
    "nltk.download('stopwords')\n",
    "from nltk.corpus import stopwords\n",
    "stopwords = list(stopwords.words('english'))"
   ]
  },
  {
   "cell_type": "code",
   "execution_count": 0,
   "metadata": {
    "colab": {},
    "colab_type": "code",
    "id": "C7rKRNfa9CLe"
   },
   "outputs": [],
   "source": [
    "import re\n",
    "\n",
    "def process_sent(sent):\n",
    "    line = ''\n",
    "    for wrd in sent.split():\n",
    "        if(len(apostophe_dict.get(wrd.lower(),'n'))>1 and wrd.lower() not in stopwords and len(wrd)>2):\n",
    "            wrd = apostophe_dict[wrd.lower()]\n",
    "            n_wrd = ''\n",
    "            for w in wrd.split():\n",
    "                if(w not in stopwords):\n",
    "                    n_wrd += \" \"+w\n",
    "            line += \" \"+n_wrd\n",
    "        else:\n",
    "            line += \" \"+ wrd.lower()    \n",
    "    line = re.sub(r'[^a-zA-Z* ]',' ',line)\n",
    "    return line"
   ]
  },
  {
   "cell_type": "code",
   "execution_count": 0,
   "metadata": {
    "colab": {
     "base_uri": "https://localhost:8080/",
     "height": 34
    },
    "colab_type": "code",
    "id": "xAkmxr6Y-2or",
    "outputId": "69f18be2-237e-43ac-e588-2ec091f138de"
   },
   "outputs": [
    {
     "name": "stderr",
     "output_type": "stream",
     "text": [
      "100%|██████████| 1780823/1780823 [01:52<00:00, 15806.98it/s]\n"
     ]
    }
   ],
   "source": [
    "# Preprocessing the comments.\n",
    "preprocessed_data = []\n",
    "from tqdm import tqdm\n",
    "for sent in tqdm(df['comment_text'].values):\n",
    "    sent = process_sent(sent)\n",
    "    line = ''\n",
    "    for wrd in sent.split():\n",
    "        if(len(wrd)>2):\n",
    "            line += \" \" +wrd.lower()\n",
    "    line = re.sub(r\"[']\",'',line)\n",
    "    preprocessed_data.append(line)"
   ]
  },
  {
   "cell_type": "code",
   "execution_count": 0,
   "metadata": {
    "colab": {},
    "colab_type": "code",
    "id": "aBoBrIuz-2iN"
   },
   "outputs": [],
   "source": [
    "df['comment_text'] = preprocessed_data"
   ]
  },
  {
   "cell_type": "markdown",
   "metadata": {
    "colab_type": "text",
    "id": "mHh3Vpfo_jji"
   },
   "source": [
    "### Splitting data"
   ]
  },
  {
   "cell_type": "code",
   "execution_count": 0,
   "metadata": {
    "colab": {
     "base_uri": "https://localhost:8080/",
     "height": 34
    },
    "colab_type": "code",
    "id": "kbd5sTCL7l0s",
    "outputId": "059a524a-f459-48dc-d8f3-75662e9911e2"
   },
   "outputs": [
    {
     "name": "stdout",
     "output_type": "stream",
     "text": [
      "(1442466, 45) (178083, 45)\n"
     ]
    }
   ],
   "source": [
    "from sklearn.model_selection import train_test_split\n",
    "# To train and validate classical machine models use cv datset also. \n",
    "Y = df['target'].values\n",
    "train,test,Y_train,Y_test = train_test_split(df,Y,test_size=0.1,random_state=42)\n",
    "train,cv,Y_train,Y_cv = train_test_split(train,Y_train,test_size=0.1,random_state=42)\n",
    "print((train.shape),(test.shape))"
   ]
  },
  {
   "cell_type": "code",
   "execution_count": 0,
   "metadata": {
    "colab": {},
    "colab_type": "code",
    "id": "QBeovSv8GiZd"
   },
   "outputs": [],
   "source": [
    "identity_columns = [\n",
    "        'male', 'female', 'homosexual_gay_or_lesbian', 'christian', 'jewish',\n",
    "        'muslim', 'black', 'white', 'psychiatric_or_mental_illness']\n"
   ]
  },
  {
   "cell_type": "code",
   "execution_count": 0,
   "metadata": {
    "colab": {},
    "colab_type": "code",
    "id": "dk9s2VwFHNqc"
   },
   "outputs": [],
   "source": [
    "import numpy as np\n",
    "seed = 1029\n",
    "\n",
    "train_x = train['comment_text'].fillna('_##_').values\n",
    "test_x = test['comment_text'].fillna('_##_').values\n",
    "cv_x = cv['comment_text'].fillna('_##_').values\n",
    "\n",
    "# For gtrain\n",
    "weights = np.ones((len(train),))\n",
    "weights += train[identity_columns].fillna(0).values.sum(axis=1) * 3\n",
    "weights += train['target'].values * 8\n",
    "weights /= weights.max()\n",
    "train_y = np.vstack([train['target'], weights]).T   \n",
    "train_y_identity = train[identity_columns].values\n",
    "\n",
    "# For test\n",
    "weights = np.ones((len(test),))\n",
    "weights += test[identity_columns].fillna(0).values.sum(axis=1) * 3\n",
    "weights += test['target'].values * 8\n",
    "weights /= weights.max()\n",
    "test_y = np.vstack([test['target'], weights]).T   \n",
    "test_y_identity = test[identity_columns].values\n",
    "\n",
    "# For cv\n",
    "weights = np.ones((len(cv),))\n",
    "weights += cv[identity_columns].fillna(0).values.sum(axis=1) * 3\n",
    "weights += cv['target'].values * 8\n",
    "weights /= weights.max()\n",
    "cv_y = np.vstack([cv['target'], weights]).T    \n",
    "cv_y_identity = cv[identity_columns].values\n",
    "\n",
    "# shuffling the data\n",
    "np.random.seed(seed)\n",
    "train_idx = np.random.permutation(len(train_x))\n",
    "test_idx = np.random.permutation(len(test_x))\n",
    "cv_idx = np.random.permutation(len(cv_x))\n",
    "\n",
    "train_x = train_x[train_idx]\n",
    "train_y = train_y[train_idx]\n",
    "train_y_identity = train_y_identity[train_idx]\n",
    "\n",
    "\n",
    "test_x = test_x[test_idx]\n",
    "test_y = test_y[test_idx]\n",
    "test_y_identity = test_y_identity[test_idx]\n",
    "\n",
    "\n",
    "cv_x = cv_x[cv_idx]\n",
    "cv_y = cv_y[cv_idx]\n",
    "cv_y_identity = cv_y_identity[cv_idx]"
   ]
  },
  {
   "cell_type": "code",
   "execution_count": 0,
   "metadata": {
    "colab": {
     "base_uri": "https://localhost:8080/",
     "height": 68
    },
    "colab_type": "code",
    "id": "gVMR8tQVSRNE",
    "outputId": "6a32eab2-e30e-4ef6-8bf8-e6b0ed7bc8e9"
   },
   "outputs": [
    {
     "name": "stderr",
     "output_type": "stream",
     "text": [
      "/usr/local/lib/python3.6/dist-packages/ipykernel_launcher.py:2: RuntimeWarning: invalid value encountered in greater_equal\n",
      "  \n"
     ]
    },
    {
     "data": {
      "text/plain": [
       "(178083, 9)"
      ]
     },
     "execution_count": 15,
     "metadata": {
      "tags": []
     },
     "output_type": "execute_result"
    }
   ],
   "source": [
    "y_binary = (test_y[:, 0] >= 0.5).astype(int)\n",
    "y_identity_binary = (test_y_identity >= 0.5).astype(int)\n",
    "y_identity_binary.shape\n"
   ]
  },
  {
   "cell_type": "code",
   "execution_count": 0,
   "metadata": {
    "colab": {
     "base_uri": "https://localhost:8080/",
     "height": 34
    },
    "colab_type": "code",
    "id": "1R-S5srPCmTS",
    "outputId": "e66c18f2-7e91-40f0-aea4-d74c815b0902"
   },
   "outputs": [
    {
     "name": "stdout",
     "output_type": "stream",
     "text": [
      "(1442466,) (160274,)\n"
     ]
    }
   ],
   "source": [
    "Y_train = (train_y[:,0]>=0.5).astype(int)\n",
    "Y_cv = (cv_y[:,0]>=0.5).astype(int)\n",
    "Y_test = (test_y[:,0]>=0.5).astype(int)\n",
    "print(Y_train.shape, Y_cv.shape)\n"
   ]
  },
  {
   "cell_type": "markdown",
   "metadata": {
    "colab_type": "text",
    "id": "fZlZwaRiI4Zf"
   },
   "source": [
    "### Custom metric given by *Kaggle*"
   ]
  },
  {
   "cell_type": "code",
   "execution_count": 0,
   "metadata": {
    "colab": {
     "base_uri": "https://localhost:8080/",
     "height": 34
    },
    "colab_type": "code",
    "id": "nmbsUXNavCwt",
    "outputId": "fbe93b10-8088-4365-d5e9-4436a06c1786"
   },
   "outputs": [
    {
     "name": "stderr",
     "output_type": "stream",
     "text": [
      "Using TensorFlow backend.\n"
     ]
    }
   ],
   "source": [
    "# This metric code below was taken from kaggle \n",
    "from sklearn.metrics import roc_auc_score\n",
    "import keras.backend as K\n",
    "class JigsawEvaluator:\n",
    "    \n",
    "    def __init__(self, y_binary, y_identity_binary, power=-5, overall_model_weight=0.25):\n",
    "        self.y = y_binary\n",
    "        self.y_i = y_identity_binary\n",
    "        self.n_subgroups = self.y_i.shape[1]\n",
    "        self.power = power\n",
    "        self.overall_model_weight = overall_model_weight\n",
    "        \n",
    "    @staticmethod\n",
    "    def _compute_auc(y_true, y_pred):\n",
    "        try:\n",
    "            return roc_auc_score(y_true, y_pred)\n",
    "        except ValueError:\n",
    "            return np.nan\n",
    "        \n",
    "    def _compute_subgroup_auc(self, i, y_pred):\n",
    "        mask = self.y_i[:, i] == 1\n",
    "        return self._compute_auc(self.y[mask], y_pred[mask])\n",
    "        \n",
    "    def _compute_bpsn_auc(self, i, y_pred):\n",
    "        mask = self.y_i[:, i] + self.y == 1\n",
    "        return self._compute_auc(self.y[mask], y_pred[mask])\n",
    "        \n",
    "    def _compute_bnsp_auc(self, i, y_pred):\n",
    "        mask = self.y_i[:, i] + self.y != 1\n",
    "        return self._compute_auc(self.y[mask], y_pred[mask])\n",
    "      \n",
    "    def compute_bias_metrics_for_model(self, y_pred):\n",
    "        records = np.zeros((3, self.n_subgroups))\n",
    "        for i in range(self.n_subgroups):\n",
    "            records[0, i] = self._compute_subgroup_auc(i, y_pred)\n",
    "            records[1, i] = self._compute_bpsn_auc(i, y_pred)\n",
    "            records[2, i] = self._compute_bnsp_auc(i, y_pred)\n",
    "        return records\n",
    "        \n",
    "    def _calculate_overall_auc(self, y_pred):\n",
    "        return roc_auc_score(self.y, y_pred)\n",
    "        \n",
    "    def _power_mean(self, array):\n",
    "        total = sum(np.power(array, self.power))\n",
    "        return np.power(total / len(array), 1 / self.power)\n",
    "        \n",
    "    def get_final_metric(self, y_pred):\n",
    "        #y_pred = K.flatten(y_pred)\n",
    "        bias_metrics = self.compute_bias_metrics_for_model(y_pred)\n",
    "        bias_score = np.average([\n",
    "            self._power_mean(bias_metrics[0]),\n",
    "            self._power_mean(bias_metrics[1]),\n",
    "            self._power_mean(bias_metrics[2])\n",
    "        ])\n",
    "        overall_score = self.overall_model_weight * self._calculate_overall_auc(y_pred)\n",
    "        bias_score = (1 - self.overall_model_weight) * bias_score\n",
    "        return overall_score + bias_score"
   ]
  },
  {
   "cell_type": "code",
   "execution_count": 0,
   "metadata": {
    "colab": {},
    "colab_type": "code",
    "id": "0ukVSuPsymiH"
   },
   "outputs": [],
   "source": [
    "def custom_loss(y_true, y_pred):\n",
    "    return binary_crossentropy(K.reshape(y_true[:,0],(-1,1)), y_pred) * y_true[:,1]"
   ]
  },
  {
   "cell_type": "markdown",
   "metadata": {
    "colab_type": "text",
    "id": "cMIWJJa1PYRA"
   },
   "source": [
    "## Vectorizing datset using tfidf"
   ]
  },
  {
   "cell_type": "markdown",
   "metadata": {
    "colab_type": "text",
    "id": "qeNjR0XTVYK6"
   },
   "source": [
    "#### vectorizing train dataset"
   ]
  },
  {
   "cell_type": "code",
   "execution_count": 0,
   "metadata": {
    "colab": {},
    "colab_type": "code",
    "id": "dCavHB4HUe3E"
   },
   "outputs": [],
   "source": [
    "# target with value greater than equal to 0.5 will be assigned 1 and rest 0.\n",
    "def fun(x):\n",
    "    if(x>=0.5):\n",
    "        return 1\n",
    "    else:\n",
    "        return 0"
   ]
  },
  {
   "cell_type": "code",
   "execution_count": 0,
   "metadata": {
    "colab": {},
    "colab_type": "code",
    "id": "4rh7cbCMUfBH"
   },
   "outputs": [],
   "source": [
    "labels = df['target']\n",
    "Y = labels.map(fun)"
   ]
  },
  {
   "cell_type": "code",
   "execution_count": 0,
   "metadata": {
    "colab": {
     "base_uri": "https://localhost:8080/",
     "height": 34
    },
    "colab_type": "code",
    "id": "n5AS38gZYj_A",
    "outputId": "92e3eb15-3a6c-4b87-862d-18e9a3dae905"
   },
   "outputs": [
    {
     "name": "stdout",
     "output_type": "stream",
     "text": [
      "1282192 356165 142466\n"
     ]
    }
   ],
   "source": [
    "from sklearn.model_selection import train_test_split\n",
    "\n",
    "X_train,X_test,Y_train,Y_test = train_test_split(preprocessed_data,Y,test_size=0.2,random_state=42)\n",
    "X_train,X_cv,Y_train,Y_cv = train_test_split(X_train,Y_train,test_size=0.1,random_state=42)\n",
    "print(len(X_train),len(X_test),len(X_cv))"
   ]
  },
  {
   "cell_type": "code",
   "execution_count": 0,
   "metadata": {
    "colab": {},
    "colab_type": "code",
    "id": "1vEFdbPoU3wl"
   },
   "outputs": [],
   "source": [
    "from sklearn.feature_extraction.text import TfidfVectorizer\n",
    "vectorizer = TfidfVectorizer(min_df=5, max_features=50000)\n",
    "train_vect1 = vectorizer.fit_transform(X_train)\n",
    "test_vect1 = vectorizer.transform(X_test)\n",
    "cv_vect1 = vectorizer.transform(X_cv)"
   ]
  },
  {
   "cell_type": "code",
   "execution_count": 0,
   "metadata": {
    "colab": {
     "base_uri": "https://localhost:8080/",
     "height": 68
    },
    "colab_type": "code",
    "id": "g_BfZFUdYj_F",
    "outputId": "ba43e748-f71c-4951-e85f-2fc9ffc9cbe2"
   },
   "outputs": [
    {
     "name": "stdout",
     "output_type": "stream",
     "text": [
      "(1282192, 50000)\n",
      "(356165, 50000)\n",
      "(142466, 50000)\n"
     ]
    }
   ],
   "source": [
    "print(train_vect1.shape)\n",
    "print(test_vect1.shape)\n",
    "print(cv_vect1.shape)"
   ]
  },
  {
   "cell_type": "markdown",
   "metadata": {
    "colab_type": "text",
    "id": "DJlRT7XxVcdf"
   },
   "source": [
    "#### vectorizing test dataset"
   ]
  },
  {
   "cell_type": "code",
   "execution_count": 0,
   "metadata": {
    "colab": {
     "base_uri": "https://localhost:8080/",
     "height": 204
    },
    "colab_type": "code",
    "id": "9qXCQhK0VdHp",
    "outputId": "c50ce8d8-da96-4f68-8ce0-353b92bc8597"
   },
   "outputs": [
    {
     "data": {
      "text/html": [
       "<div>\n",
       "<style scoped>\n",
       "    .dataframe tbody tr th:only-of-type {\n",
       "        vertical-align: middle;\n",
       "    }\n",
       "\n",
       "    .dataframe tbody tr th {\n",
       "        vertical-align: top;\n",
       "    }\n",
       "\n",
       "    .dataframe thead th {\n",
       "        text-align: right;\n",
       "    }\n",
       "</style>\n",
       "<table border=\"1\" class=\"dataframe\">\n",
       "  <thead>\n",
       "    <tr style=\"text-align: right;\">\n",
       "      <th></th>\n",
       "      <th>id</th>\n",
       "      <th>comment_text</th>\n",
       "    </tr>\n",
       "  </thead>\n",
       "  <tbody>\n",
       "    <tr>\n",
       "      <th>0</th>\n",
       "      <td>7097320</td>\n",
       "      <td>[ Integrity means that you pay your debts.]\\n\\...</td>\n",
       "    </tr>\n",
       "    <tr>\n",
       "      <th>1</th>\n",
       "      <td>7097321</td>\n",
       "      <td>This is malfeasance by the Administrator and t...</td>\n",
       "    </tr>\n",
       "    <tr>\n",
       "      <th>2</th>\n",
       "      <td>7097322</td>\n",
       "      <td>@Rmiller101 - Spoken like a true elitist. But ...</td>\n",
       "    </tr>\n",
       "    <tr>\n",
       "      <th>3</th>\n",
       "      <td>7097323</td>\n",
       "      <td>Paul: Thank you for your kind words.  I do, in...</td>\n",
       "    </tr>\n",
       "    <tr>\n",
       "      <th>4</th>\n",
       "      <td>7097324</td>\n",
       "      <td>Sorry you missed high school. Eisenhower sent ...</td>\n",
       "    </tr>\n",
       "  </tbody>\n",
       "</table>\n",
       "</div>"
      ],
      "text/plain": [
       "        id                                       comment_text\n",
       "0  7097320  [ Integrity means that you pay your debts.]\\n\\...\n",
       "1  7097321  This is malfeasance by the Administrator and t...\n",
       "2  7097322  @Rmiller101 - Spoken like a true elitist. But ...\n",
       "3  7097323  Paul: Thank you for your kind words.  I do, in...\n",
       "4  7097324  Sorry you missed high school. Eisenhower sent ..."
      ]
     },
     "execution_count": 24,
     "metadata": {
      "tags": []
     },
     "output_type": "execute_result"
    }
   ],
   "source": [
    "test_df = pd.read_csv(\"/content/drive/My Drive/Project/test.csv\")\n",
    "test_df.head()"
   ]
  },
  {
   "cell_type": "code",
   "execution_count": 0,
   "metadata": {
    "colab": {
     "base_uri": "https://localhost:8080/",
     "height": 34
    },
    "colab_type": "code",
    "id": "gaFdiBUIVdEH",
    "outputId": "49fd9a36-9e44-4128-ea80-ff03da64b5b0"
   },
   "outputs": [
    {
     "name": "stderr",
     "output_type": "stream",
     "text": [
      "100%|██████████| 97320/97320 [00:05<00:00, 16720.14it/s]\n"
     ]
    }
   ],
   "source": [
    "# Preprocessing the comments.\n",
    "preprocessed_data_test = []\n",
    "from tqdm import tqdm\n",
    "for sent in tqdm(test_df['comment_text'].values):\n",
    "    sent = process_sent(sent)\n",
    "    line = ''\n",
    "    for wrd in sent.split():\n",
    "        if(len(wrd)>2):\n",
    "            line += \" \" +wrd.lower()\n",
    "    #line = re.sub(r\"[']\",'',line)\n",
    "    preprocessed_data_test.append(line)\n",
    "    \n",
    "# Preparing the test data\n",
    "test_X = vectorizer.transform(preprocessed_data)"
   ]
  },
  {
   "cell_type": "markdown",
   "metadata": {
    "colab_type": "text",
    "id": "eCbzpZf8Yj_W"
   },
   "source": [
    "# Training Logistic Regression on tfidf vectorization"
   ]
  },
  {
   "cell_type": "markdown",
   "metadata": {
    "colab_type": "text",
    "id": "p6ljlSUAScUg"
   },
   "source": [
    "### On word unigrams "
   ]
  },
  {
   "cell_type": "code",
   "execution_count": 0,
   "metadata": {
    "colab": {
     "base_uri": "https://localhost:8080/",
     "height": 221
    },
    "colab_type": "code",
    "id": "iIS0fQ5uYj_X",
    "outputId": "e0d9669e-8abb-42f7-a00d-0bd8417481d3"
   },
   "outputs": [
    {
     "name": "stderr",
     "output_type": "stream",
     "text": [
      "\n",
      "  0%|          | 0/10 [00:00<?, ?it/s]\u001b[A\n",
      " 10%|█         | 1/10 [06:34<59:07, 394.17s/it]\u001b[A\n",
      " 20%|██        | 2/10 [09:16<43:17, 324.68s/it]\u001b[A\n",
      " 30%|███       | 3/10 [10:48<29:44, 254.91s/it]\u001b[A\n",
      " 40%|████      | 4/10 [11:52<19:46, 197.69s/it]\u001b[A\n",
      " 50%|█████     | 5/10 [12:39<12:41, 152.30s/it]\u001b[A\n",
      " 60%|██████    | 6/10 [13:24<08:00, 120.14s/it]\u001b[A\n",
      " 70%|███████   | 7/10 [13:57<04:42, 94.05s/it] \u001b[A\n",
      " 80%|████████  | 8/10 [14:30<02:31, 75.80s/it]\u001b[A\n",
      " 90%|█████████ | 9/10 [15:05<01:03, 63.53s/it]\u001b[A\n",
      "100%|██████████| 10/10 [15:36<00:00, 53.68s/it]\u001b[A\n",
      "\u001b[A"
     ]
    }
   ],
   "source": [
    "from sklearn.linear_model import SGDClassifier\n",
    "from sklearn.calibration import CalibratedClassifierCV\n",
    "from sklearn.metrics import roc_auc_score\n",
    "params = [0.0000001,0.000001,0.00001,0.0001,0.001,0.01,0.1,1.0,10,100]\n",
    "train_auc = []\n",
    "cv_auc = []\n",
    "for i in tqdm(params):\n",
    "    lr = SGDClassifier(loss='log',penalty='l2',tol=0.0001,alpha=i,n_jobs=-1,class_weight='balanced')\n",
    "    model = CalibratedClassifierCV(lr,cv=5)\n",
    "    model.fit(train_vect1,Y_train)\n",
    "    predict_y_train = model.predict_proba(train_vect1)[:,1] # Taking probability for positive class\n",
    "    t_auc = roc_auc_score(Y_train,predict_y_train)\n",
    "    predict_y_cv = model.predict_proba(cv_vect1)[:,1]# Taking probability for positve class\n",
    "    c_auc = roc_auc_score(Y_cv,predict_y_cv)\n",
    "    train_auc.append(t_auc)\n",
    "    cv_auc.append(c_auc)"
   ]
  },
  {
   "cell_type": "code",
   "execution_count": 0,
   "metadata": {
    "colab": {
     "base_uri": "https://localhost:8080/",
     "height": 283
    },
    "colab_type": "code",
    "id": "rmjtJl98Yj_b",
    "outputId": "63d312fa-bb76-4541-e78b-ab4c81563bf0"
   },
   "outputs": [
    {
     "data": {
      "image/png": "[encoded data removed]",
      "text/plain": [
       "<Figure size 432x288 with 1 Axes>"
      ]
     },
     "metadata": {
      "tags": []
     },
     "output_type": "display_data"
    }
   ],
   "source": [
    "import matplotlib.pyplot as plt\n",
    "import math as m\n",
    "para = [m.log10(x) for x in params]\n",
    "plt.plot(para,train_auc,label='train auc')\n",
    "plt.plot(para,cv_auc,label='validation auc')\n",
    "plt.xlabel(\"log of hyper parameter lambda\")\n",
    "plt.ylabel(\"Auc for each lambda\")\n",
    "plt.grid()\n",
    "plt.legend()\n",
    "plt.show()"
   ]
  },
  {
   "cell_type": "code",
   "execution_count": 0,
   "metadata": {
    "colab": {
     "base_uri": "https://localhost:8080/",
     "height": 306
    },
    "colab_type": "code",
    "id": "rhP3kFHlYj_i",
    "outputId": "95ce4051-90ac-4824-fd53-546b99c83abf"
   },
   "outputs": [
    {
     "data": {
      "text/plain": [
       "CalibratedClassifierCV(base_estimator=SGDClassifier(alpha=1e-06, average=False,\n",
       "                                                    class_weight=None,\n",
       "                                                    early_stopping=False,\n",
       "                                                    epsilon=0.1, eta0=0.0,\n",
       "                                                    fit_intercept=True,\n",
       "                                                    l1_ratio=0.15,\n",
       "                                                    learning_rate='optimal',\n",
       "                                                    loss='log', max_iter=1000,\n",
       "                                                    n_iter_no_change=5,\n",
       "                                                    n_jobs=-1, penalty='l2',\n",
       "                                                    power_t=0.5,\n",
       "                                                    random_state=None,\n",
       "                                                    shuffle=True, tol=0.0001,\n",
       "                                                    validation_fraction=0.1,\n",
       "                                                    verbose=0,\n",
       "                                                    warm_start=False),\n",
       "                       cv=5, method='sigmoid')"
      ]
     },
     "execution_count": 116,
     "metadata": {
      "tags": []
     },
     "output_type": "execute_result"
    }
   ],
   "source": [
    "lr = SGDClassifier(loss='log',penalty='l2',tol=0.0001,alpha=0.000001,n_jobs=-1)\n",
    "model = CalibratedClassifierCV(lr,cv=5)\n",
    "model.fit(train_vect1,Y_train)"
   ]
  },
  {
   "cell_type": "code",
   "execution_count": 0,
   "metadata": {
    "colab": {
     "base_uri": "https://localhost:8080/",
     "height": 34
    },
    "colab_type": "code",
    "id": "NwsLz3ypkHcr",
    "outputId": "f0455d4b-7b24-40c1-8897-74dd31a92470"
   },
   "outputs": [
    {
     "name": "stdout",
     "output_type": "stream",
     "text": [
      "Auc for logistic regression is 0.9465540641624216\n"
     ]
    }
   ],
   "source": [
    "predict_y_test = model.predict_proba(test_vect1)[:,1] # Taking probability for positive class\n",
    "eval = JigsawEvaluator(y_binary, y_identity_binary)\n",
    "auc = eval.get_final_metric(predict_y_test)\n",
    "print(\"Auc for logistic regression is {}\".format(roc_auc_score(Y_test,predict_y_test)))"
   ]
  },
  {
   "cell_type": "markdown",
   "metadata": {
    "colab_type": "text",
    "id": "rKYF4x5uYj_n"
   },
   "source": [
    "### Training Naive bayes model"
   ]
  },
  {
   "cell_type": "code",
   "execution_count": 0,
   "metadata": {
    "colab": {
     "base_uri": "https://localhost:8080/",
     "height": 187
    },
    "colab_type": "code",
    "id": "32kER6MhYj_o",
    "outputId": "d53bfad1-3867-4577-b794-aea4615b172e"
   },
   "outputs": [
    {
     "name": "stderr",
     "output_type": "stream",
     "text": [
      "\n",
      "  0%|          | 0/8 [00:00<?, ?it/s]\u001b[A\n",
      " 12%|█▎        | 1/8 [00:01<00:11,  1.61s/it]\u001b[A\n",
      " 25%|██▌       | 2/8 [00:03<00:09,  1.61s/it]\u001b[A\n",
      " 38%|███▊      | 3/8 [00:04<00:08,  1.61s/it]\u001b[A\n",
      " 50%|█████     | 4/8 [00:06<00:06,  1.61s/it]\u001b[A\n",
      " 62%|██████▎   | 5/8 [00:08<00:04,  1.61s/it]\u001b[A\n",
      " 75%|███████▌  | 6/8 [00:09<00:03,  1.61s/it]\u001b[A\n",
      " 88%|████████▊ | 7/8 [00:11<00:01,  1.60s/it]\u001b[A\n",
      "100%|██████████| 8/8 [00:12<00:00,  1.60s/it]\u001b[A\n",
      "\u001b[A"
     ]
    }
   ],
   "source": [
    "from sklearn.naive_bayes import MultinomialNB\n",
    "from sklearn.metrics import roc_auc_score\n",
    "\n",
    "param = [0.00001,0.0001,0.001,0.01,0.1,1.0,10,100]\n",
    "train_auc = []\n",
    "cv_auc = []\n",
    "\n",
    "for i in tqdm(param):\n",
    "    model = MultinomialNB(alpha=i)\n",
    "    model.fit(train_vect1, Y_train)\n",
    "    predict_y_train = model.predict_log_proba(train_vect1)[:,1] # Taking probability for positive class\n",
    "    t_auc = roc_auc_score(Y_train,predict_y_train)\n",
    "    predict_y_cv = model.predict_log_proba(cv_vect1)[:,1]# Taking probability for positve class\n",
    "    c_auc = roc_auc_score(Y_cv,predict_y_cv)\n",
    "    train_auc.append(t_auc)\n",
    "    cv_auc.append(c_auc)"
   ]
  },
  {
   "cell_type": "code",
   "execution_count": 0,
   "metadata": {
    "colab": {
     "base_uri": "https://localhost:8080/",
     "height": 283
    },
    "colab_type": "code",
    "id": "jG73kybSYj_u",
    "outputId": "86f56712-0eb9-46fd-f2fe-8705bcf0ebcc"
   },
   "outputs": [
    {
     "data": {
      "image/png": "[encoded data removed]",
      "text/plain": [
       "<Figure size 432x288 with 1 Axes>"
      ]
     },
     "metadata": {
      "tags": []
     },
     "output_type": "display_data"
    }
   ],
   "source": [
    "import matplotlib.pyplot as plt\n",
    "import math as m\n",
    "para = [m.log10(x) for x in param]\n",
    "plt.plot(para,train_auc,label='train auc')\n",
    "plt.plot(para,cv_auc,label='validation auc')\n",
    "plt.xlabel(\"log of hyper parameter lambda\")\n",
    "plt.ylabel(\"Auc for each lambda\")\n",
    "plt.grid()\n",
    "plt.legend()\n",
    "plt.show()"
   ]
  },
  {
   "cell_type": "code",
   "execution_count": 0,
   "metadata": {
    "colab": {
     "base_uri": "https://localhost:8080/",
     "height": 35
    },
    "colab_type": "code",
    "id": "yMaVQWZaYj_0",
    "outputId": "caf9fd52-68cb-4c25-9c52-582176858f40"
   },
   "outputs": [
    {
     "name": "stdout",
     "output_type": "stream",
     "text": [
      "Test auc for naive bayes model is 0.8755791924694993\n"
     ]
    }
   ],
   "source": [
    "model = MultinomialNB(alpha=1)\n",
    "model.fit(train_vect1, Y_train)\n",
    "predict_y_test = model.predict_log_proba(test_vect1)[:,1] # Taking probability for positive class\n",
    "print(\"Test auc for naive bayes model is {}\".format(roc_auc_score(Y_test,predict_y_test)))"
   ]
  },
  {
   "cell_type": "markdown",
   "metadata": {
    "colab_type": "text",
    "id": "Jbotoes8YkB_"
   },
   "source": [
    "## Using LSTM Models"
   ]
  },
  {
   "cell_type": "code",
   "execution_count": 0,
   "metadata": {
    "colab": {},
    "colab_type": "code",
    "id": "2WhBWo9WcO-9"
   },
   "outputs": [],
   "source": [
    "#downloaded = drive.CreateFile({'id':id}) \n",
    "#glove_file = downloaded.GetContentFile('glove.6B.100d.txt') \n",
    "\n",
    "f = open(\"/content/drive/My Drive/Project/glove.6B.300d.txt\",'r',encoding=\"utf-8\")"
   ]
  },
  {
   "cell_type": "code",
   "execution_count": 0,
   "metadata": {
    "colab": {},
    "colab_type": "code",
    "id": "zIRU0rsTYkB_"
   },
   "outputs": [],
   "source": [
    "# Tokenizing the essay text data for train dataset\n",
    "# We will train the vectorizer on train data and will use the same on test and cv data.\n",
    "# Credit : https://machinelearningmastery.com/use-word-embedding-layers-deep-learning-keras/\n",
    "# Tokenizing the essay text data for train dataset\n",
    "# We will train the vectorizer on train data and will use the same on test and cv data.\n",
    "# Credit : https://machinelearningmastery.com/use-word-embedding-layers-deep-learning-keras/\n",
    "from keras.preprocessing.text import Tokenizer\n",
    "from keras.preprocessing.sequence import pad_sequences\n",
    "from keras.layers import Dense,Input\n",
    "from numpy import asarray\n",
    "t  = Tokenizer(num_words=40000)\n",
    "t.fit_on_texts(train_x)\n",
    "vocab_size = len(t.word_index)+1\n",
    "# Integer coding all the words.\n",
    "encoded_essay = t.texts_to_sequences(train_x)\n",
    "# defining a max size for padding.\n",
    "max_len = 150\n",
    "# padding the vectors of each datapoint to fixed length of 600.\n",
    "train_sequence = pad_sequences(encoded_essay,maxlen = max_len,padding='post')\n",
    "\n",
    "# Vectorizing test data\n",
    "# Integer coding all the words.\n",
    "encoded_essay = t.texts_to_sequences(test_x)\n",
    "# defining a max size for padding.\n",
    "max_len = 150\n",
    "# padding the vectors of each datapoint to fixed length of 600.\n",
    "test_sequence = pad_sequences(encoded_essay,maxlen = max_len,padding='post')\n",
    "\n",
    "# to use cv datset un-comment this.\n",
    "\n",
    "# Vectorizing cv data\n",
    "# Integer coding all the words.\n",
    "#encoded_essay = t.texts_to_sequences(cv_x)\n",
    "# defining a max size for padding.\n",
    "#max_len = 150\n",
    "# padding the vectors of each datapoint to fixed length of 600.\n",
    "#cv_sequence = pad_sequences(encoded_essay,maxlen = max_len,padding='post')\n"
   ]
  },
  {
   "cell_type": "code",
   "execution_count": 0,
   "metadata": {
    "colab": {
     "base_uri": "https://localhost:8080/",
     "height": 71
    },
    "colab_type": "code",
    "id": "WFLf1fXSYkCC",
    "outputId": "29778341-47c4-44c2-e016-9b79770a9f8e"
   },
   "outputs": [
    {
     "name": "stderr",
     "output_type": "stream",
     "text": [
      "/usr/local/lib/python3.6/dist-packages/ipykernel_launcher.py:5: FutureWarning: elementwise comparison failed; returning scalar instead, but in the future will perform elementwise comparison\n",
      "  \"\"\"\n"
     ]
    }
   ],
   "source": [
    "# we will load the whole glove vectors .\n",
    "embeddings_index1 = {}\n",
    "# Opening the file\n",
    "f = open(\"/content/drive/My Drive/Project/glove.6B.300d.txt\",'r',encoding=\"utf-8\")\n",
    "for line in f:\n",
    "\tvalues = line.split()\n",
    "\tword = values[0]\n",
    "\tcoefs = asarray(values[1:], dtype='float32')\n",
    "\tembeddings_index1[word] = coefs\n",
    "f.close()\n",
    "\n",
    "\n",
    "# Credit : https://machinelearningmastery.com/use-word-embedding-layers-deep-learning-keras/\n",
    "import numpy as np\n",
    "embedding_matrix1 = np.zeros((vocab_size, 300))\n",
    "for word, i in t.word_index.items():\n",
    "  for wrd in [word, word.lower()]:\n",
    "    if wrd in embedding_matrix1:\n",
    "\t    embedding_matrix1[i] = embeddings_index1.get(wrd)"
   ]
  },
  {
   "cell_type": "code",
   "execution_count": 0,
   "metadata": {
    "colab": {
     "base_uri": "https://localhost:8080/",
     "height": 105
    },
    "colab_type": "code",
    "id": "Ox3erkv-an7h",
    "outputId": "bc590372-30ba-4220-ab66-846128cf9b61"
   },
   "outputs": [
    {
     "name": "stderr",
     "output_type": "stream",
     "text": [
      "/usr/local/lib/python3.6/dist-packages/smart_open/smart_open_lib.py:398: UserWarning: This function is deprecated, use smart_open.open instead. See the migration notes for details: https://github.com/RaRe-Technologies/smart_open/blob/master/README.rst#migrating-to-the-new-open-function\n",
      "  'See the migration notes for details: %s' % _MIGRATION_NOTES_URL\n",
      "/usr/local/lib/python3.6/dist-packages/ipykernel_launcher.py:16: FutureWarning: elementwise comparison failed; returning scalar instead, but in the future will perform elementwise comparison\n",
      "  app.launch_new_instance()\n"
     ]
    }
   ],
   "source": [
    "#  Loading crawl vectors\n",
    "from gensim.models import KeyedVectors\n",
    "path = \"/content/drive/My Drive/Project/crawl-300d-2M.gensim\"\n",
    "embeddings_index2 = KeyedVectors.load(path, mmap='r')\n",
    "embedding_matrix2 = np.zeros((len(t.word_index) + 1, 300))\n",
    "for word, i in t.word_index.items():\n",
    "    for candidate in [word, word.lower()]:\n",
    "        if candidate in embeddings_index2:\n",
    "            embedding_matrix2[i] = embeddings_index2[candidate]\n",
    "            break\n",
    "            \n",
    "# Credit : https://machinelearningmastery.com/use-word-embedding-layers-deep-learning-keras/\n",
    "import numpy as np\n",
    "embedding_matrix2 = np.zeros((vocab_size, 300))\n",
    "for word, i in t.word_index.items():\n",
    "  for wrd in [word, word.lower()]:\n",
    "    if wrd in embedding_matrix2:\n",
    "\t    embedding_matrix2[i] = embeddings_index2.get(wrd)"
   ]
  },
  {
   "cell_type": "code",
   "execution_count": 0,
   "metadata": {
    "colab": {},
    "colab_type": "code",
    "id": "l7HvsMTBZSHx"
   },
   "outputs": [],
   "source": [
    "embedding_matrix = np.concatenate([embedding_matrix1, embedding_matrix2], axis= -1)"
   ]
  },
  {
   "cell_type": "code",
   "execution_count": 0,
   "metadata": {
    "colab": {
     "base_uri": "https://localhost:8080/",
     "height": 34
    },
    "colab_type": "code",
    "id": "yxqo9dvjZSQi",
    "outputId": "be77559e-32cb-4f07-e703-be2ccb873fe4"
   },
   "outputs": [
    {
     "data": {
      "text/plain": [
       "(252210, 600)"
      ]
     },
     "execution_count": 39,
     "metadata": {
      "tags": []
     },
     "output_type": "execute_result"
    }
   ],
   "source": [
    "embedding_matrix.shape"
   ]
  },
  {
   "cell_type": "code",
   "execution_count": 0,
   "metadata": {
    "colab": {
     "base_uri": "https://localhost:8080/",
     "height": 204
    },
    "colab_type": "code",
    "id": "fda3L5s7sZ1q",
    "outputId": "243d8732-9d6d-4dd3-8889-ebb39394fac1"
   },
   "outputs": [
    {
     "data": {
      "text/html": [
       "<div>\n",
       "<style scoped>\n",
       "    .dataframe tbody tr th:only-of-type {\n",
       "        vertical-align: middle;\n",
       "    }\n",
       "\n",
       "    .dataframe tbody tr th {\n",
       "        vertical-align: top;\n",
       "    }\n",
       "\n",
       "    .dataframe thead th {\n",
       "        text-align: right;\n",
       "    }\n",
       "</style>\n",
       "<table border=\"1\" class=\"dataframe\">\n",
       "  <thead>\n",
       "    <tr style=\"text-align: right;\">\n",
       "      <th></th>\n",
       "      <th>id</th>\n",
       "      <th>comment_text</th>\n",
       "    </tr>\n",
       "  </thead>\n",
       "  <tbody>\n",
       "    <tr>\n",
       "      <th>0</th>\n",
       "      <td>7097320</td>\n",
       "      <td>[ Integrity means that you pay your debts.]\\n\\...</td>\n",
       "    </tr>\n",
       "    <tr>\n",
       "      <th>1</th>\n",
       "      <td>7097321</td>\n",
       "      <td>This is malfeasance by the Administrator and t...</td>\n",
       "    </tr>\n",
       "    <tr>\n",
       "      <th>2</th>\n",
       "      <td>7097322</td>\n",
       "      <td>@Rmiller101 - Spoken like a true elitist. But ...</td>\n",
       "    </tr>\n",
       "    <tr>\n",
       "      <th>3</th>\n",
       "      <td>7097323</td>\n",
       "      <td>Paul: Thank you for your kind words.  I do, in...</td>\n",
       "    </tr>\n",
       "    <tr>\n",
       "      <th>4</th>\n",
       "      <td>7097324</td>\n",
       "      <td>Sorry you missed high school. Eisenhower sent ...</td>\n",
       "    </tr>\n",
       "  </tbody>\n",
       "</table>\n",
       "</div>"
      ],
      "text/plain": [
       "        id                                       comment_text\n",
       "0  7097320  [ Integrity means that you pay your debts.]\\n\\...\n",
       "1  7097321  This is malfeasance by the Administrator and t...\n",
       "2  7097322  @Rmiller101 - Spoken like a true elitist. But ...\n",
       "3  7097323  Paul: Thank you for your kind words.  I do, in...\n",
       "4  7097324  Sorry you missed high school. Eisenhower sent ..."
      ]
     },
     "execution_count": 36,
     "metadata": {
      "tags": []
     },
     "output_type": "execute_result"
    }
   ],
   "source": [
    "#from google.colab import drive\n",
    "#drive.mount('/content/drive')\n",
    "test_df = pd.read_csv(\"/content/drive/My Drive/Project/test.csv\")\n",
    "test_df.head()"
   ]
  },
  {
   "cell_type": "code",
   "execution_count": 0,
   "metadata": {
    "colab": {
     "base_uri": "https://localhost:8080/",
     "height": 221
    },
    "colab_type": "code",
    "id": "nnMbfg7gsZxb",
    "outputId": "b1013db2-2b1a-4769-877b-e97b81192c87"
   },
   "outputs": [
    {
     "name": "stderr",
     "output_type": "stream",
     "text": [
      "100%|██████████| 97320/97320 [00:05<00:00, 16647.45it/s]\n"
     ]
    },
    {
     "data": {
      "text/html": [
       "<div>\n",
       "<style scoped>\n",
       "    .dataframe tbody tr th:only-of-type {\n",
       "        vertical-align: middle;\n",
       "    }\n",
       "\n",
       "    .dataframe tbody tr th {\n",
       "        vertical-align: top;\n",
       "    }\n",
       "\n",
       "    .dataframe thead th {\n",
       "        text-align: right;\n",
       "    }\n",
       "</style>\n",
       "<table border=\"1\" class=\"dataframe\">\n",
       "  <thead>\n",
       "    <tr style=\"text-align: right;\">\n",
       "      <th></th>\n",
       "      <th>id</th>\n",
       "      <th>comment_text</th>\n",
       "    </tr>\n",
       "  </thead>\n",
       "  <tbody>\n",
       "    <tr>\n",
       "      <th>0</th>\n",
       "      <td>7097320</td>\n",
       "      <td>integrity means that you pay your debts does ...</td>\n",
       "    </tr>\n",
       "    <tr>\n",
       "      <th>1</th>\n",
       "      <td>7097321</td>\n",
       "      <td>this malfeasance the administrator and the bo...</td>\n",
       "    </tr>\n",
       "    <tr>\n",
       "      <th>2</th>\n",
       "      <td>7097322</td>\n",
       "      <td>rmiller spoken like true elitist but look out...</td>\n",
       "    </tr>\n",
       "    <tr>\n",
       "      <th>3</th>\n",
       "      <td>7097323</td>\n",
       "      <td>paul thank you for your kind words indeed hav...</td>\n",
       "    </tr>\n",
       "    <tr>\n",
       "      <th>4</th>\n",
       "      <td>7097324</td>\n",
       "      <td>sorry you missed high school eisenhower sent ...</td>\n",
       "    </tr>\n",
       "  </tbody>\n",
       "</table>\n",
       "</div>"
      ],
      "text/plain": [
       "        id                                       comment_text\n",
       "0  7097320   integrity means that you pay your debts does ...\n",
       "1  7097321   this malfeasance the administrator and the bo...\n",
       "2  7097322   rmiller spoken like true elitist but look out...\n",
       "3  7097323   paul thank you for your kind words indeed hav...\n",
       "4  7097324   sorry you missed high school eisenhower sent ..."
      ]
     },
     "execution_count": 37,
     "metadata": {
      "tags": []
     },
     "output_type": "execute_result"
    }
   ],
   "source": [
    "# Preprocessing the comments.\n",
    "test_preprocessed = []\n",
    "bad_found = []\n",
    "from tqdm import tqdm\n",
    "for sent in tqdm(test_df['comment_text'].values):\n",
    "    sent = process_sent(sent)\n",
    "    line = ''\n",
    "    for wrd in sent.split():\n",
    "        if(len(wrd)>2):\n",
    "            line += \" \" +wrd.lower()\n",
    "    line = re.sub(r\"[']\",'',line)\n",
    "    test_preprocessed.append(line)\n",
    "\n",
    "test_df['comment_text'] = test_preprocessed\n",
    "test_df.head()"
   ]
  },
  {
   "cell_type": "code",
   "execution_count": 0,
   "metadata": {
    "colab": {},
    "colab_type": "code",
    "id": "wcpFgf1SddiJ"
   },
   "outputs": [],
   "source": [
    "\n",
    "# Vectorizing test data\n",
    "# Integer coding all the words.\n",
    "encoded_essay1 = t.texts_to_sequences(test_df['comment_text'])\n",
    "# defining a max size for padding.\n",
    "max_len = 150\n",
    "# padding the vectors of each datapoint to fixed length of 600.\n",
    "test_sequence1 = pad_sequences(encoded_essay1,maxlen = max_len,padding='post')"
   ]
  },
  {
   "cell_type": "markdown",
   "metadata": {
    "colab_type": "text",
    "id": "NI6ijwfIs9qW"
   },
   "source": [
    "# First Architecture"
   ]
  },
  {
   "cell_type": "code",
   "execution_count": 0,
   "metadata": {
    "colab": {
     "base_uri": "https://localhost:8080/",
     "height": 357
    },
    "colab_type": "code",
    "id": "k5jhe5y7ekrq",
    "outputId": "1f05d16b-8165-4dc5-f72e-4d9e1fed0175"
   },
   "outputs": [
    {
     "name": "stdout",
     "output_type": "stream",
     "text": [
      "Model: \"model_5\"\n",
      "_________________________________________________________________\n",
      "Layer (type)                 Output Shape              Param #   \n",
      "=================================================================\n",
      "input_6 (InputLayer)         (None, 150)               0         \n",
      "_________________________________________________________________\n",
      "embedding_6 (Embedding)      (None, 150, 100)          4000000   \n",
      "_________________________________________________________________\n",
      "bidirectional_6 (Bidirection (None, 150, 256)          234496    \n",
      "_________________________________________________________________\n",
      "seq_self_attention_5 (SeqSel (None, 150, 256)          16449     \n",
      "_________________________________________________________________\n",
      "flatten_5 (Flatten)          (None, 38400)             0         \n",
      "_________________________________________________________________\n",
      "dense_5 (Dense)              (None, 1)                 38401     \n",
      "=================================================================\n",
      "Total params: 4,289,346\n",
      "Trainable params: 4,289,346\n",
      "Non-trainable params: 0\n",
      "_________________________________________________________________\n"
     ]
    }
   ],
   "source": [
    "import keras\n",
    "from keras.models import Sequential\n",
    "from keras.layers import Dense\n",
    "from keras.layers import LSTM, GRU\n",
    "from keras.layers.embeddings import Embedding\n",
    "from keras.preprocessing import sequence\n",
    "from keras.layers import MaxPooling1D\n",
    "from keras.layers import Flatten, GlobalMaxPooling1D, GlobalAveragePooling1D\n",
    "from keras.layers import Dropout, BatchNormalization, Input, SpatialDropout1D\n",
    "from keras.layers import Dense, Bidirectional, concatenate\n",
    "from keras.models import Model\n",
    "from keras.optimizers import Adam\n",
    "from keras_self_attention import SeqSelfAttention\n",
    "import keras.backend as K\n",
    "\n",
    "embedding_vector_length = 100\n",
    "input1 = Input(shape=(150,))\n",
    "e1 = Embedding(40000,embedding_vector_length, input_length=150)(input1)\n",
    "x1 = Bidirectional(LSTM(128, return_sequences=True, dropout=0.2, recurrent_dropout=0.2))(e1)\n",
    "att = SeqSelfAttention(attention_activation='sigmoid')(x1)\n",
    "\n",
    "x1 = Flatten()(att)\n",
    "output = Dense(1, activation='sigmoid')(x1)\n",
    "model = Model(inputs=[input1,], outputs=[output])\n",
    "model.compile(loss='binary_crossentropy', optimizer='adam', metrics=['accuracy',])\n",
    "model.summary()"
   ]
  },
  {
   "cell_type": "code",
   "execution_count": 0,
   "metadata": {
    "colab": {
     "base_uri": "https://localhost:8080/",
     "height": 255
    },
    "colab_type": "code",
    "id": "bdFfNlk1e7au",
    "outputId": "06844879-852b-48eb-d05d-db35d0a50128"
   },
   "outputs": [
    {
     "name": "stderr",
     "output_type": "stream",
     "text": [
      "/usr/local/lib/python3.6/dist-packages/ipykernel_launcher.py:1: UserWarning: The `nb_epoch` argument in `fit` has been renamed `epochs`.\n",
      "  \"\"\"Entry point for launching an IPython kernel.\n"
     ]
    },
    {
     "name": "stdout",
     "output_type": "stream",
     "text": [
      "Train on 1282192 samples, validate on 142466 samples\n",
      "Epoch 1/5\n",
      "1282192/1282192 [==============================] - 2665s 2ms/step - loss: 0.1483 - acc: 0.9454 - val_loss: 0.1334 - val_acc: 0.9491\n",
      "Epoch 2/5\n",
      "1282192/1282192 [==============================] - 2657s 2ms/step - loss: 0.1256 - acc: 0.9515 - val_loss: 0.1307 - val_acc: 0.9495\n",
      "Epoch 3/5\n",
      "1282192/1282192 [==============================] - 2654s 2ms/step - loss: 0.1155 - acc: 0.9552 - val_loss: 0.1330 - val_acc: 0.9494\n",
      "Epoch 4/5\n",
      "1282192/1282192 [==============================] - 2659s 2ms/step - loss: 0.1037 - acc: 0.9600 - val_loss: 0.1407 - val_acc: 0.9477\n",
      "Epoch 5/5\n",
      "1282192/1282192 [==============================] - 2665s 2ms/step - loss: 0.0924 - acc: 0.9646 - val_loss: 0.1522 - val_acc: 0.9463\n"
     ]
    },
    {
     "data": {
      "text/plain": [
       "<keras.callbacks.History at 0x7f0bd2deaf98>"
      ]
     },
     "execution_count": 67,
     "metadata": {
      "tags": []
     },
     "output_type": "execute_result"
    }
   ],
   "source": [
    "model.fit(train_sequence, Y_train, nb_epoch=5, batch_size=512, validation_data=(cv_sequence, Y_cv))"
   ]
  },
  {
   "cell_type": "code",
   "execution_count": 0,
   "metadata": {
    "colab": {
     "base_uri": "https://localhost:8080/",
     "height": 34
    },
    "colab_type": "code",
    "id": "p1W7ZufTe7Wt",
    "outputId": "8f04495f-0790-4150-d9a8-88d3c53fa7aa"
   },
   "outputs": [
    {
     "name": "stdout",
     "output_type": "stream",
     "text": [
      "0.9358755310733398\n"
     ]
    }
   ],
   "source": [
    "# Roc auc\n",
    "predicted_y = model.predict(test_sequence,batch_size=512)\n",
    "from sklearn.metrics import roc_auc_score\n",
    "print(roc_auc_score(Y_test,predicted_y))"
   ]
  },
  {
   "cell_type": "code",
   "execution_count": 0,
   "metadata": {
    "colab": {
     "base_uri": "https://localhost:8080/",
     "height": 34
    },
    "colab_type": "code",
    "id": "smCQ902La-cO",
    "outputId": "1caba7ca-3263-4e86-cd3c-0a00b67e7974"
   },
   "outputs": [
    {
     "name": "stdout",
     "output_type": "stream",
     "text": [
      "0.8823309859591929\n"
     ]
    }
   ],
   "source": [
    "eval = JigsawEvaluator(y_binary, y_identity_binary)\n",
    "print(eval.get_final_metric(predicted_y))"
   ]
  },
  {
   "cell_type": "code",
   "execution_count": 0,
   "metadata": {
    "colab": {},
    "colab_type": "code",
    "id": "Al19mijyZq9i"
   },
   "outputs": [],
   "source": [
    "y_pre = model.predict(test_sequence1,batch_size=512)\n",
    "submission = pd.DataFrame({'id': test_df['id'].values})\n",
    "submission['prediction'] = y_pre\n",
    "submission.to_csv(\"submissionNew2.csv\",index=False) \n"
   ]
  },
  {
   "cell_type": "code",
   "execution_count": 0,
   "metadata": {
    "colab": {},
    "colab_type": "code",
    "id": "Mled4ZmNZrLu"
   },
   "outputs": [],
   "source": [
    "from google.colab import files\n",
    "files.download( \"/content/submissionNew2.csv\" )  "
   ]
  },
  {
   "cell_type": "markdown",
   "metadata": {
    "colab_type": "text",
    "id": "s_DWPQ8JNOGY"
   },
   "source": [
    "## First Bi-LSTM architecture"
   ]
  },
  {
   "cell_type": "code",
   "execution_count": 0,
   "metadata": {
    "colab": {
     "base_uri": "https://localhost:8080/",
     "height": 454
    },
    "colab_type": "code",
    "id": "qyOSj3q2YkCL",
    "outputId": "d348acb4-f330-4c5d-895d-f586a0639b0e"
   },
   "outputs": [
    {
     "name": "stdout",
     "output_type": "stream",
     "text": [
      "_________________________________________________________________\n",
      "Layer (type)                 Output Shape              Param #   \n",
      "=================================================================\n",
      "embedding_11 (Embedding)     (None, 200, 64)           6223104   \n",
      "_________________________________________________________________\n",
      "bidirectional_10 (Bidirectio (None, 256)               197632    \n",
      "_________________________________________________________________\n",
      "dropout_15 (Dropout)         (None, 256)               0         \n",
      "_________________________________________________________________\n",
      "batch_normalization_5 (Batch (None, 256)               1024      \n",
      "_________________________________________________________________\n",
      "dense_15 (Dense)             (None, 768)               197376    \n",
      "_________________________________________________________________\n",
      "dropout_16 (Dropout)         (None, 768)               0         \n",
      "_________________________________________________________________\n",
      "batch_normalization_6 (Batch (None, 768)               3072      \n",
      "_________________________________________________________________\n",
      "dense_16 (Dense)             (None, 1)                 769       \n",
      "=================================================================\n",
      "Total params: 6,622,977\n",
      "Trainable params: 6,620,929\n",
      "Non-trainable params: 2,048\n",
      "_________________________________________________________________\n",
      "None\n"
     ]
    }
   ],
   "source": [
    "from keras.models import Sequential\n",
    "from keras.layers import Dense\n",
    "from keras.layers import LSTM\n",
    "from keras.layers.embeddings import Embedding\n",
    "from keras.preprocessing import sequence\n",
    "from keras.layers import MaxPooling1D\n",
    "from keras.layers import Flatten, GlobalMaxPool1D\n",
    "from keras.layers import Dropout, BatchNormalization\n",
    "from keras.layers import Dense, Bidirectional\n",
    "from keras.models import Model\n",
    "\n",
    "embedding_vecor_length = 64\n",
    "model = Sequential()\n",
    "model.add(Embedding(vocab_size, embedding_vecor_length, input_shape=(150,)))\n",
    "model.add(Bidirectional(LSTM(128)))\n",
    "model.add(Dropout(0.3))\n",
    "model.add(GlobalMaxPllo1D())\n",
    "model.add(BatchNormalization())\n",
    "model.add(Dense(768,activation='relu'))\n",
    "model.add(Dropout(0.50))\n",
    "model.add(GlobalMaxPllo1D())\n",
    "model.add(BatchNormalization())\n",
    "model.add(Dense(1, activation='sigmoid'))\n",
    "model.compile(loss='binary_crossentropy', optimizer='adam', metrics=['accuracy'])\n",
    "print(model.summary())"
   ]
  },
  {
   "cell_type": "code",
   "execution_count": 0,
   "metadata": {
    "colab": {
     "base_uri": "https://localhost:8080/",
     "height": 272
    },
    "colab_type": "code",
    "id": "MiMeplYRYkCN",
    "outputId": "3742c13c-e815-4020-cdb1-648b419f403b"
   },
   "outputs": [
    {
     "name": "stderr",
     "output_type": "stream",
     "text": [
      "/usr/local/lib/python3.6/dist-packages/ipykernel_launcher.py:1: UserWarning: The `nb_epoch` argument in `fit` has been renamed `epochs`.\n",
      "  \"\"\"Entry point for launching an IPython kernel.\n"
     ]
    },
    {
     "name": "stdout",
     "output_type": "stream",
     "text": [
      "Train on 190911 samples, validate on 47728 samples\n",
      "Epoch 1/5\n",
      "190911/190911 [==============================] - 266s 1ms/step - loss: 0.2945 - acc: 0.8903 - val_loss: 0.2760 - val_acc: 0.8859\n",
      "Epoch 2/5\n",
      "190911/190911 [==============================] - 259s 1ms/step - loss: 0.1441 - acc: 0.9477 - val_loss: 0.1511 - val_acc: 0.9442\n",
      "Epoch 3/5\n",
      "190911/190911 [==============================] - 258s 1ms/step - loss: 0.1232 - acc: 0.9523 - val_loss: 0.1696 - val_acc: 0.9411\n",
      "Epoch 4/5\n",
      "190911/190911 [==============================] - 257s 1ms/step - loss: 0.1061 - acc: 0.9584 - val_loss: 0.1763 - val_acc: 0.9383\n",
      "Epoch 5/5\n",
      "190911/190911 [==============================] - 253s 1ms/step - loss: 0.0857 - acc: 0.9663 - val_loss: 0.1948 - val_acc: 0.9394\n"
     ]
    },
    {
     "data": {
      "text/plain": [
       "<keras.callbacks.History at 0x7f28de5322e8>"
      ]
     },
     "execution_count": 72,
     "metadata": {
      "tags": []
     },
     "output_type": "execute_result"
    }
   ],
   "source": [
    "model.fit(train_sequence, Y_train, nb_epoch=5, batch_size=512, validation_data=(cv_sequence, Y_cv))"
   ]
  },
  {
   "cell_type": "code",
   "execution_count": 0,
   "metadata": {
    "colab": {
     "base_uri": "https://localhost:8080/",
     "height": 35
    },
    "colab_type": "code",
    "id": "FKNc-qIudkz1",
    "outputId": "2c83af66-177a-4150-acce-4724449bb946"
   },
   "outputs": [
    {
     "name": "stdout",
     "output_type": "stream",
     "text": [
      "0.9038698075698687\n"
     ]
    }
   ],
   "source": [
    "# Roc auc\n",
    "predicted_y = model.predict(test_sequence,batch_size=512)\n",
    "from sklearn.metrics import roc_auc_score\n",
    "print(roc_auc_score(Y_test,predicted_y))\n"
   ]
  },
  {
   "cell_type": "markdown",
   "metadata": {
    "colab_type": "text",
    "id": "vdos0aE0NJdS"
   },
   "source": [
    "## Second Bi-LSTM architecture"
   ]
  },
  {
   "cell_type": "code",
   "execution_count": 0,
   "metadata": {
    "colab": {
     "base_uri": "https://localhost:8080/",
     "height": 612
    },
    "colab_type": "code",
    "id": "0feWATevhwF6",
    "outputId": "973a4754-0ff6-4137-8d28-422df2502a7d"
   },
   "outputs": [
    {
     "name": "stdout",
     "output_type": "stream",
     "text": [
      "Model: \"model_3\"\n",
      "__________________________________________________________________________________________________\n",
      "Layer (type)                    Output Shape         Param #     Connected to                     \n",
      "==================================================================================================\n",
      "input_3 (InputLayer)            (None, 150)          0                                            \n",
      "__________________________________________________________________________________________________\n",
      "embedding_5 (Embedding)         (None, 150, 100)     40000000    input_3[0][0]                    \n",
      "__________________________________________________________________________________________________\n",
      "embedding_6 (Embedding)         (None, 150, 100)     40000000    input_3[0][0]                    \n",
      "__________________________________________________________________________________________________\n",
      "bidirectional_5 (Bidirectional) (None, 150, 400)     481600      embedding_5[0][0]                \n",
      "__________________________________________________________________________________________________\n",
      "bidirectional_6 (Bidirectional) (None, 150, 400)     481600      embedding_6[0][0]                \n",
      "__________________________________________________________________________________________________\n",
      "dropout_7 (Dropout)             (None, 150, 400)     0           bidirectional_5[0][0]            \n",
      "__________________________________________________________________________________________________\n",
      "dropout_8 (Dropout)             (None, 150, 400)     0           bidirectional_6[0][0]            \n",
      "__________________________________________________________________________________________________\n",
      "global_max_pooling1d_5 (GlobalM (None, 400)          0           dropout_7[0][0]                  \n",
      "__________________________________________________________________________________________________\n",
      "global_max_pooling1d_6 (GlobalM (None, 400)          0           dropout_8[0][0]                  \n",
      "__________________________________________________________________________________________________\n",
      "concatenate_3 (Concatenate)     (None, 800)          0           global_max_pooling1d_5[0][0]     \n",
      "                                                                 global_max_pooling1d_6[0][0]     \n",
      "__________________________________________________________________________________________________\n",
      "dense_5 (Dense)                 (None, 75)           60075       concatenate_3[0][0]              \n",
      "__________________________________________________________________________________________________\n",
      "dropout_9 (Dropout)             (None, 75)           0           dense_5[0][0]                    \n",
      "__________________________________________________________________________________________________\n",
      "dense_6 (Dense)                 (None, 1)            76          dropout_9[0][0]                  \n",
      "==================================================================================================\n",
      "Total params: 81,023,351\n",
      "Trainable params: 81,023,351\n",
      "Non-trainable params: 0\n",
      "__________________________________________________________________________________________________\n"
     ]
    }
   ],
   "source": [
    "from keras.models import Sequential\n",
    "from keras.layers import Dense\n",
    "from keras.layers import LSTM\n",
    "from keras.layers.embeddings import Embedding\n",
    "from keras.preprocessing import sequence\n",
    "from keras.layers import MaxPooling1D\n",
    "from keras.layers import Flatten, GlobalMaxPool1D\n",
    "from keras.layers import Dropout, BatchNormalization, Input\n",
    "from keras.layers import Dense, Bidirectional, concatenate\n",
    "from keras.models import Model\n",
    "from keras.optimizers import Adam\n",
    "\n",
    "embedding_vector_length = 100\n",
    "input1 = Input(shape=(150,))\n",
    "x1 = Embedding(vocab_size,embedding_vector_length, input_length=150)(input1)\n",
    "x1 = Bidirectional(LSTM(200,return_sequences=True))(x1)\n",
    "x1 = Dropout(0.3)(x1)\n",
    "x1 = GlobalMaxPool1D()(x1)\n",
    "\n",
    "#input2 = Input(shape=(150,))\n",
    "x2 = Embedding(vocab_size,embedding_vector_length, input_length=150)(input1)\n",
    "x2 = Bidirectional(LSTM(200,return_sequences=True))(x2)\n",
    "x2 = Dropout(0.5)(x2)\n",
    "x2 = GlobalMaxPool1D()(x2)\n",
    "\n",
    "x = concatenate([x1, x2])\n",
    "x = Dense(75, activation='relu')(x)\n",
    "x = Dropout(0.2)(x)\n",
    "output = Dense(1, activation='sigmoid')(x)\n",
    "model3 = Model(inputs=[input1,], outputs = output)\n",
    "#adam = Adam(lr=0.0001)\n",
    "model3.compile(loss='binary_crossentropy', optimizer= 'adam', metrics=['accuracy'])\n",
    "model3.summary()"
   ]
  },
  {
   "cell_type": "code",
   "execution_count": 0,
   "metadata": {
    "colab": {
     "base_uri": "https://localhost:8080/",
     "height": 187
    },
    "colab_type": "code",
    "id": "QFz3kfS0hwEA",
    "outputId": "30e05a7f-ced7-4d8a-c25e-38c6b7b35d2d"
   },
   "outputs": [
    {
     "name": "stdout",
     "output_type": "stream",
     "text": [
      "Train on 1282192 samples, validate on 142466 samples\n",
      "Epoch 1/4\n",
      "1282192/1282192 [==============================] - 4279s 3ms/step - loss: 0.1440 - acc: 0.9459 - val_loss: 0.1568 - val_acc: 0.9472\n",
      "Epoch 2/4\n",
      "1282192/1282192 [==============================] - 4267s 3ms/step - loss: 0.1159 - acc: 0.9536 - val_loss: 0.1421 - val_acc: 0.9489\n",
      "Epoch 3/4\n",
      "1282192/1282192 [==============================] - 4268s 3ms/step - loss: 0.0956 - acc: 0.9610 - val_loss: 0.1463 - val_acc: 0.9430\n",
      "Epoch 4/4\n",
      "1282192/1282192 [==============================] - 4270s 3ms/step - loss: 0.0711 - acc: 0.9714 - val_loss: 0.1569 - val_acc: 0.9380\n"
     ]
    },
    {
     "data": {
      "text/plain": [
       "<keras.callbacks.History at 0x7f9dcd6d9b38>"
      ]
     },
     "execution_count": 42,
     "metadata": {
      "tags": []
     },
     "output_type": "execute_result"
    }
   ],
   "source": [
    "model3.fit(train_sequence, Y_train, epochs=4, batch_size=512, validation_data=[cv_sequence, Y_cv])"
   ]
  },
  {
   "cell_type": "code",
   "execution_count": 0,
   "metadata": {
    "colab": {
     "base_uri": "https://localhost:8080/",
     "height": 34
    },
    "colab_type": "code",
    "id": "k6amyC__cyws",
    "outputId": "eac82e49-bb03-453d-84bc-ffc8427aede3"
   },
   "outputs": [
    {
     "name": "stdout",
     "output_type": "stream",
     "text": [
      "0.9373771542809413\n"
     ]
    }
   ],
   "source": [
    "# Roc auc\n",
    "predicted_y = model3.predict(test_sequence,batch_size=512)\n",
    "from sklearn.metrics import roc_auc_score\n",
    "print(roc_auc_score(Y_test,predicted_y))\n"
   ]
  },
  {
   "cell_type": "code",
   "execution_count": 0,
   "metadata": {
    "colab": {},
    "colab_type": "code",
    "id": "uwbZScEQ2Pdk"
   },
   "outputs": [],
   "source": [
    "y_pre = model3.predict(test_sequence1,batch_size=512)\n",
    "submission = pd.DataFrame({'id': test_df['id'].values})\n",
    "submission['prediction'] = y_pre\n",
    "submission.to_csv(\"submission11.csv\",index=False) \n"
   ]
  },
  {
   "cell_type": "code",
   "execution_count": 0,
   "metadata": {
    "colab": {},
    "colab_type": "code",
    "id": "PHOY6RKX7k0V"
   },
   "outputs": [],
   "source": [
    "from google.colab import files\n",
    "files.download( \"/content/submission11.csv\" )  "
   ]
  },
  {
   "cell_type": "markdown",
   "metadata": {
    "colab_type": "text",
    "id": "Fkuzww6cN1-s"
   },
   "source": [
    "## Third Bi-LSTM architecture"
   ]
  },
  {
   "cell_type": "code",
   "execution_count": 0,
   "metadata": {
    "colab": {
     "base_uri": "https://localhost:8080/",
     "height": 887
    },
    "colab_type": "code",
    "id": "V8oZknWteWTD",
    "outputId": "c140ad09-5915-4258-f795-07fde471b1ea"
   },
   "outputs": [
    {
     "name": "stderr",
     "output_type": "stream",
     "text": [
      "WARNING: Logging before flag parsing goes to stderr.\n",
      "W0830 05:13:28.912689 139808314402688 deprecation_wrapper.py:119] From /usr/local/lib/python3.6/dist-packages/keras/backend/tensorflow_backend.py:66: The name tf.get_default_graph is deprecated. Please use tf.compat.v1.get_default_graph instead.\n",
      "\n",
      "W0830 05:13:28.966059 139808314402688 deprecation_wrapper.py:119] From /usr/local/lib/python3.6/dist-packages/keras/backend/tensorflow_backend.py:541: The name tf.placeholder is deprecated. Please use tf.compat.v1.placeholder instead.\n",
      "\n",
      "W0830 05:13:28.973107 139808314402688 deprecation_wrapper.py:119] From /usr/local/lib/python3.6/dist-packages/keras/backend/tensorflow_backend.py:4432: The name tf.random_uniform is deprecated. Please use tf.random.uniform instead.\n",
      "\n",
      "W0830 05:13:30.026833 139808314402688 deprecation_wrapper.py:119] From /usr/local/lib/python3.6/dist-packages/keras/backend/tensorflow_backend.py:148: The name tf.placeholder_with_default is deprecated. Please use tf.compat.v1.placeholder_with_default instead.\n",
      "\n",
      "W0830 05:13:30.035221 139808314402688 deprecation.py:506] From /usr/local/lib/python3.6/dist-packages/keras/backend/tensorflow_backend.py:3733: calling dropout (from tensorflow.python.ops.nn_ops) with keep_prob is deprecated and will be removed in a future version.\n",
      "Instructions for updating:\n",
      "Please use `rate` instead of `keep_prob`. Rate should be set to `rate = 1 - keep_prob`.\n",
      "W0830 05:13:30.064623 139808314402688 deprecation_wrapper.py:119] From /usr/local/lib/python3.6/dist-packages/keras/optimizers.py:793: The name tf.train.Optimizer is deprecated. Please use tf.compat.v1.train.Optimizer instead.\n",
      "\n",
      "W0830 05:13:30.086747 139808314402688 deprecation_wrapper.py:119] From /usr/local/lib/python3.6/dist-packages/keras/backend/tensorflow_backend.py:3657: The name tf.log is deprecated. Please use tf.math.log instead.\n",
      "\n",
      "W0830 05:13:30.092208 139808314402688 deprecation.py:323] From /usr/local/lib/python3.6/dist-packages/tensorflow/python/ops/nn_impl.py:180: add_dispatch_support.<locals>.wrapper (from tensorflow.python.ops.array_ops) is deprecated and will be removed in a future version.\n",
      "Instructions for updating:\n",
      "Use tf.where in 2.0, which has the same broadcast rule as np.where\n"
     ]
    },
    {
     "name": "stdout",
     "output_type": "stream",
     "text": [
      "Model: \"model_1\"\n",
      "__________________________________________________________________________________________________\n",
      "Layer (type)                    Output Shape         Param #     Connected to                     \n",
      "==================================================================================================\n",
      "input_1 (InputLayer)            (None, 150)          0                                            \n",
      "__________________________________________________________________________________________________\n",
      "embedding_1 (Embedding)         (None, 150, 100)     40000000    input_1[0][0]                    \n",
      "__________________________________________________________________________________________________\n",
      "embedding_2 (Embedding)         (None, 150, 100)     40000000    input_1[0][0]                    \n",
      "__________________________________________________________________________________________________\n",
      "bidirectional_1 (Bidirectional) (None, 150, 256)     234496      embedding_1[0][0]                \n",
      "__________________________________________________________________________________________________\n",
      "bidirectional_2 (Bidirectional) (None, 150, 256)     234496      embedding_2[0][0]                \n",
      "__________________________________________________________________________________________________\n",
      "global_max_pooling1d_1 (GlobalM (None, 256)          0           bidirectional_1[0][0]            \n",
      "__________________________________________________________________________________________________\n",
      "global_max_pooling1d_2 (GlobalM (None, 256)          0           bidirectional_2[0][0]            \n",
      "__________________________________________________________________________________________________\n",
      "concatenate_1 (Concatenate)     (None, 512)          0           global_max_pooling1d_1[0][0]     \n",
      "                                                                 global_max_pooling1d_2[0][0]     \n",
      "__________________________________________________________________________________________________\n",
      "dense_1 (Dense)                 (None, 64)           32832       concatenate_1[0][0]              \n",
      "__________________________________________________________________________________________________\n",
      "dropout_1 (Dropout)             (None, 64)           0           dense_1[0][0]                    \n",
      "__________________________________________________________________________________________________\n",
      "dense_2 (Dense)                 (None, 1)            65          dropout_1[0][0]                  \n",
      "==================================================================================================\n",
      "Total params: 80,501,889\n",
      "Trainable params: 80,501,889\n",
      "Non-trainable params: 0\n",
      "__________________________________________________________________________________________________\n"
     ]
    }
   ],
   "source": [
    "from keras.models import Sequential\n",
    "from keras.layers import Dense\n",
    "from keras.layers import LSTM\n",
    "from keras.layers.embeddings import Embedding\n",
    "from keras.preprocessing import sequence\n",
    "from keras.layers import MaxPooling1D\n",
    "from keras.layers import Flatten, GlobalMaxPool1D\n",
    "from keras.layers import Dropout, BatchNormalization, Input\n",
    "from keras.layers import Dense, Bidirectional, concatenate\n",
    "from keras.models import Model\n",
    "from keras.optimizers import Adam\n",
    "\n",
    "embedding_vector_length = 100\n",
    "input1 = Input(shape=(150,))\n",
    "x1 = Embedding(vocab_size,embedding_vector_length, input_length=150)(input1)\n",
    "x1 = Bidirectional(LSTM(128,return_sequences=True))(x1)\n",
    "x1 = GlobalMaxPool1D()(x1)\n",
    "\n",
    "\n",
    "x2 = Embedding(vocab_size,embedding_vector_length, input_length=150)(input1)\n",
    "x2 = Bidirectional(LSTM(128,return_sequences=True))(x2)\n",
    "x2 = GlobalMaxPool1D()(x2)\n",
    "\n",
    "x = concatenate([x1, x2])\n",
    "x = Dense(64, activation='relu')(x)\n",
    "x = Dropout(0.1)(x)\n",
    "output = Dense(1, activation='sigmoid')(x)\n",
    "model4 = Model(inputs=[input1,], outputs = output)\n",
    "#adam = Adam(lr=0.0001)\n",
    "model4.compile(loss='binary_crossentropy', optimizer= 'adam', metrics=['accuracy'])\n",
    "model4.summary()"
   ]
  },
  {
   "cell_type": "code",
   "execution_count": 0,
   "metadata": {
    "colab": {
     "base_uri": "https://localhost:8080/",
     "height": 187
    },
    "colab_type": "code",
    "id": "AmWZsrnveWXr",
    "outputId": "e9634ddb-025d-4ca6-f97e-2409dae86cbd"
   },
   "outputs": [
    {
     "name": "stdout",
     "output_type": "stream",
     "text": [
      "Train on 1282192 samples, validate on 142466 samples\n",
      "Epoch 1/4\n",
      "1282192/1282192 [==============================] - 3407s 3ms/step - loss: 0.1435 - acc: 0.9465 - val_loss: 0.1267 - val_acc: 0.9496\n",
      "Epoch 2/4\n",
      "1282192/1282192 [==============================] - 3402s 3ms/step - loss: 0.1150 - acc: 0.9541 - val_loss: 0.1284 - val_acc: 0.9495\n",
      "Epoch 3/4\n",
      "1282192/1282192 [==============================] - 3397s 3ms/step - loss: 0.0936 - acc: 0.9622 - val_loss: 0.1432 - val_acc: 0.9477\n",
      "Epoch 4/4\n",
      "1282192/1282192 [==============================] - 3387s 3ms/step - loss: 0.0662 - acc: 0.9737 - val_loss: 0.1730 - val_acc: 0.9422\n"
     ]
    },
    {
     "data": {
      "text/plain": [
       "<keras.callbacks.History at 0x7f2704459c50>"
      ]
     },
     "execution_count": 31,
     "metadata": {
      "tags": []
     },
     "output_type": "execute_result"
    }
   ],
   "source": [
    "model4.fit(train_sequence, Y_train, epochs=4, batch_size=512, validation_data=[cv_sequence, Y_cv])"
   ]
  },
  {
   "cell_type": "code",
   "execution_count": 0,
   "metadata": {
    "colab": {
     "base_uri": "https://localhost:8080/",
     "height": 34
    },
    "colab_type": "code",
    "id": "I7rLqgNKDf-5",
    "outputId": "e72956f1-71b4-439a-d43c-bab9ff8dba47"
   },
   "outputs": [
    {
     "name": "stdout",
     "output_type": "stream",
     "text": [
      "0.9968805599682502\n"
     ]
    }
   ],
   "source": [
    "# Train auc\n",
    "predicted_y = model4.predict(train_sequence,batch_size=512)\n",
    "from sklearn.metrics import roc_auc_score\n",
    "print(roc_auc_score(Y_train,predicted_y))"
   ]
  },
  {
   "cell_type": "code",
   "execution_count": 0,
   "metadata": {
    "colab": {
     "base_uri": "https://localhost:8080/",
     "height": 34
    },
    "colab_type": "code",
    "id": "oZe8EaOlE5MS",
    "outputId": "393f33fc-b55b-4aac-f5d1-9626ebd8c5f8"
   },
   "outputs": [
    {
     "name": "stdout",
     "output_type": "stream",
     "text": [
      "0.937064717518582\n"
     ]
    }
   ],
   "source": [
    "# Roc auc\n",
    "predicted_y = model4.predict(test_sequence,batch_size=512)\n",
    "from sklearn.metrics import roc_auc_score\n",
    "print(roc_auc_score(Y_test,predicted_y))\n"
   ]
  },
  {
   "cell_type": "code",
   "execution_count": 0,
   "metadata": {
    "colab": {},
    "colab_type": "code",
    "id": "whFv3tqHTB0P"
   },
   "outputs": [],
   "source": [
    "y_pre = model4.predict(test_sequence1,batch_size=512)\n",
    "submission = pd.DataFrame({'id': test_df['id'].values})\n",
    "submission['prediction'] = y_pre\n",
    "submission.to_csv(\"submission12.csv\",index=False)\n"
   ]
  },
  {
   "cell_type": "code",
   "execution_count": 0,
   "metadata": {
    "colab": {},
    "colab_type": "code",
    "id": "qFIT6L52X6Cr"
   },
   "outputs": [],
   "source": [
    "from google.colab import files\n",
    "files.download( \"/content/submission12.csv\" )  "
   ]
  },
  {
   "cell_type": "markdown",
   "metadata": {
    "colab_type": "text",
    "id": "udNfnvCt77z9"
   },
   "source": [
    "# Fourth Arcitecture"
   ]
  },
  {
   "cell_type": "code",
   "execution_count": 0,
   "metadata": {
    "colab": {
     "base_uri": "https://localhost:8080/",
     "height": 326
    },
    "colab_type": "code",
    "id": "-kNfyrgT43rj",
    "outputId": "76075791-f108-4bd4-acaa-b9c254ca7a78"
   },
   "outputs": [
    {
     "name": "stdout",
     "output_type": "stream",
     "text": [
      "Collecting keras-self-attention\n",
      "  Downloading https://files.pythonhosted.org/packages/44/3e/eb1a7c7545eede073ceda2f5d78442b6cad33b5b750d7f0742866907c34b/keras-self-attention-0.42.0.tar.gz\n",
      "Requirement already satisfied: numpy in /usr/local/lib/python3.6/dist-packages (from keras-self-attention) (1.16.5)\n",
      "Requirement already satisfied: Keras in /usr/local/lib/python3.6/dist-packages (from keras-self-attention) (2.2.5)\n",
      "Requirement already satisfied: scipy>=0.14 in /usr/local/lib/python3.6/dist-packages (from Keras->keras-self-attention) (1.3.1)\n",
      "Requirement already satisfied: pyyaml in /usr/local/lib/python3.6/dist-packages (from Keras->keras-self-attention) (3.13)\n",
      "Requirement already satisfied: keras-applications>=1.0.8 in /usr/local/lib/python3.6/dist-packages (from Keras->keras-self-attention) (1.0.8)\n",
      "Requirement already satisfied: six>=1.9.0 in /usr/local/lib/python3.6/dist-packages (from Keras->keras-self-attention) (1.12.0)\n",
      "Requirement already satisfied: keras-preprocessing>=1.1.0 in /usr/local/lib/python3.6/dist-packages (from Keras->keras-self-attention) (1.1.0)\n",
      "Requirement already satisfied: h5py in /usr/local/lib/python3.6/dist-packages (from Keras->keras-self-attention) (2.8.0)\n",
      "Building wheels for collected packages: keras-self-attention\n",
      "  Building wheel for keras-self-attention (setup.py) ... \u001b[?25l\u001b[?25hdone\n",
      "  Created wheel for keras-self-attention: filename=keras_self_attention-0.42.0-cp36-none-any.whl size=17296 sha256=f2ca30cf1ecfb1b0c27d993423542039fcdd4b2f8610622d52962d7c473f17df\n",
      "  Stored in directory: /root/.cache/pip/wheels/7b/05/a0/99c0cf60d383f0494e10eca2b238ea98faca9a1fe03cac2894\n",
      "Successfully built keras-self-attention\n",
      "Installing collected packages: keras-self-attention\n",
      "Successfully installed keras-self-attention-0.42.0\n"
     ]
    }
   ],
   "source": [
    "!pip install keras-self-attention"
   ]
  },
  {
   "cell_type": "code",
   "execution_count": 0,
   "metadata": {
    "colab": {
     "base_uri": "https://localhost:8080/",
     "height": 731
    },
    "colab_type": "code",
    "id": "9l43xwPS43kK",
    "outputId": "f39eb9b1-50a7-479b-c444-d157f7d79b7a"
   },
   "outputs": [
    {
     "name": "stdout",
     "output_type": "stream",
     "text": [
      "Tensor(\"flatten_10/Reshape:0\", shape=(?, ?), dtype=float32)\n",
      "Model: \"model_4\"\n",
      "__________________________________________________________________________________________________\n",
      "Layer (type)                    Output Shape         Param #     Connected to                     \n",
      "==================================================================================================\n",
      "input_18 (InputLayer)           (None, 150)          0                                            \n",
      "__________________________________________________________________________________________________\n",
      "embedding_18 (Embedding)        (None, 150, 300)     71461200    input_18[0][0]                   \n",
      "__________________________________________________________________________________________________\n",
      "bidirectional_30 (Bidirectional (None, 150, 240)     404160      embedding_18[0][0]               \n",
      "__________________________________________________________________________________________________\n",
      "bidirectional_31 (Bidirectional [(None, 150, 120), ( 108360      bidirectional_30[0][0]           \n",
      "__________________________________________________________________________________________________\n",
      "concatenate_22 (Concatenate)    (None, 120)          0           bidirectional_31[0][1]           \n",
      "                                                                 bidirectional_31[0][2]           \n",
      "__________________________________________________________________________________________________\n",
      "global_average_pooling1d_7 (Glo (None, 120)          0           bidirectional_31[0][0]           \n",
      "__________________________________________________________________________________________________\n",
      "global_max_pooling1d_14 (Global (None, 120)          0           bidirectional_31[0][0]           \n",
      "__________________________________________________________________________________________________\n",
      "reshape_12 (Reshape)            (None, 1, 120)       0           concatenate_22[0][0]             \n",
      "__________________________________________________________________________________________________\n",
      "reshape_13 (Reshape)            (None, 1, 120)       0           global_average_pooling1d_7[0][0] \n",
      "__________________________________________________________________________________________________\n",
      "reshape_14 (Reshape)            (None, 1, 120)       0           global_max_pooling1d_14[0][0]    \n",
      "__________________________________________________________________________________________________\n",
      "concatenate_23 (Concatenate)    (None, 1, 360)       0           reshape_12[0][0]                 \n",
      "                                                                 reshape_13[0][0]                 \n",
      "                                                                 reshape_14[0][0]                 \n",
      "__________________________________________________________________________________________________\n",
      "dense_7 (Dense)                 (None, 1, 20)        7220        concatenate_23[0][0]             \n",
      "__________________________________________________________________________________________________\n",
      "dropout_21 (Dropout)            (None, 1, 20)        0           dense_7[0][0]                    \n",
      "__________________________________________________________________________________________________\n",
      "flatten_10 (Flatten)            (None, 20)           0           dropout_21[0][0]                 \n",
      "__________________________________________________________________________________________________\n",
      "dense_8 (Dense)                 (None, 1)            21          flatten_10[0][0]                 \n",
      "==================================================================================================\n",
      "Total params: 71,980,961\n",
      "Trainable params: 519,761\n",
      "Non-trainable params: 71,461,200\n",
      "__________________________________________________________________________________________________\n"
     ]
    }
   ],
   "source": [
    "import keras\n",
    "from keras.models import Sequential\n",
    "from keras.layers import Dense\n",
    "from keras.layers import LSTM, GRU\n",
    "from keras.layers.embeddings import Embedding\n",
    "from keras.preprocessing import sequence\n",
    "from keras.layers import MaxPooling1D, Reshape\n",
    "from keras.layers import Flatten, GlobalMaxPool1D, GlobalAveragePooling1D\n",
    "from keras.layers import Dropout, BatchNormalization, Input, SpatialDropout1D\n",
    "from keras.layers import Dense, Bidirectional, concatenate\n",
    "from keras.models import Model\n",
    "from keras.optimizers import Adam\n",
    "from keras_self_attention import SeqSelfAttention\n",
    "\n",
    "\n",
    "embedding_vector_length = 300\n",
    "input1 = Input(shape=(150,))\n",
    "e1 = Embedding(vocab_size,embedding_vector_length, input_length=150, weights=[embedding_matrix], trainable=False)(input1)\n",
    "x1 = Dropout(0.2)(e1)\n",
    "x1 = Bidirectional(LSTM(120, return_sequences=True))(e1)\n",
    "#lstm_att = SeqSelfAttention(attention_activation='sigmoid')(x1)\n",
    "\n",
    "gru1, fh_state, bh_state = Bidirectional(GRU(60, return_sequences= True, return_state=True))(x1)\n",
    "#x2 = SeqSelfAttention(attention_activation='sigmoid')(x2)\n",
    "\n",
    "h_state = concatenate([fh_state, bh_state])\n",
    "h_state = Reshape((-1,120))(h_state )\n",
    "\n",
    "h_avg = GlobalAveragePooling1D()(gru1)\n",
    "h_max = GlobalMaxPool1D()(gru1)\n",
    "\n",
    "h_avg = Reshape((-1,120))(h_avg )\n",
    "h_max = Reshape((-1,120))(h_max )\n",
    "\n",
    "\n",
    "x = concatenate([h_state, h_avg, h_max])\n",
    "x = Dense(20, activation='relu')(x)\n",
    "x = Dropout(0.1)(x)\n",
    "x = Flatten()(x)\n",
    "#print(x)\n",
    "output = Dense(1, activation='sigmoid')(x)\n",
    "model5 = Model(inputs=[input1,], outputs = output)\n",
    "#adam = Adam(lr=0.001)\n",
    "model5.compile(loss= 'binary_crossentropy' , optimizer= 'adam', metrics=['accuracy',])\n",
    "model5.summary()"
   ]
  },
  {
   "cell_type": "code",
   "execution_count": 0,
   "metadata": {
    "colab": {
     "base_uri": "https://localhost:8080/",
     "height": 255
    },
    "colab_type": "code",
    "id": "nWCvIKgc43hW",
    "outputId": "cef172db-22c2-40f2-dd4a-ef0a51df406e"
   },
   "outputs": [
    {
     "name": "stdout",
     "output_type": "stream",
     "text": [
      "Train on 1282192 samples, validate on 142466 samples\n",
      "Epoch 1/6\n",
      "1282192/1282192 [==============================] - 2724s 2ms/step - loss: 0.1427 - acc: 0.9465 - val_loss: 0.1264 - val_acc: 0.9503\n",
      "Epoch 2/6\n",
      "1282192/1282192 [==============================] - 2730s 2ms/step - loss: 0.1237 - acc: 0.9516 - val_loss: 0.1253 - val_acc: 0.9507\n",
      "Epoch 3/6\n",
      "1282192/1282192 [==============================] - 2724s 2ms/step - loss: 0.1171 - acc: 0.9535 - val_loss: 0.1219 - val_acc: 0.9519\n",
      "Epoch 4/6\n",
      "1282192/1282192 [==============================] - 2713s 2ms/step - loss: 0.1104 - acc: 0.9556 - val_loss: 0.1253 - val_acc: 0.9505\n",
      "Epoch 5/6\n",
      "1282192/1282192 [==============================] - 2713s 2ms/step - loss: 0.1026 - acc: 0.9581 - val_loss: 0.1263 - val_acc: 0.9506\n",
      "Epoch 6/6\n",
      "1282192/1282192 [==============================] - 2724s 2ms/step - loss: 0.0933 - acc: 0.9612 - val_loss: 0.1340 - val_acc: 0.9492\n"
     ]
    },
    {
     "data": {
      "text/plain": [
       "<keras.callbacks.History at 0x7f0cc1757d68>"
      ]
     },
     "execution_count": 51,
     "metadata": {
      "tags": []
     },
     "output_type": "execute_result"
    }
   ],
   "source": [
    "model5.fit(train_sequence, Y_train, epochs=6, batch_size=512, validation_data=[cv_sequence, Y_cv])"
   ]
  },
  {
   "cell_type": "code",
   "execution_count": 0,
   "metadata": {
    "colab": {},
    "colab_type": "code",
    "id": "9lfqtrN-Ggkm"
   },
   "outputs": [],
   "source": [
    "# Creating loss metric\n",
    "j_eval = JigsawEvaluator(y_binary, y_identity_binary)"
   ]
  },
  {
   "cell_type": "code",
   "execution_count": 0,
   "metadata": {
    "colab": {},
    "colab_type": "code",
    "id": "HeO14m8dGz4B"
   },
   "outputs": [],
   "source": [
    "predicted_y = model5.predict(test_sequence,batch_size=512)\n",
    "final_auc = j_eval.get_final_metric(predicted_y)"
   ]
  },
  {
   "cell_type": "code",
   "execution_count": 0,
   "metadata": {
    "colab": {
     "base_uri": "https://localhost:8080/",
     "height": 34
    },
    "colab_type": "code",
    "id": "k7k952YEFukt",
    "outputId": "03b89787-3d2e-4e2c-c535-954d80687861"
   },
   "outputs": [
    {
     "name": "stdout",
     "output_type": "stream",
     "text": [
      "Auc of the model is 0.9118993070137469\n"
     ]
    }
   ],
   "source": [
    "# This is the auc metric that was given by kaggle.\n",
    "print(\"Auc of the model is {}\".format(final_auc))"
   ]
  },
  {
   "cell_type": "code",
   "execution_count": 0,
   "metadata": {
    "colab": {},
    "colab_type": "code",
    "id": "oB6Y70mXOUwH"
   },
   "outputs": [],
   "source": [
    "predicted_y1 = (predicted_y >= 0.5).astype(int)"
   ]
  },
  {
   "cell_type": "code",
   "execution_count": 0,
   "metadata": {
    "colab": {
     "base_uri": "https://localhost:8080/",
     "height": 34
    },
    "colab_type": "code",
    "id": "8B6xpRPmOIjq",
    "outputId": "31fe59ae-6392-4247-f019-e4abc49295b4"
   },
   "outputs": [
    {
     "name": "stdout",
     "output_type": "stream",
     "text": [
      "0.9550143824173905\n"
     ]
    }
   ],
   "source": [
    "# This is the simple auc on test data\n",
    "print(roc_auc_score(Y_test, predicted_y))"
   ]
  },
  {
   "cell_type": "code",
   "execution_count": 0,
   "metadata": {
    "colab": {},
    "colab_type": "code",
    "id": "gRxZjb0lKNb7"
   },
   "outputs": [],
   "source": [
    "predict_y = model5.predict(test_sequence1,batch_size=512)"
   ]
  },
  {
   "cell_type": "code",
   "execution_count": 0,
   "metadata": {
    "colab": {},
    "colab_type": "code",
    "id": "mhQ4i1ur7QnY"
   },
   "outputs": [],
   "source": [
    "# saving model to google drive\n",
    "from keras.models import load_model\n",
    "model5.save(\"/content/drive/My Drive/Project/my_model5.h5\")"
   ]
  },
  {
   "cell_type": "code",
   "execution_count": 0,
   "metadata": {
    "colab": {},
    "colab_type": "code",
    "id": "0zSl7Cnz43U5"
   },
   "outputs": [],
   "source": [
    "#y_pre = model5.predict(test_sequence1,batch_size=32)\n",
    "submission = pd.DataFrame({'id': test_df['id'].values})\n",
    "submission['prediction'] = predict_y\n",
    "submission.to_csv(\"submission18.csv\",index=False)"
   ]
  },
  {
   "cell_type": "code",
   "execution_count": 0,
   "metadata": {
    "colab": {},
    "colab_type": "code",
    "id": "Z4K80WM42s9q"
   },
   "outputs": [],
   "source": [
    "from google.colab import files\n",
    "files.download( \"/content/submission18.csv\" )  "
   ]
  },
  {
   "cell_type": "code",
   "execution_count": 0,
   "metadata": {
    "colab": {},
    "colab_type": "code",
    "id": "jyIQ_6Ri1u9L"
   },
   "outputs": [],
   "source": []
  },
  {
   "cell_type": "markdown",
   "metadata": {
    "colab_type": "text",
    "id": "9FekWD7s1wZs"
   },
   "source": [
    "# Fifth Architecture"
   ]
  },
  {
   "cell_type": "code",
   "execution_count": 0,
   "metadata": {
    "colab": {
     "base_uri": "https://localhost:8080/",
     "height": 751
    },
    "colab_type": "code",
    "id": "MAvMQ9451vGm",
    "outputId": "e5aac6e2-b1ff-45fb-f89c-8596214aa61d"
   },
   "outputs": [
    {
     "name": "stdout",
     "output_type": "stream",
     "text": [
      "WARNING:tensorflow:From /usr/local/lib/python3.6/dist-packages/keras/optimizers.py:793: The name tf.train.Optimizer is deprecated. Please use tf.compat.v1.train.Optimizer instead.\n",
      "\n",
      "WARNING:tensorflow:From /usr/local/lib/python3.6/dist-packages/tensorflow/python/ops/nn_impl.py:180: add_dispatch_support.<locals>.wrapper (from tensorflow.python.ops.array_ops) is deprecated and will be removed in a future version.\n",
      "Instructions for updating:\n",
      "Use tf.where in 2.0, which has the same broadcast rule as np.where\n",
      "Model: \"model_1\"\n",
      "__________________________________________________________________________________________________\n",
      "Layer (type)                    Output Shape         Param #     Connected to                     \n",
      "==================================================================================================\n",
      "input_2 (InputLayer)            (None, 150)          0                                            \n",
      "__________________________________________________________________________________________________\n",
      "embedding_2 (Embedding)         (None, 150, 300)     71461200    input_2[0][0]                    \n",
      "__________________________________________________________________________________________________\n",
      "spatial_dropout1d_2 (SpatialDro (None, 150, 300)     0           embedding_2[0][0]                \n",
      "__________________________________________________________________________________________________\n",
      "bidirectional_3 (Bidirectional) (None, 150, 256)     440320      spatial_dropout1d_2[0][0]        \n",
      "__________________________________________________________________________________________________\n",
      "bidirectional_4 (Bidirectional) (None, 150, 256)     395264      bidirectional_3[0][0]            \n",
      "__________________________________________________________________________________________________\n",
      "global_max_pooling1d_3 (GlobalM (None, 256)          0           bidirectional_4[0][0]            \n",
      "__________________________________________________________________________________________________\n",
      "global_average_pooling1d_2 (Glo (None, 256)          0           bidirectional_4[0][0]            \n",
      "__________________________________________________________________________________________________\n",
      "concatenate_2 (Concatenate)     (None, 512)          0           global_max_pooling1d_3[0][0]     \n",
      "                                                                 global_average_pooling1d_2[0][0] \n",
      "__________________________________________________________________________________________________\n",
      "dense_1 (Dense)                 (None, 512)          262656      concatenate_2[0][0]              \n",
      "__________________________________________________________________________________________________\n",
      "add_1 (Add)                     (None, 512)          0           concatenate_2[0][0]              \n",
      "                                                                 dense_1[0][0]                    \n",
      "__________________________________________________________________________________________________\n",
      "dense_2 (Dense)                 (None, 512)          262656      add_1[0][0]                      \n",
      "__________________________________________________________________________________________________\n",
      "add_2 (Add)                     (None, 512)          0           add_1[0][0]                      \n",
      "                                                                 dense_2[0][0]                    \n",
      "__________________________________________________________________________________________________\n",
      "dense_3 (Dense)                 (None, 1)            513         add_2[0][0]                      \n",
      "==================================================================================================\n",
      "Total params: 72,822,609\n",
      "Trainable params: 1,361,409\n",
      "Non-trainable params: 71,461,200\n",
      "__________________________________________________________________________________________________\n"
     ]
    }
   ],
   "source": [
    "from keras.models import Model\n",
    "from keras.layers import Input, Dense, Embedding, SpatialDropout1D, Dropout, add, concatenate\n",
    "from keras.layers import CuDNNLSTM, Bidirectional, GlobalMaxPooling1D, GlobalAveragePooling1D\n",
    "from keras.preprocessing import text, sequence\n",
    "from keras.callbacks import LearningRateScheduler\n",
    "from keras.losses import binary_crossentropy\n",
    "from keras import backend as K\n",
    "\n",
    "DENSE_HIDDEN_UNITS = 4*128\n",
    "\n",
    "embedding_vector_length = 300\n",
    "input1 = Input(shape=(150,))\n",
    "e1 = Embedding(vocab_size,embedding_vector_length, input_length=150, weights=[embedding_matrix], trainable=False)(input1)\n",
    "x = SpatialDropout1D(0.3)(e1)\n",
    "x = Bidirectional(CuDNNLSTM(128, return_sequences=True))(x)\n",
    "x = Bidirectional(CuDNNLSTM(128, return_sequences=True))(x)\n",
    "\n",
    "max_pool = GlobalMaxPooling1D()(x)\n",
    "avg_pool = GlobalAveragePooling1D()(x)\n",
    "x = concatenate([max_pool, avg_pool])\n",
    "\n",
    "x = add([x, Dense(DENSE_HIDDEN_UNITS, activation='relu')(x)])\n",
    "x = add([x, Dense(DENSE_HIDDEN_UNITS, activation='relu')(x)])\n",
    "output = Dense(1, activation='sigmoid')(x)\n",
    "\n",
    "model6 = Model(inputs=[input1,], outputs=[output])\n",
    "model6.compile(loss='binary_crossentropy', optimizer='adam', metrics=['accuracy'])\n",
    "model6.summary()"
   ]
  },
  {
   "cell_type": "code",
   "execution_count": 0,
   "metadata": {
    "colab": {
     "base_uri": "https://localhost:8080/",
     "height": 187
    },
    "colab_type": "code",
    "id": "OsZCXpXr1vPO",
    "outputId": "f8b8a5e8-06c8-4111-f8b9-df7223e90e2e"
   },
   "outputs": [
    {
     "name": "stdout",
     "output_type": "stream",
     "text": [
      "Train on 1282192 samples, validate on 142466 samples\n",
      "Epoch 1/4\n",
      "1282192/1282192 [==============================] - 984s 767us/step - loss: 0.1478 - acc: 0.9443 - val_loss: 0.1283 - val_acc: 0.9499\n",
      "Epoch 2/4\n",
      "1282192/1282192 [==============================] - 979s 764us/step - loss: 0.1293 - acc: 0.9495 - val_loss: 0.1236 - val_acc: 0.9514\n",
      "Epoch 3/4\n",
      "1282192/1282192 [==============================] - 979s 764us/step - loss: 0.1240 - acc: 0.9512 - val_loss: 0.1264 - val_acc: 0.9488\n",
      "Epoch 4/4\n",
      "1282192/1282192 [==============================] - 980s 764us/step - loss: 0.1201 - acc: 0.9525 - val_loss: 0.1237 - val_acc: 0.9505\n"
     ]
    },
    {
     "data": {
      "text/plain": [
       "<keras.callbacks.History at 0x7fafd66ab438>"
      ]
     },
     "execution_count": 31,
     "metadata": {
      "tags": []
     },
     "output_type": "execute_result"
    }
   ],
   "source": [
    "model6.fit(train_sequence, Y_train, epochs=4, batch_size=512, validation_data=[cv_sequence, Y_cv])"
   ]
  },
  {
   "cell_type": "code",
   "execution_count": 0,
   "metadata": {
    "colab": {
     "base_uri": "https://localhost:8080/",
     "height": 343
    },
    "colab_type": "code",
    "id": "Qu1SZCyks9IE",
    "outputId": "857a5282-a1be-445b-9906-da7993d3bcb1"
   },
   "outputs": [
    {
     "name": "stdout",
     "output_type": "stream",
     "text": [
      "WARNING:tensorflow:From /usr/local/lib/python3.6/dist-packages/keras/backend/tensorflow_backend.py:541: The name tf.placeholder is deprecated. Please use tf.compat.v1.placeholder instead.\n",
      "\n",
      "WARNING:tensorflow:From /usr/local/lib/python3.6/dist-packages/keras/backend/tensorflow_backend.py:4432: The name tf.random_uniform is deprecated. Please use tf.random.uniform instead.\n",
      "\n",
      "WARNING:tensorflow:From /usr/local/lib/python3.6/dist-packages/keras/backend/tensorflow_backend.py:66: The name tf.get_default_graph is deprecated. Please use tf.compat.v1.get_default_graph instead.\n",
      "\n",
      "WARNING:tensorflow:From /usr/local/lib/python3.6/dist-packages/keras/backend/tensorflow_backend.py:148: The name tf.placeholder_with_default is deprecated. Please use tf.compat.v1.placeholder_with_default instead.\n",
      "\n",
      "WARNING:tensorflow:From /usr/local/lib/python3.6/dist-packages/keras/backend/tensorflow_backend.py:3733: calling dropout (from tensorflow.python.ops.nn_ops) with keep_prob is deprecated and will be removed in a future version.\n",
      "Instructions for updating:\n",
      "Please use `rate` instead of `keep_prob`. Rate should be set to `rate = 1 - keep_prob`.\n",
      "WARNING:tensorflow:From /usr/local/lib/python3.6/dist-packages/keras/backend/tensorflow_backend.py:190: The name tf.get_default_session is deprecated. Please use tf.compat.v1.get_default_session instead.\n",
      "\n",
      "WARNING:tensorflow:From /usr/local/lib/python3.6/dist-packages/keras/optimizers.py:793: The name tf.train.Optimizer is deprecated. Please use tf.compat.v1.train.Optimizer instead.\n",
      "\n",
      "WARNING:tensorflow:From /usr/local/lib/python3.6/dist-packages/tensorflow/python/ops/nn_impl.py:180: add_dispatch_support.<locals>.wrapper (from tensorflow.python.ops.array_ops) is deprecated and will be removed in a future version.\n",
      "Instructions for updating:\n",
      "Use tf.where in 2.0, which has the same broadcast rule as np.where\n"
     ]
    }
   ],
   "source": [
    "from keras.models import load_model\n",
    "model6 = load_model(\"/content/drive/My Drive/Project/my_model6.h5\")"
   ]
  },
  {
   "cell_type": "code",
   "execution_count": 0,
   "metadata": {
    "colab": {
     "base_uri": "https://localhost:8080/",
     "height": 34
    },
    "colab_type": "code",
    "id": "m1C_dpDw5ltj",
    "outputId": "74f83a0a-5131-409e-8c1d-21cb8e16ce30"
   },
   "outputs": [
    {
     "name": "stdout",
     "output_type": "stream",
     "text": [
      "Auc of the model is 0.9192013466030311\n"
     ]
    }
   ],
   "source": [
    "# Creating loss metric\n",
    "j_eval = JigsawEvaluator(y_binary, y_identity_binary)\n",
    "\n",
    "predicted_y = model6.predict(test_sequence,batch_size=512)\n",
    "final_auc = j_eval.get_final_metric(predicted_y)\n",
    "# This is the auc metric that was given by kaggle.\n",
    "print(\"Auc of the model is {}\".format(final_auc))"
   ]
  },
  {
   "cell_type": "code",
   "execution_count": 0,
   "metadata": {
    "colab": {},
    "colab_type": "code",
    "id": "IFvn9OZ15l14"
   },
   "outputs": [],
   "source": [
    "predict_y = model6.predict(test_sequence1,batch_size=512)"
   ]
  },
  {
   "cell_type": "code",
   "execution_count": 0,
   "metadata": {
    "colab": {},
    "colab_type": "code",
    "id": "i2-mXRhI1vXk"
   },
   "outputs": [],
   "source": [
    "# saving model to google drive\n",
    "from keras.models import load_model\n",
    "model6.save(\"/content/drive/My Drive/Project/my_model6.h5\")"
   ]
  },
  {
   "cell_type": "code",
   "execution_count": 0,
   "metadata": {
    "colab": {},
    "colab_type": "code",
    "id": "OLlSl_Uysece"
   },
   "outputs": [],
   "source": [
    "model6 = load_model(\"/content/drive/My Drive/Project/my_model6.h5\")"
   ]
  },
  {
   "cell_type": "code",
   "execution_count": 0,
   "metadata": {
    "colab": {},
    "colab_type": "code",
    "id": "CFt0RTQF1vf4"
   },
   "outputs": [],
   "source": [
    "#y_pre = model5.predict(test_sequence1,batch_size=32)\n",
    "submission = pd.DataFrame({'id': test_df['id'].values})\n",
    "submission['prediction'] = predict_y\n",
    "submission.to_csv(\"submission19.csv\",index=False)"
   ]
  },
  {
   "cell_type": "code",
   "execution_count": 0,
   "metadata": {
    "colab": {},
    "colab_type": "code",
    "id": "26JxU3tB1voE"
   },
   "outputs": [],
   "source": [
    "from google.colab import files\n",
    "files.download( \"/content/submission19.csv\" )  "
   ]
  },
  {
   "cell_type": "markdown",
   "metadata": {
    "colab_type": "text",
    "id": "6jpSUYQvYwbK"
   },
   "source": [
    "### Attention layer"
   ]
  },
  {
   "cell_type": "code",
   "execution_count": 0,
   "metadata": {
    "colab": {},
    "colab_type": "code",
    "id": "1GAQBSCev7b5"
   },
   "outputs": [],
   "source": [
    "# Code taken from kaggle\n",
    "from keras import backend as K\n",
    "from keras.engine.topology import Layer\n",
    "from keras import initializers, regularizers, constraints, optimizers, layers\n",
    "\n",
    "class Attention(Layer):\n",
    "    def __init__(self, step_dim,\n",
    "                 W_regularizer=None, b_regularizer=None,\n",
    "                 W_constraint=None, b_constraint=None,\n",
    "                 bias=True, **kwargs):\n",
    "        self.supports_masking = True\n",
    "        self.init = initializers.get('glorot_uniform')\n",
    "\n",
    "        self.W_regularizer = regularizers.get(W_regularizer)\n",
    "        self.b_regularizer = regularizers.get(b_regularizer)\n",
    "\n",
    "        self.W_constraint = constraints.get(W_constraint)\n",
    "        self.b_constraint = constraints.get(b_constraint)\n",
    "\n",
    "        self.bias = bias\n",
    "        self.step_dim = step_dim\n",
    "        self.features_dim = 0\n",
    "        super(Attention, self).__init__(**kwargs)\n",
    "\n",
    "    def build(self, input_shape):\n",
    "        assert len(input_shape) == 3\n",
    "\n",
    "        self.W = self.add_weight((input_shape[-1],),\n",
    "                                 initializer=self.init,\n",
    "                                 name='{}_W'.format(self.name),\n",
    "                                 regularizer=self.W_regularizer,\n",
    "                                 constraint=self.W_constraint)\n",
    "        self.features_dim = input_shape[-1]\n",
    "\n",
    "        if self.bias:\n",
    "            self.b = self.add_weight((input_shape[1],),\n",
    "                                     initializer='zero',\n",
    "                                     name='{}_b'.format(self.name),\n",
    "                                     regularizer=self.b_regularizer,\n",
    "                                     constraint=self.b_constraint)\n",
    "        else:\n",
    "            self.b = None\n",
    "\n",
    "        self.built = True\n",
    "\n",
    "    def compute_mask(self, input, input_mask=None):\n",
    "        return \n",
    "      \n",
    "    def call(self, x, mask=None):\n",
    "        features_dim = self.features_dim\n",
    "        step_dim = self.step_dim\n",
    "\n",
    "        eij = K.reshape(K.dot(K.reshape(x, (-1, features_dim)),\n",
    "                        K.reshape(self.W, (features_dim, 1))), (-1, step_dim))\n",
    "\n",
    "        if self.bias:\n",
    "            eij += self.b\n",
    "\n",
    "        eij = K.tanh(eij)\n",
    "\n",
    "        a = K.exp(eij)\n",
    "\n",
    "        if mask is not None:\n",
    "            a *= K.cast(mask, K.floatx())\n",
    "\n",
    "        a /= K.cast(K.sum(a, axis=1, keepdims=True) + K.epsilon(), K.floatx())\n",
    "\n",
    "        a = K.expand_dims(a)\n",
    "        weighted_input = x * a\n",
    "        return K.sum(weighted_input, axis=1)\n",
    "\n",
    "    def compute_output_shape(self, input_shape):\n",
    "        return input_shape[0],  self.features_dim"
   ]
  },
  {
   "cell_type": "markdown",
   "metadata": {
    "colab_type": "text",
    "id": "SfZckLoQgoV6"
   },
   "source": [
    "## We are vectorizing train data and will train the model on whole data set"
   ]
  },
  {
   "cell_type": "code",
   "execution_count": 0,
   "metadata": {
    "colab": {},
    "colab_type": "code",
    "id": "XLMeH0L8gXMB"
   },
   "outputs": [],
   "source": [
    "# Tokenizing the essay text data for train dataset\n",
    "# We will train the vectorizer on train data and will use the same on test and cv data.\n",
    "# Credit : https://machinelearningmastery.com/use-word-embedding-layers-deep-learning-keras/\n",
    "# Tokenizing the essay text data for train dataset\n",
    "# We will train the vectorizer on train data and will use the same on test and cv data.\n",
    "# Credit : https://machinelearningmastery.com/use-word-embedding-layers-deep-learning-keras/\n",
    "from keras.preprocessing.text import Tokenizer\n",
    "from keras.preprocessing.sequence import pad_sequences\n",
    "from keras.layers import Dense,Input\n",
    "from numpy import asarray\n",
    "t  = Tokenizer(num_words=80000)\n",
    "t.fit_on_texts(df['comment_text'])\n",
    "vocab_size = len(t.word_index)+1\n",
    "# Integer coding all the words.\n",
    "encoded_essay = t.texts_to_sequences(df['comment_text'])\n",
    "# defining a max size for padding.\n",
    "max_len = 220\n",
    "# padding the vectors of each datapoint to fixed length of 600.\n",
    "train_sequence = pad_sequences(encoded_essay,maxlen = max_len,padding='post')"
   ]
  },
  {
   "cell_type": "code",
   "execution_count": 0,
   "metadata": {
    "colab": {
     "base_uri": "https://localhost:8080/",
     "height": 54
    },
    "colab_type": "code",
    "id": "RrmNUbWnihI8",
    "outputId": "35a0e74a-6e58-436d-f151-a15d793e0f92"
   },
   "outputs": [
    {
     "name": "stderr",
     "output_type": "stream",
     "text": [
      "/usr/local/lib/python3.6/dist-packages/ipykernel_launcher.py:17: FutureWarning: elementwise comparison failed; returning scalar instead, but in the future will perform elementwise comparison\n"
     ]
    }
   ],
   "source": [
    "# we will load the whole glove vectors .\n",
    "embeddings_index1 = {}\n",
    "# Opening the file\n",
    "f = open(\"/content/drive/My Drive/Project/glove.6B.300d.txt\",'r',encoding=\"utf-8\")\n",
    "for line in f:\n",
    "\tvalues = line.split()\n",
    "\tword = values[0]\n",
    "\tcoefs = asarray(values[1:], dtype='float32')\n",
    "\tembeddings_index1[word] = coefs\n",
    "f.close()\n",
    "\n",
    "\n",
    "# Credit : https://machinelearningmastery.com/use-word-embedding-layers-deep-learning-keras/\n",
    "import numpy as np\n",
    "embedding_matrix1 = np.zeros((vocab_size, 300))\n",
    "for word, i in t.word_index.items():\n",
    "  for wrd in [word, word.lower()]:\n",
    "    if wrd in embedding_matrix1:\n",
    "\t    embedding_matrix1[i] = embeddings_index1.get(wrd)"
   ]
  },
  {
   "cell_type": "code",
   "execution_count": 0,
   "metadata": {
    "colab": {
     "base_uri": "https://localhost:8080/",
     "height": 105
    },
    "colab_type": "code",
    "id": "E2oipq77ifVD",
    "outputId": "49004075-db3d-4a23-cfe2-54dca22256eb"
   },
   "outputs": [
    {
     "name": "stderr",
     "output_type": "stream",
     "text": [
      "/usr/local/lib/python3.6/dist-packages/smart_open/smart_open_lib.py:398: UserWarning: This function is deprecated, use smart_open.open instead. See the migration notes for details: https://github.com/RaRe-Technologies/smart_open/blob/master/README.rst#migrating-to-the-new-open-function\n",
      "  'See the migration notes for details: %s' % _MIGRATION_NOTES_URL\n",
      "/usr/local/lib/python3.6/dist-packages/ipykernel_launcher.py:16: FutureWarning: elementwise comparison failed; returning scalar instead, but in the future will perform elementwise comparison\n",
      "  app.launch_new_instance()\n"
     ]
    }
   ],
   "source": [
    "#  Loading crawl vectors\n",
    "from gensim.models import KeyedVectors\n",
    "path = \"/content/drive/My Drive/Project/crawl-300d-2M.gensim\"\n",
    "embeddings_index2 = KeyedVectors.load(path, mmap='r')\n",
    "embedding_matrix2 = np.zeros((len(t.word_index) + 1, 300))\n",
    "for word, i in t.word_index.items():\n",
    "    for candidate in [word, word.lower()]:\n",
    "        if candidate in embeddings_index2:\n",
    "            embedding_matrix2[i] = embeddings_index2[candidate]\n",
    "            break\n",
    "            \n",
    "# Credit : https://machinelearningmastery.com/use-word-embedding-layers-deep-learning-keras/\n",
    "import numpy as np\n",
    "embedding_matrix2 = np.zeros((vocab_size, 300))\n",
    "for word, i in t.word_index.items():\n",
    "  for wrd in [word, word.lower()]:\n",
    "    if wrd in embedding_matrix2:\n",
    "\t    embedding_matrix2[i] = embeddings_index2.get(wrd)"
   ]
  },
  {
   "cell_type": "code",
   "execution_count": 0,
   "metadata": {
    "colab": {},
    "colab_type": "code",
    "id": "QUHJ1jA8m5TK"
   },
   "outputs": [],
   "source": [
    "# Concatenating embedding vectors of glove and crawl together\n",
    "embedding_matrix = np.concatenate([embedding_matrix1, embedding_matrix2], axis=-1)"
   ]
  },
  {
   "cell_type": "code",
   "execution_count": 0,
   "metadata": {
    "colab": {
     "base_uri": "https://localhost:8080/",
     "height": 34
    },
    "colab_type": "code",
    "id": "R0EqQLv8nLPv",
    "outputId": "48ff0da2-6508-4bc2-8450-dcff3a57fc58"
   },
   "outputs": [
    {
     "data": {
      "text/plain": [
       "(280377, 600)"
      ]
     },
     "execution_count": 25,
     "metadata": {
      "tags": []
     },
     "output_type": "execute_result"
    }
   ],
   "source": [
    "embedding_matrix.shape"
   ]
  },
  {
   "cell_type": "code",
   "execution_count": 0,
   "metadata": {
    "colab": {
     "base_uri": "https://localhost:8080/",
     "height": 221
    },
    "colab_type": "code",
    "id": "jvzULe_6khtF",
    "outputId": "f217cee3-2649-4acb-aedb-51797a1067fe"
   },
   "outputs": [
    {
     "name": "stderr",
     "output_type": "stream",
     "text": [
      "100%|██████████| 97320/97320 [00:06<00:00, 15763.02it/s]\n"
     ]
    },
    {
     "data": {
      "text/html": [
       "<div>\n",
       "<style scoped>\n",
       "    .dataframe tbody tr th:only-of-type {\n",
       "        vertical-align: middle;\n",
       "    }\n",
       "\n",
       "    .dataframe tbody tr th {\n",
       "        vertical-align: top;\n",
       "    }\n",
       "\n",
       "    .dataframe thead th {\n",
       "        text-align: right;\n",
       "    }\n",
       "</style>\n",
       "<table border=\"1\" class=\"dataframe\">\n",
       "  <thead>\n",
       "    <tr style=\"text-align: right;\">\n",
       "      <th></th>\n",
       "      <th>id</th>\n",
       "      <th>comment_text</th>\n",
       "    </tr>\n",
       "  </thead>\n",
       "  <tbody>\n",
       "    <tr>\n",
       "      <th>0</th>\n",
       "      <td>7097320</td>\n",
       "      <td>integrity means that you pay your debts does ...</td>\n",
       "    </tr>\n",
       "    <tr>\n",
       "      <th>1</th>\n",
       "      <td>7097321</td>\n",
       "      <td>this malfeasance the administrator and the bo...</td>\n",
       "    </tr>\n",
       "    <tr>\n",
       "      <th>2</th>\n",
       "      <td>7097322</td>\n",
       "      <td>rmiller spoken like true elitist but look out...</td>\n",
       "    </tr>\n",
       "    <tr>\n",
       "      <th>3</th>\n",
       "      <td>7097323</td>\n",
       "      <td>paul thank you for your kind words indeed hav...</td>\n",
       "    </tr>\n",
       "    <tr>\n",
       "      <th>4</th>\n",
       "      <td>7097324</td>\n",
       "      <td>sorry you missed high school eisenhower sent ...</td>\n",
       "    </tr>\n",
       "  </tbody>\n",
       "</table>\n",
       "</div>"
      ],
      "text/plain": [
       "        id                                       comment_text\n",
       "0  7097320   integrity means that you pay your debts does ...\n",
       "1  7097321   this malfeasance the administrator and the bo...\n",
       "2  7097322   rmiller spoken like true elitist but look out...\n",
       "3  7097323   paul thank you for your kind words indeed hav...\n",
       "4  7097324   sorry you missed high school eisenhower sent ..."
      ]
     },
     "execution_count": 26,
     "metadata": {
      "tags": []
     },
     "output_type": "execute_result"
    }
   ],
   "source": [
    "#from google.colab import drive\n",
    "#drive.mount('/content/drive')\n",
    "test_df = pd.read_csv(\"/content/drive/My Drive/Project/test.csv\")\n",
    "\n",
    "# Preprocessing the comments.\n",
    "test_preprocessed = []\n",
    "bad_found = []\n",
    "from tqdm import tqdm\n",
    "for sent in tqdm(test_df['comment_text'].values):\n",
    "    sent = process_sent(sent)\n",
    "    line = ''\n",
    "    for wrd in sent.split():\n",
    "        if(len(wrd)>2):\n",
    "            line += \" \" +wrd.lower()\n",
    "    line = re.sub(r\"[']\",'',line)\n",
    "    test_preprocessed.append(line)\n",
    "    \n",
    "test_df['comment_text'] = test_preprocessed\n",
    "test_df.head()"
   ]
  },
  {
   "cell_type": "code",
   "execution_count": 0,
   "metadata": {
    "colab": {},
    "colab_type": "code",
    "id": "3S7P0SAggXS9"
   },
   "outputs": [],
   "source": [
    "# Vectorizing test data\n",
    "# Integer coding all the words.\n",
    "encoded_essay1 = t.texts_to_sequences(test_df['comment_text'])\n",
    "# defining a max size for padding.\n",
    "max_len = 220\n",
    "# padding the vectors of each datapoint to fixed length of 600.\n",
    "test_sequence1 = pad_sequences(encoded_essay1,maxlen = max_len,padding='post')"
   ]
  },
  {
   "cell_type": "code",
   "execution_count": 0,
   "metadata": {
    "colab": {},
    "colab_type": "code",
    "id": "du9M0cXyapBD"
   },
   "outputs": [],
   "source": [
    "def binarize_label(x):\n",
    "  if(x>=0.5):\n",
    "    return 1\n",
    "  else:\n",
    "    return 0\n",
    "Y = df['target'].map(binarize_label)"
   ]
  },
  {
   "cell_type": "markdown",
   "metadata": {
    "colab_type": "text",
    "id": "YEHSLzm4ZnJE"
   },
   "source": [
    "# Sixth Architecture"
   ]
  },
  {
   "cell_type": "code",
   "execution_count": 0,
   "metadata": {
    "colab": {},
    "colab_type": "code",
    "id": "YSZlQEcxDjPO"
   },
   "outputs": [],
   "source": [
    "from keras.models import Model\n",
    "from keras.layers import Input, Dense, Embedding, SpatialDropout1D, Dropout, add, concatenate, Flatten, Reshape\n",
    "from keras.layers import CuDNNLSTM, Bidirectional, GlobalMaxPooling1D, GlobalAveragePooling1D, GRU, GlobalMaxPool1D\n",
    "from keras.preprocessing import text, sequence\n",
    "from keras.callbacks import LearningRateScheduler\n",
    "from keras.losses import binary_crossentropy\n",
    "from keras import backend as K\n",
    "#from keras_self_attention import SeqSelfAttention\n",
    "#import tensorflow\n",
    "#from tensorflow.keras.layers import Attention\n",
    "\n",
    "max_len = 220\n",
    "embedding_vector_length = 600\n",
    "\n",
    "def build_model():\n",
    "  input1 = Input(shape=(max_len,))\n",
    "  e1 = Embedding(vocab_size,embedding_vector_length, input_length=max_len, weights=[embedding_matrix], trainable=False)(input1)\n",
    "  x = SpatialDropout1D(0.2)(e1)\n",
    "  x = Bidirectional(CuDNNLSTM(128, return_sequences=True))(x)\n",
    "  #x = Bidirectional(CuDNNLSTM(128, return_sequences=True))(x)\n",
    "  att_lstm = Attention(max_len)(x)\n",
    "\n",
    "  gru1, fh_state, bh_state = Bidirectional(GRU(64, return_sequences= True, return_state=True))(x)\n",
    "  #att_gru = Attention(max_len)(gru1)\n",
    "  h_state = concatenate([fh_state, bh_state])\n",
    "\n",
    "  h_avg = GlobalAveragePooling1D()(gru1)\n",
    "  h_max = GlobalMaxPool1D()(gru1)\n",
    "\n",
    "  x = concatenate([att_lstm, h_state, h_avg, h_max])\n",
    "  x = Dropout(0.4)(x)\n",
    "  # Skip connection . It helps in better flow of gradients.\n",
    "  x=  add([x,Dense(640, activation='relu')(x)])\n",
    "  x = add([x,Dense(640, activation='relu')(x)])\n",
    "  #x = Dropout(0.1)(x)\n",
    "  output = Dense(1, activation='sigmoid')(x)\n",
    "\n",
    "  model8 = Model(inputs=[input1,], outputs=[output])\n",
    "  model8.compile(loss=['binary_crossentropy'] , optimizer='adam', metrics=['accuracy'])\n",
    "  model8.summary()\n",
    "  return model8"
   ]
  },
  {
   "cell_type": "code",
   "execution_count": 0,
   "metadata": {
    "colab": {},
    "colab_type": "code",
    "id": "Atkf8QlSJH6O"
   },
   "outputs": [],
   "source": []
  },
  {
   "cell_type": "code",
   "execution_count": 0,
   "metadata": {
    "colab": {},
    "colab_type": "code",
    "id": "fIbZO4LfJH29"
   },
   "outputs": [],
   "source": []
  },
  {
   "cell_type": "code",
   "execution_count": 0,
   "metadata": {
    "colab": {},
    "colab_type": "code",
    "id": "ifQWjQQdJHzW"
   },
   "outputs": [],
   "source": []
  },
  {
   "cell_type": "code",
   "execution_count": 0,
   "metadata": {
    "colab": {
     "base_uri": "https://localhost:8080/",
     "height": 1000
    },
    "colab_type": "code",
    "id": "oznXPJJeF9jo",
    "outputId": "c27bdb57-3c26-427a-9011-1b2dd51b3b8f"
   },
   "outputs": [
    {
     "name": "stdout",
     "output_type": "stream",
     "text": [
      "WARNING:tensorflow:From /usr/local/lib/python3.6/dist-packages/keras/backend/tensorflow_backend.py:66: The name tf.get_default_graph is deprecated. Please use tf.compat.v1.get_default_graph instead.\n",
      "\n",
      "WARNING:tensorflow:From /usr/local/lib/python3.6/dist-packages/keras/backend/tensorflow_backend.py:541: The name tf.placeholder is deprecated. Please use tf.compat.v1.placeholder instead.\n",
      "\n",
      "WARNING:tensorflow:From /usr/local/lib/python3.6/dist-packages/keras/backend/tensorflow_backend.py:4432: The name tf.random_uniform is deprecated. Please use tf.random.uniform instead.\n",
      "\n",
      "WARNING:tensorflow:From /usr/local/lib/python3.6/dist-packages/keras/backend/tensorflow_backend.py:190: The name tf.get_default_session is deprecated. Please use tf.compat.v1.get_default_session instead.\n",
      "\n",
      "WARNING:tensorflow:From /usr/local/lib/python3.6/dist-packages/keras/backend/tensorflow_backend.py:197: The name tf.ConfigProto is deprecated. Please use tf.compat.v1.ConfigProto instead.\n",
      "\n",
      "WARNING:tensorflow:From /usr/local/lib/python3.6/dist-packages/keras/backend/tensorflow_backend.py:3733: calling dropout (from tensorflow.python.ops.nn_ops) with keep_prob is deprecated and will be removed in a future version.\n",
      "Instructions for updating:\n",
      "Please use `rate` instead of `keep_prob`. Rate should be set to `rate = 1 - keep_prob`.\n",
      "WARNING:tensorflow:From /usr/local/lib/python3.6/dist-packages/keras/optimizers.py:793: The name tf.train.Optimizer is deprecated. Please use tf.compat.v1.train.Optimizer instead.\n",
      "\n",
      "WARNING:tensorflow:From /usr/local/lib/python3.6/dist-packages/tensorflow/python/ops/nn_impl.py:180: add_dispatch_support.<locals>.wrapper (from tensorflow.python.ops.array_ops) is deprecated and will be removed in a future version.\n",
      "Instructions for updating:\n",
      "Use tf.where in 2.0, which has the same broadcast rule as np.where\n",
      "Model: \"model_1\"\n",
      "__________________________________________________________________________________________________\n",
      "Layer (type)                    Output Shape         Param #     Connected to                     \n",
      "==================================================================================================\n",
      "input_1 (InputLayer)            (None, 220)          0                                            \n",
      "__________________________________________________________________________________________________\n",
      "embedding_1 (Embedding)         (None, 220, 600)     168226200   input_1[0][0]                    \n",
      "__________________________________________________________________________________________________\n",
      "spatial_dropout1d_1 (SpatialDro (None, 220, 600)     0           embedding_1[0][0]                \n",
      "__________________________________________________________________________________________________\n",
      "bidirectional_1 (Bidirectional) (None, 220, 256)     747520      spatial_dropout1d_1[0][0]        \n",
      "__________________________________________________________________________________________________\n",
      "bidirectional_2 (Bidirectional) [(None, 220, 128), ( 123264      bidirectional_1[0][0]            \n",
      "__________________________________________________________________________________________________\n",
      "attention_1 (Attention)         (None, 256)          476         bidirectional_1[0][0]            \n",
      "__________________________________________________________________________________________________\n",
      "concatenate_1 (Concatenate)     (None, 128)          0           bidirectional_2[0][1]            \n",
      "                                                                 bidirectional_2[0][2]            \n",
      "__________________________________________________________________________________________________\n",
      "global_average_pooling1d_1 (Glo (None, 128)          0           bidirectional_2[0][0]            \n",
      "__________________________________________________________________________________________________\n",
      "global_max_pooling1d_1 (GlobalM (None, 128)          0           bidirectional_2[0][0]            \n",
      "__________________________________________________________________________________________________\n",
      "concatenate_2 (Concatenate)     (None, 640)          0           attention_1[0][0]                \n",
      "                                                                 concatenate_1[0][0]              \n",
      "                                                                 global_average_pooling1d_1[0][0] \n",
      "                                                                 global_max_pooling1d_1[0][0]     \n",
      "__________________________________________________________________________________________________\n",
      "dropout_1 (Dropout)             (None, 640)          0           concatenate_2[0][0]              \n",
      "__________________________________________________________________________________________________\n",
      "dense_1 (Dense)                 (None, 640)          410240      dropout_1[0][0]                  \n",
      "__________________________________________________________________________________________________\n",
      "add_1 (Add)                     (None, 640)          0           dropout_1[0][0]                  \n",
      "                                                                 dense_1[0][0]                    \n",
      "__________________________________________________________________________________________________\n",
      "dense_2 (Dense)                 (None, 640)          410240      add_1[0][0]                      \n",
      "__________________________________________________________________________________________________\n",
      "add_2 (Add)                     (None, 640)          0           add_1[0][0]                      \n",
      "                                                                 dense_2[0][0]                    \n",
      "__________________________________________________________________________________________________\n",
      "dense_3 (Dense)                 (None, 1)            641         add_2[0][0]                      \n",
      "==================================================================================================\n",
      "Total params: 169,918,581\n",
      "Trainable params: 1,692,381\n",
      "Non-trainable params: 168,226,200\n",
      "__________________________________________________________________________________________________\n",
      "Train on 1424658 samples, validate on 356165 samples\n",
      "Epoch 1/10\n"
     ]
    },
    {
     "ename": "InternalError",
     "evalue": "ignored",
     "output_type": "error",
     "traceback": [
      "\u001b[0;31m---------------------------------------------------------------------------\u001b[0m",
      "\u001b[0;31mInternalError\u001b[0m                             Traceback (most recent call last)",
      "\u001b[0;32m<ipython-input-30-4fd27a1f56bd>\u001b[0m in \u001b[0;36m<module>\u001b[0;34m()\u001b[0m\n\u001b[1;32m      1\u001b[0m \u001b[0mmodel8\u001b[0m \u001b[0;34m=\u001b[0m \u001b[0mbuild_model\u001b[0m\u001b[0;34m(\u001b[0m\u001b[0;34m)\u001b[0m\u001b[0;34m\u001b[0m\u001b[0;34m\u001b[0m\u001b[0m\n\u001b[0;32m----> 2\u001b[0;31m \u001b[0mmodel8\u001b[0m\u001b[0;34m.\u001b[0m\u001b[0mfit\u001b[0m\u001b[0;34m(\u001b[0m\u001b[0mtrain_sequence\u001b[0m\u001b[0;34m,\u001b[0m \u001b[0mY\u001b[0m\u001b[0;34m,\u001b[0m \u001b[0mepochs\u001b[0m\u001b[0;34m=\u001b[0m\u001b[0;36m10\u001b[0m\u001b[0;34m,\u001b[0m \u001b[0mbatch_size\u001b[0m\u001b[0;34m=\u001b[0m\u001b[0;36m2048\u001b[0m\u001b[0;34m,\u001b[0m \u001b[0mvalidation_split\u001b[0m\u001b[0;34m=\u001b[0m \u001b[0;36m0.2\u001b[0m\u001b[0;34m)\u001b[0m\u001b[0;34m\u001b[0m\u001b[0;34m\u001b[0m\u001b[0m\n\u001b[0m",
      "\u001b[0;32m/usr/local/lib/python3.6/dist-packages/keras/engine/training.py\u001b[0m in \u001b[0;36mfit\u001b[0;34m(self, x, y, batch_size, epochs, verbose, callbacks, validation_split, validation_data, shuffle, class_weight, sample_weight, initial_epoch, steps_per_epoch, validation_steps, validation_freq, max_queue_size, workers, use_multiprocessing, **kwargs)\u001b[0m\n\u001b[1;32m   1176\u001b[0m                                         \u001b[0msteps_per_epoch\u001b[0m\u001b[0;34m=\u001b[0m\u001b[0msteps_per_epoch\u001b[0m\u001b[0;34m,\u001b[0m\u001b[0;34m\u001b[0m\u001b[0;34m\u001b[0m\u001b[0m\n\u001b[1;32m   1177\u001b[0m                                         \u001b[0mvalidation_steps\u001b[0m\u001b[0;34m=\u001b[0m\u001b[0mvalidation_steps\u001b[0m\u001b[0;34m,\u001b[0m\u001b[0;34m\u001b[0m\u001b[0;34m\u001b[0m\u001b[0m\n\u001b[0;32m-> 1178\u001b[0;31m                                         validation_freq=validation_freq)\n\u001b[0m\u001b[1;32m   1179\u001b[0m \u001b[0;34m\u001b[0m\u001b[0m\n\u001b[1;32m   1180\u001b[0m     def evaluate(self,\n",
      "\u001b[0;32m/usr/local/lib/python3.6/dist-packages/keras/engine/training_arrays.py\u001b[0m in \u001b[0;36mfit_loop\u001b[0;34m(model, fit_function, fit_inputs, out_labels, batch_size, epochs, verbose, callbacks, val_function, val_inputs, shuffle, callback_metrics, initial_epoch, steps_per_epoch, validation_steps, validation_freq)\u001b[0m\n\u001b[1;32m    202\u001b[0m                     \u001b[0mins_batch\u001b[0m\u001b[0;34m[\u001b[0m\u001b[0mi\u001b[0m\u001b[0;34m]\u001b[0m \u001b[0;34m=\u001b[0m \u001b[0mins_batch\u001b[0m\u001b[0;34m[\u001b[0m\u001b[0mi\u001b[0m\u001b[0;34m]\u001b[0m\u001b[0;34m.\u001b[0m\u001b[0mtoarray\u001b[0m\u001b[0;34m(\u001b[0m\u001b[0;34m)\u001b[0m\u001b[0;34m\u001b[0m\u001b[0;34m\u001b[0m\u001b[0m\n\u001b[1;32m    203\u001b[0m \u001b[0;34m\u001b[0m\u001b[0m\n\u001b[0;32m--> 204\u001b[0;31m                 \u001b[0mouts\u001b[0m \u001b[0;34m=\u001b[0m \u001b[0mfit_function\u001b[0m\u001b[0;34m(\u001b[0m\u001b[0mins_batch\u001b[0m\u001b[0;34m)\u001b[0m\u001b[0;34m\u001b[0m\u001b[0;34m\u001b[0m\u001b[0m\n\u001b[0m\u001b[1;32m    205\u001b[0m                 \u001b[0mouts\u001b[0m \u001b[0;34m=\u001b[0m \u001b[0mto_list\u001b[0m\u001b[0;34m(\u001b[0m\u001b[0mouts\u001b[0m\u001b[0;34m)\u001b[0m\u001b[0;34m\u001b[0m\u001b[0;34m\u001b[0m\u001b[0m\n\u001b[1;32m    206\u001b[0m                 \u001b[0;32mfor\u001b[0m \u001b[0ml\u001b[0m\u001b[0;34m,\u001b[0m \u001b[0mo\u001b[0m \u001b[0;32min\u001b[0m \u001b[0mzip\u001b[0m\u001b[0;34m(\u001b[0m\u001b[0mout_labels\u001b[0m\u001b[0;34m,\u001b[0m \u001b[0mouts\u001b[0m\u001b[0;34m)\u001b[0m\u001b[0;34m:\u001b[0m\u001b[0;34m\u001b[0m\u001b[0;34m\u001b[0m\u001b[0m\n",
      "\u001b[0;32m/usr/local/lib/python3.6/dist-packages/keras/backend/tensorflow_backend.py\u001b[0m in \u001b[0;36m__call__\u001b[0;34m(self, inputs)\u001b[0m\n\u001b[1;32m   2977\u001b[0m                     \u001b[0;32mreturn\u001b[0m \u001b[0mself\u001b[0m\u001b[0;34m.\u001b[0m\u001b[0m_legacy_call\u001b[0m\u001b[0;34m(\u001b[0m\u001b[0minputs\u001b[0m\u001b[0;34m)\u001b[0m\u001b[0;34m\u001b[0m\u001b[0;34m\u001b[0m\u001b[0m\n\u001b[1;32m   2978\u001b[0m \u001b[0;34m\u001b[0m\u001b[0m\n\u001b[0;32m-> 2979\u001b[0;31m             \u001b[0;32mreturn\u001b[0m \u001b[0mself\u001b[0m\u001b[0;34m.\u001b[0m\u001b[0m_call\u001b[0m\u001b[0;34m(\u001b[0m\u001b[0minputs\u001b[0m\u001b[0;34m)\u001b[0m\u001b[0;34m\u001b[0m\u001b[0;34m\u001b[0m\u001b[0m\n\u001b[0m\u001b[1;32m   2980\u001b[0m         \u001b[0;32melse\u001b[0m\u001b[0;34m:\u001b[0m\u001b[0;34m\u001b[0m\u001b[0;34m\u001b[0m\u001b[0m\n\u001b[1;32m   2981\u001b[0m             \u001b[0;32mif\u001b[0m \u001b[0mpy_any\u001b[0m\u001b[0;34m(\u001b[0m\u001b[0mis_tensor\u001b[0m\u001b[0;34m(\u001b[0m\u001b[0mx\u001b[0m\u001b[0;34m)\u001b[0m \u001b[0;32mfor\u001b[0m \u001b[0mx\u001b[0m \u001b[0;32min\u001b[0m \u001b[0minputs\u001b[0m\u001b[0;34m)\u001b[0m\u001b[0;34m:\u001b[0m\u001b[0;34m\u001b[0m\u001b[0;34m\u001b[0m\u001b[0m\n",
      "\u001b[0;32m/usr/local/lib/python3.6/dist-packages/keras/backend/tensorflow_backend.py\u001b[0m in \u001b[0;36m_call\u001b[0;34m(self, inputs)\u001b[0m\n\u001b[1;32m   2935\u001b[0m             \u001b[0mfetched\u001b[0m \u001b[0;34m=\u001b[0m \u001b[0mself\u001b[0m\u001b[0;34m.\u001b[0m\u001b[0m_callable_fn\u001b[0m\u001b[0;34m(\u001b[0m\u001b[0;34m*\u001b[0m\u001b[0marray_vals\u001b[0m\u001b[0;34m,\u001b[0m \u001b[0mrun_metadata\u001b[0m\u001b[0;34m=\u001b[0m\u001b[0mself\u001b[0m\u001b[0;34m.\u001b[0m\u001b[0mrun_metadata\u001b[0m\u001b[0;34m)\u001b[0m\u001b[0;34m\u001b[0m\u001b[0;34m\u001b[0m\u001b[0m\n\u001b[1;32m   2936\u001b[0m         \u001b[0;32melse\u001b[0m\u001b[0;34m:\u001b[0m\u001b[0;34m\u001b[0m\u001b[0;34m\u001b[0m\u001b[0m\n\u001b[0;32m-> 2937\u001b[0;31m             \u001b[0mfetched\u001b[0m \u001b[0;34m=\u001b[0m \u001b[0mself\u001b[0m\u001b[0;34m.\u001b[0m\u001b[0m_callable_fn\u001b[0m\u001b[0;34m(\u001b[0m\u001b[0;34m*\u001b[0m\u001b[0marray_vals\u001b[0m\u001b[0;34m)\u001b[0m\u001b[0;34m\u001b[0m\u001b[0;34m\u001b[0m\u001b[0m\n\u001b[0m\u001b[1;32m   2938\u001b[0m         \u001b[0;32mreturn\u001b[0m \u001b[0mfetched\u001b[0m\u001b[0;34m[\u001b[0m\u001b[0;34m:\u001b[0m\u001b[0mlen\u001b[0m\u001b[0;34m(\u001b[0m\u001b[0mself\u001b[0m\u001b[0;34m.\u001b[0m\u001b[0moutputs\u001b[0m\u001b[0;34m)\u001b[0m\u001b[0;34m]\u001b[0m\u001b[0;34m\u001b[0m\u001b[0;34m\u001b[0m\u001b[0m\n\u001b[1;32m   2939\u001b[0m \u001b[0;34m\u001b[0m\u001b[0m\n",
      "\u001b[0;32m/usr/local/lib/python3.6/dist-packages/tensorflow/python/client/session.py\u001b[0m in \u001b[0;36m__call__\u001b[0;34m(self, *args, **kwargs)\u001b[0m\n\u001b[1;32m   1456\u001b[0m         ret = tf_session.TF_SessionRunCallable(self._session._session,\n\u001b[1;32m   1457\u001b[0m                                                \u001b[0mself\u001b[0m\u001b[0;34m.\u001b[0m\u001b[0m_handle\u001b[0m\u001b[0;34m,\u001b[0m \u001b[0margs\u001b[0m\u001b[0;34m,\u001b[0m\u001b[0;34m\u001b[0m\u001b[0;34m\u001b[0m\u001b[0m\n\u001b[0;32m-> 1458\u001b[0;31m                                                run_metadata_ptr)\n\u001b[0m\u001b[1;32m   1459\u001b[0m         \u001b[0;32mif\u001b[0m \u001b[0mrun_metadata\u001b[0m\u001b[0;34m:\u001b[0m\u001b[0;34m\u001b[0m\u001b[0;34m\u001b[0m\u001b[0m\n\u001b[1;32m   1460\u001b[0m           \u001b[0mproto_data\u001b[0m \u001b[0;34m=\u001b[0m \u001b[0mtf_session\u001b[0m\u001b[0;34m.\u001b[0m\u001b[0mTF_GetBuffer\u001b[0m\u001b[0;34m(\u001b[0m\u001b[0mrun_metadata_ptr\u001b[0m\u001b[0;34m)\u001b[0m\u001b[0;34m\u001b[0m\u001b[0;34m\u001b[0m\u001b[0m\n",
      "\u001b[0;31mInternalError\u001b[0m: 2 root error(s) found.\n  (0) Internal: Failed to call ThenRnnForward with model config: [rnn_mode, rnn_input_mode, rnn_direction_mode]: 2, 0, 0 , [num_layers, input_size, num_units, dir_count, max_seq_length, batch_size]: [1, 600, 128, 1, 220, 2048] \n\t [[{{node bidirectional_1/CudnnRNN_1}}]]\n\t [[metrics/acc/Mean_1/_247]]\n  (1) Internal: Failed to call ThenRnnForward with model config: [rnn_mode, rnn_input_mode, rnn_direction_mode]: 2, 0, 0 , [num_layers, input_size, num_units, dir_count, max_seq_length, batch_size]: [1, 600, 128, 1, 220, 2048] \n\t [[{{node bidirectional_1/CudnnRNN_1}}]]\n0 successful operations.\n0 derived errors ignored."
     ]
    }
   ],
   "source": [
    "model8 = build_model()\n",
    "model8.fit(train_sequence, Y, epochs=10, batch_size=2048, validation_split= 0.2)"
   ]
  },
  {
   "cell_type": "code",
   "execution_count": 0,
   "metadata": {
    "colab": {},
    "colab_type": "code",
    "id": "gSLmywU2F8ov"
   },
   "outputs": [],
   "source": [
    "# saving model to google drive\n",
    "from keras.models import load_model\n",
    "model8.save(\"/content/drive/My Drive/Project/my_model1New8.h5\")"
   ]
  },
  {
   "cell_type": "code",
   "execution_count": 0,
   "metadata": {
    "colab": {
     "base_uri": "https://localhost:8080/",
     "height": 34
    },
    "colab_type": "code",
    "id": "fh9dFlVYF8lg",
    "outputId": "099d2773-c691-4d28-f076-1518133333cf"
   },
   "outputs": [
    {
     "name": "stdout",
     "output_type": "stream",
     "text": [
      "Auc of the model is 0.919981223216495\n"
     ]
    }
   ],
   "source": [
    "# Creating loss metric\n",
    "j_eval = JigsawEvaluator(y_binary, y_identity_binary)\n",
    "\n",
    "predicted_y = model8.predict(test_sequence,batch_size=512)\n",
    "final_auc = j_eval.get_final_metric(predicted_y)\n",
    "# This is the auc metric that was given by kaggle.\n",
    "print(\"Auc of the model is {}\".format(final_auc))"
   ]
  },
  {
   "cell_type": "code",
   "execution_count": 0,
   "metadata": {
    "colab": {},
    "colab_type": "code",
    "id": "U01J-0qjF8iW"
   },
   "outputs": [],
   "source": [
    "predict_y = model8.predict(test_sequence1,batch_size=512)"
   ]
  },
  {
   "cell_type": "code",
   "execution_count": 0,
   "metadata": {
    "colab": {},
    "colab_type": "code",
    "id": "5NEeGxHPF8ei"
   },
   "outputs": [],
   "source": [
    "#y_pre = model5.predict(test_sequence1,batch_size=32)\n",
    "submission = pd.DataFrame({'id': test_df['id'].values})\n",
    "submission['prediction'] = predict_y\n",
    "submission.to_csv(\"/content/drive/My Drive/Project/Newsubmission23.csv\",index=False)"
   ]
  },
  {
   "cell_type": "code",
   "execution_count": 0,
   "metadata": {
    "colab": {},
    "colab_type": "code",
    "id": "MPPQPxVQhUlY"
   },
   "outputs": [],
   "source": [
    "from google.colab import files\n",
    "files.download( \"/content/submission23.csv\" )  "
   ]
  },
  {
   "cell_type": "markdown",
   "metadata": {
    "colab_type": "text",
    "id": "oUeYkpDvJXM9"
   },
   "source": [
    "# Seventh Model"
   ]
  },
  {
   "cell_type": "code",
   "execution_count": 2,
   "metadata": {
    "colab": {
     "base_uri": "https://localhost:8080/",
     "height": 34
    },
    "colab_type": "code",
    "id": "U8w1_pCxNJOg",
    "outputId": "27e161d5-11e7-4b8a-c594-31d7518f83e0"
   },
   "outputs": [
    {
     "name": "stderr",
     "output_type": "stream",
     "text": [
      "Using TensorFlow backend.\n"
     ]
    }
   ],
   "source": [
    "# Code taken from kaggle\n",
    "from keras import backend as K\n",
    "from keras.engine.topology import Layer\n",
    "from keras import initializers, regularizers, constraints, optimizers, layers\n",
    "\n",
    "class Attention(Layer):\n",
    "    def __init__(self, step_dim,\n",
    "                 W_regularizer=None, b_regularizer=None,\n",
    "                 W_constraint=None, b_constraint=None,\n",
    "                 bias=True, **kwargs):\n",
    "        self.supports_masking = True\n",
    "        self.init = initializers.get('glorot_uniform')\n",
    "\n",
    "        self.W_regularizer = regularizers.get(W_regularizer)\n",
    "        self.b_regularizer = regularizers.get(b_regularizer)\n",
    "\n",
    "        self.W_constraint = constraints.get(W_constraint)\n",
    "        self.b_constraint = constraints.get(b_constraint)\n",
    "\n",
    "        self.bias = bias\n",
    "        self.step_dim = step_dim\n",
    "        self.features_dim = 0\n",
    "        super(Attention, self).__init__(**kwargs)\n",
    "\n",
    "    def build(self, input_shape):\n",
    "        assert len(input_shape) == 3\n",
    "\n",
    "        self.W = self.add_weight((input_shape[-1],),\n",
    "                                 initializer=self.init,\n",
    "                                 name='{}_W'.format(self.name),\n",
    "                                 regularizer=self.W_regularizer,\n",
    "                                 constraint=self.W_constraint)\n",
    "        self.features_dim = input_shape[-1]\n",
    "\n",
    "        if self.bias:\n",
    "            self.b = self.add_weight((input_shape[1],),\n",
    "                                     initializer='zero',\n",
    "                                     name='{}_b'.format(self.name),\n",
    "                                     regularizer=self.b_regularizer,\n",
    "                                     constraint=self.b_constraint)\n",
    "        else:\n",
    "            self.b = None\n",
    "\n",
    "        self.built = True\n",
    "\n",
    "    def compute_mask(self, input, input_mask=None):\n",
    "        return \n",
    "      \n",
    "    def call(self, x, mask=None):\n",
    "        features_dim = self.features_dim\n",
    "        step_dim = self.step_dim\n",
    "\n",
    "        eij = K.reshape(K.dot(K.reshape(x, (-1, features_dim)),\n",
    "                        K.reshape(self.W, (features_dim, 1))), (-1, step_dim))\n",
    "\n",
    "        if self.bias:\n",
    "            eij += self.b\n",
    "\n",
    "        eij = K.tanh(eij)\n",
    "\n",
    "        a = K.exp(eij)\n",
    "\n",
    "        if mask is not None:\n",
    "            a *= K.cast(mask, K.floatx())\n",
    "\n",
    "        a /= K.cast(K.sum(a, axis=1, keepdims=True) + K.epsilon(), K.floatx())\n",
    "\n",
    "        a = K.expand_dims(a)\n",
    "        weighted_input = x * a\n",
    "        return K.sum(weighted_input, axis=1)\n",
    "\n",
    "    def compute_output_shape(self, input_shape):\n",
    "        return input_shape[0],  self.features_dim"
   ]
  },
  {
   "cell_type": "code",
   "execution_count": 0,
   "metadata": {
    "colab": {},
    "colab_type": "code",
    "id": "116Z6ZPSJbxP"
   },
   "outputs": [],
   "source": [
    "def preprocess(data):\n",
    "    '''\n",
    "    Credit goes to https://www.kaggle.com/gpreda/jigsaw-fast-compact-solution\n",
    "    '''\n",
    "    punct = \"/-'?!.,#$%\\'()*+-/:;<=>@[\\\\]^_`{|}~`\" + '\"\"“”’' + '∞θ÷α•à−β∅³π‘₹´°£€\\×™√²—–&'\n",
    "    def clean_special_chars(text, punct):\n",
    "        for p in punct:\n",
    "            text = text.replace(p, ' ')\n",
    "        return text\n",
    "\n",
    "    data = data.astype(str).apply(lambda x: clean_special_chars(x, punct))\n",
    "    return data"
   ]
  },
  {
   "cell_type": "code",
   "execution_count": 0,
   "metadata": {
    "colab": {},
    "colab_type": "code",
    "id": "J2PqkfY5JbuA"
   },
   "outputs": [],
   "source": [
    "identity_columns = [\n",
    "        'male', 'female', 'homosexual_gay_or_lesbian', 'christian', 'jewish',\n",
    "        'muslim', 'black', 'white', 'psychiatric_or_mental_illness']\n"
   ]
  },
  {
   "cell_type": "code",
   "execution_count": 0,
   "metadata": {
    "colab": {},
    "colab_type": "code",
    "id": "UYNeS3XxKV2M"
   },
   "outputs": [],
   "source": [
    "import pandas as pd\n",
    "df = pd.read_csv(\"/content/drive/My Drive/Project/train.csv\")\n",
    "test_df = pd.read_csv(\"/content/drive/My Drive/Project/test.csv\")"
   ]
  },
  {
   "cell_type": "code",
   "execution_count": 0,
   "metadata": {
    "colab": {},
    "colab_type": "code",
    "id": "ytd4ksoLJbqt"
   },
   "outputs": [],
   "source": [
    "x_train = preprocess(df['comment_text'])\n",
    "x_test = preprocess(test_df['comment_text'])"
   ]
  },
  {
   "cell_type": "code",
   "execution_count": 0,
   "metadata": {
    "colab": {},
    "colab_type": "code",
    "id": "nuBB3dzwJbnM"
   },
   "outputs": [],
   "source": [
    "import numpy as np\n",
    "# calculating weights for each data points. This will be used during loss calculation.\n",
    "# Each of the 4 sections can contribute 25% to the overall weight.\n",
    "\n",
    "# Overall\n",
    "weights = np.ones((len(x_train),)) / 4\n",
    "\n",
    "# Subgroup\n",
    "weights += (df[identity_columns].fillna(0).values>=0.5).sum(axis=1).astype(bool).astype(np.int) / 4\n",
    "\n",
    "# Background Positive, Subgroup Negative\n",
    "weights += (( (df['target'].values>=0.5).astype(bool).astype(np.int) +\n",
    "   (df[identity_columns].fillna(0).values<0.5).sum(axis=1).astype(bool).astype(np.int) ) > 1 ).astype(bool).astype(np.int) / 4\n",
    "\n",
    "# Background Negative, Subgroup Positive\n",
    "weights += (( (df['target'].values<0.5).astype(bool).astype(np.int) +\n",
    "   (df[identity_columns].fillna(0).values>=0.5).sum(axis=1).astype(bool).astype(np.int) ) > 1 ).astype(bool).astype(np.int) / 4\n",
    "loss_weight = 1.0 / weights.mean()"
   ]
  },
  {
   "cell_type": "code",
   "execution_count": 0,
   "metadata": {
    "colab": {},
    "colab_type": "code",
    "id": "-BLxmSQRJbkM"
   },
   "outputs": [],
   "source": [
    "y_train = np.vstack([(df['target'].values>=0.5).astype(np.int),weights]).T\n",
    "y_aux_train = df[['target', 'severe_toxicity', 'obscene', 'identity_attack', 'insult', 'threat']].values"
   ]
  },
  {
   "cell_type": "code",
   "execution_count": 0,
   "metadata": {
    "colab": {},
    "colab_type": "code",
    "id": "qLvrJ56EJqbr"
   },
   "outputs": [],
   "source": [
    "# Tokenizing the essay text data for train dataset\n",
    "# We will train the vectorizer on train data and will use the same on test and cv data.\n",
    "# Credit : https://machinelearningmastery.com/use-word-embedding-layers-deep-learning-keras/\n",
    "# Tokenizing the essay text data for train dataset\n",
    "# We will train the vectorizer on train data and will use the same on test and cv data.\n",
    "# Credit : https://machinelearningmastery.com/use-word-embedding-layers-deep-learning-keras/\n",
    "from keras.preprocessing.text import Tokenizer\n",
    "from keras.preprocessing.sequence import pad_sequences\n",
    "from keras.layers import Dense,Input\n",
    "from numpy import asarray\n",
    "t  = Tokenizer()\n",
    "t.fit_on_texts(list(x_train)+list(x_test))\n",
    "vocab_size = len(t.word_index)+1\n",
    "# Integer coding all the words.\n",
    "encoded_essay = t.texts_to_sequences(x_train)\n",
    "# defining a max size for padding.\n",
    "max_len = 220\n",
    "# padding the vectors of each datapoint to fixed length of 600.\n",
    "train_sequence = pad_sequences(encoded_essay,maxlen = max_len,padding='post')"
   ]
  },
  {
   "cell_type": "code",
   "execution_count": 0,
   "metadata": {
    "colab": {},
    "colab_type": "code",
    "id": "JRYHZ8AjJtXy"
   },
   "outputs": [],
   "source": [
    "# Vectorizing test data\n",
    "# Integer coding all the words.\n",
    "encoded_essay1 = t.texts_to_sequences(x_test)\n",
    "# defining a max size for padding.\n",
    "max_len = 220\n",
    "# padding the vectors of each datapoint to fixed length of 600.\n",
    "test_sequence1 = pad_sequences(encoded_essay1,maxlen = max_len,padding='post')"
   ]
  },
  {
   "cell_type": "code",
   "execution_count": 0,
   "metadata": {
    "colab": {},
    "colab_type": "code",
    "id": "Kx3OTTiYJtUs"
   },
   "outputs": [],
   "source": [
    "\n",
    "# Opening the file\n",
    "def get_embedding(path):\n",
    "  f = open(path,'r',encoding=\"utf-8\")\n",
    "  embeddings_index1 = {}\n",
    "  for line in f:\n",
    "\t  values = line.split()\n",
    "\t  word = values[0]\n",
    "\t  coefs = asarray(values[1:], dtype='float32')\n",
    "\t  embeddings_index1[word] = coefs\n",
    "  f.close()\n",
    "\n",
    "\n",
    "  # Credit : https://machinelearningmastery.com/use-word-embedding-layers-deep-learning-keras/\n",
    "  import numpy as np\n",
    "  embedding_matrix1 = np.zeros((vocab_size, 100))\n",
    "  for word, i in t.word_index.items():\n",
    "    for wrd in [word, word.lower()]:\n",
    "      if wrd in embedding_matrix1:\n",
    "\t      embedding_matrix1[i] = embeddings_index1.get(wrd)\n",
    "  return embedding_matrix1"
   ]
  },
  {
   "cell_type": "code",
   "execution_count": 0,
   "metadata": {
    "colab": {},
    "colab_type": "code",
    "id": "8I6S2cX6JtRz"
   },
   "outputs": [],
   "source": [
    "#  Loading crawl vectors\n",
    "from gensim.models import KeyedVectors\n",
    "def return_embedding(path):\n",
    "    embeddings_index = KeyedVectors.load(path, mmap='r')\n",
    "    embedding_matrix = np.zeros((len(t.word_index) + 1, 300))\n",
    "    for word, i in t.word_index.items():\n",
    "        for candidate in [word, word.lower()]:\n",
    "            if candidate in embeddings_index:\n",
    "                embedding_matrix[i] = embeddings_index[candidate]\n",
    "                break\n",
    "    return embedding_matrix"
   ]
  },
  {
   "cell_type": "code",
   "execution_count": 18,
   "metadata": {
    "colab": {
     "base_uri": "https://localhost:8080/",
     "height": 88
    },
    "colab_type": "code",
    "id": "TvSl-Us1Jqhf",
    "outputId": "73d6d964-7b8e-4fed-e43a-743c9fe4a334"
   },
   "outputs": [
    {
     "name": "stderr",
     "output_type": "stream",
     "text": [
      "/usr/local/lib/python3.6/dist-packages/smart_open/smart_open_lib.py:398: UserWarning: This function is deprecated, use smart_open.open instead. See the migration notes for details: https://github.com/RaRe-Technologies/smart_open/blob/master/README.rst#migrating-to-the-new-open-function\n",
      "  'See the migration notes for details: %s' % _MIGRATION_NOTES_URL\n",
      "/usr/local/lib/python3.6/dist-packages/ipykernel_launcher.py:17: FutureWarning: elementwise comparison failed; returning scalar instead, but in the future will perform elementwise comparison\n"
     ]
    }
   ],
   "source": [
    "import numpy as np\n",
    "path1 = \"/content/drive/My Drive/Project/crawl-300d-2M.gensim\"\n",
    "path2 = \"/content/drive/My Drive/Project/glove.6B.100d.txt\"\n",
    "embedding_matrix = np.concatenate([return_embedding(path1), get_embedding(path2)], axis=-1)"
   ]
  },
  {
   "cell_type": "code",
   "execution_count": 0,
   "metadata": {
    "colab": {},
    "colab_type": "code",
    "id": "6Br8piX9mF2X"
   },
   "outputs": [],
   "source": [
    "def custom_loss(y_true, y_pred):\n",
    "    return binary_crossentropy(K.reshape(y_true[:,0],(-1,1)), y_pred) * y_true[:,1]"
   ]
  },
  {
   "cell_type": "code",
   "execution_count": 0,
   "metadata": {
    "colab": {},
    "colab_type": "code",
    "id": "reJvCRmSJ5Pb"
   },
   "outputs": [],
   "source": [
    "from keras.models import Model\n",
    "from keras.layers import Input, Dense, Embedding, SpatialDropout1D, Dropout, add, concatenate, Flatten, Reshape\n",
    "from keras.layers import CuDNNLSTM, Bidirectional, GlobalMaxPooling1D, GlobalAveragePooling1D, GRU, GlobalMaxPool1D\n",
    "from keras.preprocessing import text, sequence\n",
    "from keras.callbacks import LearningRateScheduler\n",
    "from keras.losses import binary_crossentropy\n",
    "from keras import backend as K\n",
    "\n",
    "max_len = 220\n",
    "embedding_vector_length = 400\n",
    "\n",
    "def build_model(embedding_matrix,loss_weight):\n",
    "  input1 = Input(shape=(max_len,))\n",
    "  e1 = Embedding(vocab_size,embedding_vector_length, input_length=max_len, weights=[embedding_matrix], trainable=False)(input1)\n",
    "  x = SpatialDropout1D(0.2)(e1)\n",
    "  x = Bidirectional(CuDNNLSTM(128, return_sequences=True))(x)\n",
    "  x = Bidirectional(CuDNNLSTM(128, return_sequences=True))(x)\n",
    "  att_lstm = Attention(max_len)(x)\n",
    "\n",
    "\n",
    "  #h_avg = GlobalAveragePooling1D()(x)\n",
    "  h_max = GlobalMaxPooling1D()(x)\n",
    "\n",
    "  x = concatenate([att_lstm, h_max])\n",
    "  # Skip connection . It helps in better flow of gradients.\n",
    "  x=  add([x,Dense(128*4, activation='relu')(x)])\n",
    "  x = add([x,Dense(128*4, activation='relu')(x)])\n",
    "  output = Dense(1, activation='sigmoid')(x)\n",
    "  aux_output = Dense(6, activation='sigmoid')(x)\n",
    "\n",
    "  model = Model(inputs=[input1,], outputs=[output, aux_output])\n",
    "  model.compile(loss=[custom_loss,'binary_crossentropy'] , optimizer='adam', loss_weights=[loss_weight, 1.0] )\n",
    "  #model.summary()\n",
    "  return model"
   ]
  },
  {
   "cell_type": "code",
   "execution_count": 23,
   "metadata": {
    "colab": {
     "base_uri": "https://localhost:8080/",
     "height": 785
    },
    "colab_type": "code",
    "id": "Tx8KM6r_KC7f",
    "outputId": "110f0782-03f5-4c5e-e3bd-9e2078104f42"
   },
   "outputs": [
    {
     "name": "stdout",
     "output_type": "stream",
     "text": [
      "WARNING:tensorflow:From /usr/local/lib/python3.6/dist-packages/keras/optimizers.py:793: The name tf.train.Optimizer is deprecated. Please use tf.compat.v1.train.Optimizer instead.\n",
      "\n",
      "WARNING:tensorflow:From /usr/local/lib/python3.6/dist-packages/tensorflow/python/ops/nn_impl.py:180: add_dispatch_support.<locals>.wrapper (from tensorflow.python.ops.array_ops) is deprecated and will be removed in a future version.\n",
      "Instructions for updating:\n",
      "Use tf.where in 2.0, which has the same broadcast rule as np.where\n",
      "Model: \"model_2\"\n",
      "__________________________________________________________________________________________________\n",
      "Layer (type)                    Output Shape         Param #     Connected to                     \n",
      "==================================================================================================\n",
      "input_3 (InputLayer)            (None, 220)          0                                            \n",
      "__________________________________________________________________________________________________\n",
      "embedding_3 (Embedding)         (None, 220, 400)     130803600   input_3[0][0]                    \n",
      "__________________________________________________________________________________________________\n",
      "spatial_dropout1d_2 (SpatialDro (None, 220, 400)     0           embedding_3[0][0]                \n",
      "__________________________________________________________________________________________________\n",
      "bidirectional_3 (Bidirectional) (None, 220, 256)     542720      spatial_dropout1d_2[0][0]        \n",
      "__________________________________________________________________________________________________\n",
      "bidirectional_4 (Bidirectional) (None, 220, 256)     395264      bidirectional_3[0][0]            \n",
      "__________________________________________________________________________________________________\n",
      "attention_2 (Attention)         (None, 256)          476         bidirectional_4[0][0]            \n",
      "__________________________________________________________________________________________________\n",
      "global_max_pooling1d_2 (GlobalM (None, 256)          0           bidirectional_4[0][0]            \n",
      "__________________________________________________________________________________________________\n",
      "concatenate_2 (Concatenate)     (None, 512)          0           attention_2[0][0]                \n",
      "                                                                 global_max_pooling1d_2[0][0]     \n",
      "__________________________________________________________________________________________________\n",
      "dense_5 (Dense)                 (None, 512)          262656      concatenate_2[0][0]              \n",
      "__________________________________________________________________________________________________\n",
      "add_3 (Add)                     (None, 512)          0           concatenate_2[0][0]              \n",
      "                                                                 dense_5[0][0]                    \n",
      "__________________________________________________________________________________________________\n",
      "dense_6 (Dense)                 (None, 512)          262656      add_3[0][0]                      \n",
      "__________________________________________________________________________________________________\n",
      "add_4 (Add)                     (None, 512)          0           add_3[0][0]                      \n",
      "                                                                 dense_6[0][0]                    \n",
      "__________________________________________________________________________________________________\n",
      "dense_7 (Dense)                 (None, 1)            513         add_4[0][0]                      \n",
      "__________________________________________________________________________________________________\n",
      "dense_8 (Dense)                 (None, 6)            3078        add_4[0][0]                      \n",
      "==================================================================================================\n",
      "Total params: 132,270,963\n",
      "Trainable params: 1,467,363\n",
      "Non-trainable params: 130,803,600\n",
      "__________________________________________________________________________________________________\n"
     ]
    }
   ],
   "source": [
    "build_model(embedding_matrix, loss_weight).summary()"
   ]
  },
  {
   "cell_type": "code",
   "execution_count": 24,
   "metadata": {
    "colab": {
     "base_uri": "https://localhost:8080/",
     "height": 289
    },
    "colab_type": "code",
    "id": "Mp8ejVxbKC4S",
    "outputId": "2d40b236-9440-417c-f8b5-f415ff40c408"
   },
   "outputs": [
    {
     "name": "stdout",
     "output_type": "stream",
     "text": [
      "Epoch 1/1\n",
      "1804874/1804874 [==============================] - 2227s 1ms/step - loss: 0.3051 - dense_11_loss: 0.0612 - dense_12_loss: 0.1089\n",
      "Epoch 1/1\n",
      "1804874/1804874 [==============================] - 2215s 1ms/step - loss: 0.2758 - dense_11_loss: 0.0537 - dense_12_loss: 0.1036\n",
      "Epoch 1/1\n",
      "1804874/1804874 [==============================] - 2212s 1ms/step - loss: 0.2671 - dense_11_loss: 0.0513 - dense_12_loss: 0.1026\n",
      "Epoch 1/1\n",
      "1804874/1804874 [==============================] - 2216s 1ms/step - loss: 0.2612 - dense_11_loss: 0.0496 - dense_12_loss: 0.1021\n",
      "Epoch 1/1\n",
      "1804874/1804874 [==============================] - 2214s 1ms/step - loss: 0.3048 - dense_15_loss: 0.0611 - dense_16_loss: 0.1088\n",
      "Epoch 1/1\n",
      "1804874/1804874 [==============================] - 2207s 1ms/step - loss: 0.2755 - dense_15_loss: 0.0536 - dense_16_loss: 0.1035\n",
      "Epoch 1/1\n",
      "1804874/1804874 [==============================] - 2215s 1ms/step - loss: 0.2667 - dense_15_loss: 0.0512 - dense_16_loss: 0.1025\n",
      "Epoch 1/1\n",
      "1804874/1804874 [==============================] - 2218s 1ms/step - loss: 0.2606 - dense_15_loss: 0.0494 - dense_16_loss: 0.1020\n"
     ]
    }
   ],
   "source": [
    "from keras.callbacks import LearningRateScheduler\n",
    "checkpoint_predictions = []\n",
    "weights = []\n",
    "\n",
    "for model_idx in range(2):\n",
    "    model = build_model(embedding_matrix, loss_weight)\n",
    "    for global_epoch in range(4):\n",
    "        model.fit(\n",
    "            train_sequence,\n",
    "            [y_train, y_aux_train],\n",
    "            batch_size=512,\n",
    "            epochs=1,\n",
    "            verbose=1,\n",
    "            callbacks=[\n",
    "                LearningRateScheduler(lambda epoch: 1e-3 * (0.6 ** global_epoch))\n",
    "            ]\n",
    "        )\n",
    "        checkpoint_predictions.append(model.predict(test_sequence1, batch_size=2048)[0].flatten())\n",
    "        weights.append(2 ** global_epoch)\n",
    "\n",
    "predictions = np.average(checkpoint_predictions, weights=weights, axis=0)"
   ]
  },
  {
   "cell_type": "code",
   "execution_count": 0,
   "metadata": {
    "colab": {},
    "colab_type": "code",
    "id": "8NLcVGi_KC0v"
   },
   "outputs": [],
   "source": [
    "test_df = pd.read_csv(\"/content/drive/My Drive/Project/test.csv\")\n",
    "submission = pd.DataFrame.from_dict({\n",
    "    'id': test_df.id,\n",
    "    'prediction': predictions\n",
    "})\n",
    "submission.to_csv('/content/drive/My Drive/Project/FinalSubmission.csv', index=False)"
   ]
  },
  {
   "cell_type": "code",
   "execution_count": 0,
   "metadata": {
    "colab": {},
    "colab_type": "code",
    "id": "dMCNTgarJqYJ"
   },
   "outputs": [],
   "source": [
    "from keras.models import load_model\n",
    "# Saving the model to gdrive\n",
    "model.save('/content/drive/My Drive/Project/FinalMOdel.h5')"
   ]
  },
  {
   "cell_type": "markdown",
   "metadata": {
    "colab_type": "text",
    "id": "eanGYB2fDNVk"
   },
   "source": [
    "# Conclusion"
   ]
  },
  {
   "cell_type": "code",
   "execution_count": 1,
   "metadata": {
    "colab": {
     "base_uri": "https://localhost:8080/",
     "height": 238
    },
    "colab_type": "code",
    "id": "DdSq7i99e70t",
    "outputId": "418fb88c-242c-4d27-da9c-a4e0cd0fe626"
   },
   "outputs": [
    {
     "name": "stdout",
     "output_type": "stream",
     "text": [
      "+-----------------------------------------------------------+------------------------------+----------+\n",
      "|                           model                           |          vectorizer          | test auc |\n",
      "+-----------------------------------------------------------+------------------------------+----------+\n",
      "|                    Logistic Regression                    |        tfidf unigram         |  0.9465  |\n",
      "|                        Naive Bayes                        |        tfidf unigram         |  0.8755  |\n",
      "|          1 layered Bi-LSTM + self attention layer         |        glove 100dim          |  0.8823  |\n",
      "|                     1 layered Bi-LSTM                     |         glove 100dim         |  0.9038  |\n",
      "|                2 layered Bi-LSTM(200 units)               |        glove 100dim          |  0.9373  |\n",
      "|                2 layered Bi-LSTM(128 units)               |        glove 100dim          |  0.9370  |\n",
      "| 1 layered Bi-LSTM(120 units) + 1 layered Bi-gru(60) units |        glove 300dim          |  0.9550  |\n",
      "|                        2 lstm layer                       |        glove 300 dim         |  0.9505  |\n",
      "|                 2 lstm layer + 1 gru layer                |        glove 300 dim         |  0.9469  |\n",
      "|               2 lstm layer + attention layer              | glove 100dim + crawl 300 dim | 0.93309  |\n",
      "+-----------------------------------------------------------+------------------------------+----------+\n"
     ]
    }
   ],
   "source": [
    "from prettytable import PrettyTable\n",
    "\n",
    "x = PrettyTable(['model','vectorizer','test auc'])\n",
    "x.add_row(['Logistic Regression','tfidf unigram','0.9465'])\n",
    "x.add_row(['Naive Bayes','tfidf unigram','0.8755'])\n",
    "x.add_row(['1 layered Bi-LSTM + self attention layer','glove 100dim ','0.8823'])\n",
    "x.add_row(['1 layered Bi-LSTM','glove 100dim','0.9038'])\n",
    "x.add_row(['2 layered Bi-LSTM(200 units)','glove 100dim ','0.9373'])\n",
    "x.add_row(['2 layered Bi-LSTM(128 units)','glove 100dim ','0.9370'])\n",
    "x.add_row(['1 layered Bi-LSTM(120 units) + 1 layered Bi-gru(60) units','glove 300dim ','0.9550'])\n",
    "x.add_row(['2 lstm layer','glove 300 dim', '0.9505'])\n",
    "x.add_row(['2 lstm layer + 1 gru layer','glove 300 dim', '0.9469'])\n",
    "x.add_row(['2 lstm layer + attention layer','glove 100dim + crawl 300 dim', '0.93309'])\n",
    "print(x)"
   ]
  },
  {
   "cell_type": "markdown",
   "metadata": {
    "colab_type": "text",
    "id": "HX3UKgS38vov"
   },
   "source": [
    "## The best model that we had was the seventh and the last model that gave us an auc of 0.93309 on the kaggle private leader board."
   ]
  },
  {
   "cell_type": "code",
   "execution_count": 0,
   "metadata": {
    "colab": {},
    "colab_type": "code",
    "id": "o35GGrmJaAjO"
   },
   "outputs": [],
   "source": []
  }
 ],
 "metadata": {
  "accelerator": "GPU",
  "colab": {
   "collapsed_sections": [
    "4Qa8JRLoKqQ7",
    "eCbzpZf8Yj_W",
    "NI6ijwfIs9qW",
    "udNfnvCt77z9",
    "9FekWD7s1wZs",
    "YEHSLzm4ZnJE"
   ],
   "machine_shape": "hm",
   "name": "Jigsaw4.ipynb",
   "provenance": []
  },
  "kernelspec": {
   "display_name": "Python 3",
   "language": "python",
   "name": "python3"
  },
  "language_info": {
   "codemirror_mode": {
    "name": "ipython",
    "version": 3
   },
   "file_extension": ".py",
   "mimetype": "text/x-python",
   "name": "python",
   "nbconvert_exporter": "python",
   "pygments_lexer": "ipython3",
   "version": "3.6.5"
  }
 },
 "nbformat": 4,
 "nbformat_minor": 1
}
